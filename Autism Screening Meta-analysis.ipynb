{
 "metadata": {
  "name": ""
 },
 "nbformat": 3,
 "nbformat_minor": 0,
 "worksheets": [
  {
   "cells": [
    {
     "cell_type": "code",
     "collapsed": false,
     "input": [
      "import pandas as pd"
     ],
     "language": "python",
     "metadata": {},
     "outputs": [],
     "prompt_number": 1
    },
    {
     "cell_type": "code",
     "collapsed": false,
     "input": [
      "raw_data = pd.read_csv(\"ASD_screening_data.csv\", na_values=['NR'])\n",
      "raw_data"
     ],
     "language": "python",
     "metadata": {},
     "outputs": [
      {
       "html": [
        "<pre>\n",
        "&lt;class 'pandas.core.frame.DataFrame'&gt;\n",
        "Int64Index: 44 entries, 0 to 43\n",
        "Data columns (total 34 columns):\n",
        "study_id         44  non-null values\n",
        "ref_id           44  non-null values\n",
        "author           44  non-null values\n",
        "year             44  non-null values\n",
        "country          44  non-null values\n",
        "population       44  non-null values\n",
        "screener         44  non-null values\n",
        "arm              19  non-null values\n",
        "age_mean         24  non-null values\n",
        "age_sd           21  non-null values\n",
        "age_lo           28  non-null values\n",
        "age_hi           28  non-null values\n",
        "n_m              36  non-null values\n",
        "n_f              36  non-null values\n",
        "dx_standard      43  non-null values\n",
        "risk_factor      44  non-null values\n",
        "n_screened       43  non-null values\n",
        "screen_pos       43  non-null values\n",
        "n_dx             43  non-null values\n",
        "n_pos            43  non-null values\n",
        "n_neg            43  non-null values\n",
        "n_data           43  non-null values\n",
        "tp               43  non-null values\n",
        "fp               43  non-null values\n",
        "fn               23  non-null values\n",
        "tn               23  non-null values\n",
        "fp_dev_delay     41  non-null values\n",
        "fp_lang_delay    41  non-null values\n",
        "fp_normal        41  non-null values\n",
        "fp_non_asd       41  non-null values\n",
        "tn_dev_delay     18  non-null values\n",
        "tn_lang_delay    19  non-null values\n",
        "tn_normal        18  non-null values\n",
        "tn_non_asd       19  non-null values\n",
        "dtypes: float64(22), int64(2), object(10)\n",
        "</pre>"
       ],
       "metadata": {},
       "output_type": "pyout",
       "prompt_number": 2,
       "text": [
        "<class 'pandas.core.frame.DataFrame'>\n",
        "Int64Index: 44 entries, 0 to 43\n",
        "Data columns (total 34 columns):\n",
        "study_id         44  non-null values\n",
        "ref_id           44  non-null values\n",
        "author           44  non-null values\n",
        "year             44  non-null values\n",
        "country          44  non-null values\n",
        "population       44  non-null values\n",
        "screener         44  non-null values\n",
        "arm              19  non-null values\n",
        "age_mean         24  non-null values\n",
        "age_sd           21  non-null values\n",
        "age_lo           28  non-null values\n",
        "age_hi           28  non-null values\n",
        "n_m              36  non-null values\n",
        "n_f              36  non-null values\n",
        "dx_standard      43  non-null values\n",
        "risk_factor      44  non-null values\n",
        "n_screened       43  non-null values\n",
        "screen_pos       43  non-null values\n",
        "n_dx             43  non-null values\n",
        "n_pos            43  non-null values\n",
        "n_neg            43  non-null values\n",
        "n_data           43  non-null values\n",
        "tp               43  non-null values\n",
        "fp               43  non-null values\n",
        "fn               23  non-null values\n",
        "tn               23  non-null values\n",
        "fp_dev_delay     41  non-null values\n",
        "fp_lang_delay    41  non-null values\n",
        "fp_normal        41  non-null values\n",
        "fp_non_asd       41  non-null values\n",
        "tn_dev_delay     18  non-null values\n",
        "tn_lang_delay    19  non-null values\n",
        "tn_normal        18  non-null values\n",
        "tn_non_asd       19  non-null values\n",
        "dtypes: float64(22), int64(2), object(10)"
       ]
      }
     ],
     "prompt_number": 2
    },
    {
     "cell_type": "markdown",
     "metadata": {},
     "source": [
      "Create M-CHAT-only dataset:"
     ]
    },
    {
     "cell_type": "code",
     "collapsed": false,
     "input": [
      "mchat_data = raw_data[raw_data.screener.apply(lambda x: (x.find('M-CHAT') > -1) & (x.find('9')==-1))]"
     ],
     "language": "python",
     "metadata": {},
     "outputs": [],
     "prompt_number": 3
    },
    {
     "cell_type": "code",
     "collapsed": false,
     "input": [
      "mchat_data = raw_data[(raw_data.screener=='M-CHAT + interview') | (raw_data.screener=='M-CHAT')]"
     ],
     "language": "python",
     "metadata": {},
     "outputs": [],
     "prompt_number": 4
    },
    {
     "cell_type": "code",
     "collapsed": false,
     "input": [
      "mchat_data"
     ],
     "language": "python",
     "metadata": {},
     "outputs": [
      {
       "html": [
        "<pre>\n",
        "&lt;class 'pandas.core.frame.DataFrame'&gt;\n",
        "Int64Index: 8 entries, 1 to 43\n",
        "Data columns (total 34 columns):\n",
        "study_id         8  non-null values\n",
        "ref_id           8  non-null values\n",
        "author           8  non-null values\n",
        "year             8  non-null values\n",
        "country          8  non-null values\n",
        "population       8  non-null values\n",
        "screener         8  non-null values\n",
        "arm              2  non-null values\n",
        "age_mean         3  non-null values\n",
        "age_sd           3  non-null values\n",
        "age_lo           5  non-null values\n",
        "age_hi           5  non-null values\n",
        "n_m              7  non-null values\n",
        "n_f              7  non-null values\n",
        "dx_standard      8  non-null values\n",
        "risk_factor      8  non-null values\n",
        "n_screened       8  non-null values\n",
        "screen_pos       8  non-null values\n",
        "n_dx             8  non-null values\n",
        "n_pos            8  non-null values\n",
        "n_neg            8  non-null values\n",
        "n_data           8  non-null values\n",
        "tp               8  non-null values\n",
        "fp               8  non-null values\n",
        "fn               4  non-null values\n",
        "tn               4  non-null values\n",
        "fp_dev_delay     7  non-null values\n",
        "fp_lang_delay    7  non-null values\n",
        "fp_normal        7  non-null values\n",
        "fp_non_asd       7  non-null values\n",
        "tn_dev_delay     3  non-null values\n",
        "tn_lang_delay    3  non-null values\n",
        "tn_normal        3  non-null values\n",
        "tn_non_asd       3  non-null values\n",
        "dtypes: float64(22), int64(2), object(10)\n",
        "</pre>"
       ],
       "metadata": {},
       "output_type": "pyout",
       "prompt_number": 5,
       "text": [
        "<class 'pandas.core.frame.DataFrame'>\n",
        "Int64Index: 8 entries, 1 to 43\n",
        "Data columns (total 34 columns):\n",
        "study_id         8  non-null values\n",
        "ref_id           8  non-null values\n",
        "author           8  non-null values\n",
        "year             8  non-null values\n",
        "country          8  non-null values\n",
        "population       8  non-null values\n",
        "screener         8  non-null values\n",
        "arm              2  non-null values\n",
        "age_mean         3  non-null values\n",
        "age_sd           3  non-null values\n",
        "age_lo           5  non-null values\n",
        "age_hi           5  non-null values\n",
        "n_m              7  non-null values\n",
        "n_f              7  non-null values\n",
        "dx_standard      8  non-null values\n",
        "risk_factor      8  non-null values\n",
        "n_screened       8  non-null values\n",
        "screen_pos       8  non-null values\n",
        "n_dx             8  non-null values\n",
        "n_pos            8  non-null values\n",
        "n_neg            8  non-null values\n",
        "n_data           8  non-null values\n",
        "tp               8  non-null values\n",
        "fp               8  non-null values\n",
        "fn               4  non-null values\n",
        "tn               4  non-null values\n",
        "fp_dev_delay     7  non-null values\n",
        "fp_lang_delay    7  non-null values\n",
        "fp_normal        7  non-null values\n",
        "fp_non_asd       7  non-null values\n",
        "tn_dev_delay     3  non-null values\n",
        "tn_lang_delay    3  non-null values\n",
        "tn_normal        3  non-null values\n",
        "tn_non_asd       3  non-null values\n",
        "dtypes: float64(22), int64(2), object(10)"
       ]
      }
     ],
     "prompt_number": 5
    },
    {
     "cell_type": "markdown",
     "metadata": {},
     "source": [
      "There were 8 constituent studies in the M-CHAT subset."
     ]
    },
    {
     "cell_type": "code",
     "collapsed": false,
     "input": [
      "mchat_data.study_id.value_counts()"
     ],
     "language": "python",
     "metadata": {},
     "outputs": [
      {
       "metadata": {},
       "output_type": "pyout",
       "prompt_number": 6,
       "text": [
        "22    2\n",
        "9     2\n",
        "15    1\n",
        "20    1\n",
        "1     1\n",
        "8     1\n",
        "dtype: int64"
       ]
      }
     ],
     "prompt_number": 6
    },
    {
     "cell_type": "markdown",
     "metadata": {},
     "source": [
      "Constituent studies were distributed among 5 countries."
     ]
    },
    {
     "cell_type": "code",
     "collapsed": false,
     "input": [
      "mchat_data.country.value_counts()"
     ],
     "language": "python",
     "metadata": {},
     "outputs": [
      {
       "metadata": {},
       "output_type": "pyout",
       "prompt_number": 7,
       "text": [
        "USA       4\n",
        "Spain     2\n",
        "Sweden    1\n",
        "Canada    1\n",
        "dtype: int64"
       ]
      }
     ],
     "prompt_number": 7
    },
    {
     "cell_type": "markdown",
     "metadata": {},
     "source": [
      "Diagnostic standards used among studies:"
     ]
    },
    {
     "cell_type": "code",
     "collapsed": false,
     "input": [
      "mchat_data.dx_standard.value_counts()"
     ],
     "language": "python",
     "metadata": {},
     "outputs": [
      {
       "metadata": {},
       "output_type": "pyout",
       "prompt_number": 8,
       "text": [
        "DSM-IV TR, VABS, Merrill-Palmer revised scales, \\rADOS-G        2\n",
        "DSM-IV, ADOS, GARS, CARS, PDD beh inventory                     2\n",
        "Battelle Developmental Inventory, \\rM-CHAT, and DSM-IV-TR criteria    1\n",
        "DSMIV, ADOS, Vineland, medical records, information from screening assessment    1\n",
        "CARS, DSM-IV & \\rclinical judgement                             1\n",
        "ADOS,  ADI-R, Mullen Scales of early Learning, \\rthe VABSand CARS, DSM-IV    1\n",
        "dtype: int64"
       ]
      }
     ],
     "prompt_number": 8
    },
    {
     "cell_type": "code",
     "collapsed": false,
     "input": [
      "mchat_data.population.value_counts()"
     ],
     "language": "python",
     "metadata": {},
     "outputs": [
      {
       "metadata": {},
       "output_type": "pyout",
       "prompt_number": 9,
       "text": [
        "developmental delay                         4\n",
        "general population                          3\n",
        "general population + developmental delay    1\n",
        "dtype: int64"
       ]
      }
     ],
     "prompt_number": 9
    },
    {
     "cell_type": "code",
     "collapsed": false,
     "input": [
      "mchat_data['population']"
     ],
     "language": "python",
     "metadata": {},
     "outputs": [
      {
       "metadata": {},
       "output_type": "pyout",
       "prompt_number": 10,
       "text": [
        "1                           general population\n",
        "16                         developmental delay\n",
        "17                         developmental delay\n",
        "26                         developmental delay\n",
        "35                         developmental delay\n",
        "38                          general population\n",
        "42    general population + developmental delay\n",
        "43                          general population\n",
        "Name: population, dtype: object"
       ]
      }
     ],
     "prompt_number": 10
    },
    {
     "cell_type": "code",
     "collapsed": false,
     "input": [
      "mchat_data['popval'] = mchat_data['population'].replace({'general population':0, \n",
      "                     'general population + developmental delay':0.5, \n",
      "                     'developmental delay':1})\n",
      "mchat_data.popval"
     ],
     "language": "python",
     "metadata": {},
     "outputs": [
      {
       "metadata": {},
       "output_type": "pyout",
       "prompt_number": 11,
       "text": [
        "1     0.0\n",
        "16    1.0\n",
        "17    1.0\n",
        "26    1.0\n",
        "35    1.0\n",
        "38    0.0\n",
        "42    0.5\n",
        "43    0.0\n",
        "Name: popval, dtype: float64"
       ]
      }
     ],
     "prompt_number": 11
    },
    {
     "cell_type": "markdown",
     "metadata": {},
     "source": [
      "## Meta-analysis of M-CHAT"
     ]
    },
    {
     "cell_type": "markdown",
     "metadata": {},
     "source": [
      "We estimate screening tool sensitivity and specificity based on four cell probabilities that exhaustively describe the outcomes of screening relative to diagnosis:\n",
      "\n",
      "* true positive: $Pr [\\text{screen positive} \\, | \\, \\text{diagnosed} ]$\n",
      "* false negative: $Pr [\\text{screen negative} \\, | \\, \\text{diagnosed} ]$\n",
      "* true negative: $Pr [\\text{screen negative} \\, | \\, \\text{not diagnosed}]$\n",
      "* false positive: $Pr [\\text{screen positive} \\, | \\, \\text{not diagnosed}]$\n",
      "\n",
      "To account for the dependence among these parameters, we modeled sensitivity and specificity jointly as a function of these probabilities. Following (Puggioni et al. 2008), we define random effects submodels for three probabilities:\n",
      "\n",
      "$$\n",
      "\\begin{aligned}\n",
      "\\text{logit}(Pr(D_i = 1 | \\, S_i = 1)) &= \\mu_1 + \\epsilon_{1i} \\cr\n",
      "\\text{logit}(Pr(D_i = 1 | S_i = 0)) &= \\mu_2 + \\epsilon_{1i} \\cr\n",
      "\\text{logit}(Pr(S_i = 1)) &= \\mu_3 + \\epsilon_{1i}\n",
      "\\end{aligned}\n",
      "$$\n",
      "\n",
      "where $D_i$ is the diagnosis (0=negative, 1=positive) from study $i$, $S_i$ is the screening outcome from study $i$, $\\mu_k$ is the population mean (on the logit scale) for probability $k$, and $\\epsilon_{ki}$ is the random effect for probability $k$ in study $i$. Random effects are modeled as simple independent, normally-distributed random variables with zero-mean:\n",
      "\n",
      "$$\\epsilon_{ki} \\sim N(0, \\sigma_k^2)$$\n",
      "\n",
      "Note that each of the three probabilities gets its own random effect variance $\\sigma^2_k$. The probabilities above uniquely determine the sensitivity and specificity rates, via Bayes' formula:\n",
      "\n",
      "$$\n",
      "\\begin{aligned}\n",
      "\\text{sensitivity}_i &= Pr(S_i = 1 | D_i = 1) \\propto Pr(D_i = 1 | S_i = 1) Pr(S_i=1) \\cr\n",
      "\\text{specificity}_i &= Pr(S_i = 0 | D_i = 0) \\propto (1 - Pr(D_i = 1 | S_i = 0))(1 - Pr(S_i = 0))\n",
      "\\end{aligned}\n",
      "$$\n",
      "\n",
      "The data likelihoods for the observed true positive and true negative counts were then modeled as binomial draws from the sum of true positive and false negative counts, and true negative and false positive counts, respectively."
     ]
    },
    {
     "cell_type": "markdown",
     "metadata": {},
     "source": [
      "### Covariates\n",
      "\n",
      "With only 12 studies, there is little scope for incorporating study-level covariates. One interesting difference among the studies is the populations from which samples were derived: they were evenly split between *general population* and *developmental delay*, with one study drawing from both. We therefore attempted to include and indicator for developmental delay in the model."
     ]
    },
    {
     "cell_type": "markdown",
     "metadata": {},
     "source": [
      "### Priors\n",
      "\n",
      "To represent the lack of prior information, vague priors were placed on all stochastic parameters in the model. Namely, the population means for the cell probabilities $\\mu_k$ were given $N(0, 100)$ priors, which are relatively flat on the probability (inverse-logit) scale, and the random effect standard deviations were given uniform priors on the (0, 1000) interval (Gelman et al 2006). Models were fit via Markov chain Monte Carlo (MCMC, Gamerman et al.,1997) using PyMC 3 (Patil e al., 2010). Models were run for 20,000 iterations, with the first 10,000 discarded as a conservative burn-in period, yielding 10000 samples for inference."
     ]
    },
    {
     "cell_type": "markdown",
     "metadata": {},
     "source": [
      "### Model specification"
     ]
    },
    {
     "cell_type": "code",
     "collapsed": false,
     "input": [
      "# Exctract unique study ID values to be used as random effect\n",
      "mchat_studies = mchat_data.study_id.unique()\n",
      "mchat_studies"
     ],
     "language": "python",
     "metadata": {},
     "outputs": [
      {
       "metadata": {},
       "output_type": "pyout",
       "prompt_number": 12,
       "text": [
        "array([ 1,  9, 15,  8, 20, 22])"
       ]
      }
     ],
     "prompt_number": 12
    },
    {
     "cell_type": "code",
     "collapsed": false,
     "input": [
      "study_idx = np.where([mchat_studies==s for s in mchat_data.study_id])[1]\n",
      "study_idx"
     ],
     "language": "python",
     "metadata": {},
     "outputs": [
      {
       "metadata": {},
       "output_type": "pyout",
       "prompt_number": 13,
       "text": [
        "array([0, 1, 1, 2, 3, 4, 5, 5])"
       ]
      }
     ],
     "prompt_number": 13
    },
    {
     "cell_type": "code",
     "collapsed": false,
     "input": [
      "# Identify studies that only recored true positives and false positives\n",
      "ppv_only = mchat_data[mchat_data.fn.isnull()].study_id.unique()\n",
      "ppv_only"
     ],
     "language": "python",
     "metadata": {},
     "outputs": [
      {
       "metadata": {},
       "output_type": "pyout",
       "prompt_number": 14,
       "text": [
        "array([ 8, 20, 22])"
       ]
      }
     ],
     "prompt_number": 14
    },
    {
     "cell_type": "code",
     "collapsed": false,
     "input": [
      "all_values = mchat_data[mchat_data.fn.notnull()].study_id.unique()\n",
      "all_values"
     ],
     "language": "python",
     "metadata": {},
     "outputs": [
      {
       "metadata": {},
       "output_type": "pyout",
       "prompt_number": 15,
       "text": [
        "array([ 1,  9, 15])"
       ]
      }
     ],
     "prompt_number": 15
    },
    {
     "cell_type": "code",
     "collapsed": false,
     "input": [
      "all_data = mchat_data.fn.notnull().values\n",
      "ppv_only = all_data - True\n",
      "ppv_only"
     ],
     "language": "python",
     "metadata": {},
     "outputs": [
      {
       "metadata": {},
       "output_type": "pyout",
       "prompt_number": 16,
       "text": [
        "array([False, False, False, False,  True,  True,  True,  True], dtype=bool)"
       ]
      }
     ],
     "prompt_number": 16
    },
    {
     "cell_type": "code",
     "collapsed": false,
     "input": [
      "all_data = where(mchat_data.fn.notnull().values)[0]\n",
      "all_data"
     ],
     "language": "python",
     "metadata": {},
     "outputs": [
      {
       "metadata": {},
       "output_type": "pyout",
       "prompt_number": 17,
       "text": [
        "array([0, 1, 2, 3])"
       ]
      }
     ],
     "prompt_number": 17
    },
    {
     "cell_type": "code",
     "collapsed": false,
     "input": [
      "ppv_only = where(mchat_data.fn.isnull().values)[0]\n",
      "ppv_only"
     ],
     "language": "python",
     "metadata": {},
     "outputs": [
      {
       "metadata": {},
       "output_type": "pyout",
       "prompt_number": 18,
       "text": [
        "array([4, 5, 6, 7])"
       ]
      }
     ],
     "prompt_number": 18
    },
    {
     "cell_type": "code",
     "collapsed": false,
     "input": [
      "from pymc import Model, Normal, Uniform, Binomial, Deterministic, Beta\n",
      "import theano.tensor as t\n",
      "\n",
      "def tinvlogit(x):\n",
      "    return t.exp(x) / (1 + t.exp(x))\n",
      "\n",
      "covariate = True\n",
      "\n",
      "with Model() as mchat_model:\n",
      "    \n",
      "    tp = mchat_data.tp.values\n",
      "    tn = mchat_data.tn.values\n",
      "    fp = mchat_data.fp.values\n",
      "    fn = mchat_data.fn.values\n",
      "    pop = mchat_data.popval\n",
      "    \n",
      "    if covariate:\n",
      "        \n",
      "        # Effect of study population\n",
      "        beta = Normal('beta', 0., 0.01, shape=3)\n",
      "        \n",
      "        # Study random effects\n",
      "        mu = Normal('mu', 0., 0.01, shape=3)\n",
      "        # Transform to probability scale\n",
      "        Ep = Deterministic('Ep', tinvlogit(mu))\n",
      "        \n",
      "        # Probabilities\n",
      "        p_d1s1 = Deterministic('p_d1s1', tinvlogit(mu[0] + beta[0]*pop))\n",
      "        p_d1s0 = Deterministic('p_d1s0', tinvlogit(mu[1] + beta[1]*pop))\n",
      "        p_s1 = Deterministic('p_s1', tinvlogit(mu[2] + beta[2]*pop))\n",
      "        \n",
      "    else:\n",
      "        \n",
      "        p_d1s1 = Beta('p_d1s1', 1, 1)\n",
      "        p_d1s0 = Beta('p_d1s0', 1, 1)\n",
      "        p_s1 = Beta('p_s1', 1, 1)\n",
      "    \n",
      "    # Probability of positive diagnosis\n",
      "    p_d1 = p_d1s1 * p_s1 + p_d1s0 * (1 - p_s1)\n",
      "    # Probability of negative diagnosis\n",
      "    p_d0 = 1 - p_d1\n",
      "    # Sensitivity (via Bayes)\n",
      "    p_s1d1 = Deterministic('p_s1d1', (p_d1s1 * p_s1) / p_d1)\n",
      "    # Specificity (via Bayes)\n",
      "    p_s0d0 = Deterministic('p_s0d0', (1 - p_d1s0) * (1 - p_s1) / p_d0)\n",
      "    \n",
      "    if covariate:\n",
      "        \n",
      "        # Data likelihoods for sensitivity and specificity\n",
      "        sensitivity = Binomial('sensitivity', n=tp[all_data]+fn[all_data], p=p_s1d1[all_data], \n",
      "                               observed=tp[all_data])\n",
      "        specificity = Binomial('specificity', n=tn[all_data]+fp[all_data], p=p_s0d0[all_data], \n",
      "                               observed=tn[all_data])\n",
      "        \n",
      "        # Data likelihood for PPV\n",
      "        ppv = Binomial('ppv', n=tp[ppv_only]+fp[ppv_only], p=p_d1s1[ppv_only], observed=tp[ppv_only])\n",
      "        \n",
      "    else:\n",
      "    \n",
      "        # Data likelihoods for sensitivity and specificity\n",
      "        sensitivity = Binomial('sensitivity', n=tp[all_data]+fn[all_data], p=p_s1d1, \n",
      "                               observed=tp[all_data])\n",
      "        specificity = Binomial('specificity', n=tn[all_data]+fp[all_data], p=p_s0d0, \n",
      "                               observed=tn[all_data])\n",
      "        \n",
      "        # Data likelihood for PPV\n",
      "        ppv = Binomial('ppv', n=tp[ppv_only]+fp[ppv_only], p=p_d1s1, observed=tp[ppv_only])"
     ],
     "language": "python",
     "metadata": {},
     "outputs": [],
     "prompt_number": 20
    },
    {
     "cell_type": "code",
     "collapsed": false,
     "input": [
      "from pymc import NUTS, Metropolis, sample, Slice, find_MAP, psample\n",
      "\n",
      "with mchat_model:\n",
      "    \n",
      "    #start = {'mu': [0.]*3, 'beta': [0]*3}\n",
      "    \n",
      "    start = find_MAP()\n",
      "    step = NUTS(scaling=start)\n",
      "#     step = Slice()\n",
      "    \n",
      "    tr = psample(5000, step, start)"
     ],
     "language": "python",
     "metadata": {},
     "outputs": [],
     "prompt_number": 21
    },
    {
     "cell_type": "code",
     "collapsed": false,
     "input": [
      "from pymc import summary\n",
      "summary(tr, vars=['Ep'])"
     ],
     "language": "python",
     "metadata": {},
     "outputs": [
      {
       "output_type": "stream",
       "stream": "stdout",
       "text": [
        "\n",
        "Ep:\n",
        " \n",
        "\tMean             SD               MC Error        95% HPD interval\n",
        "\t------------------------------------------------------------------\n",
        "\t0.438            0.033            0.0              [ 0.374  0.504]\n",
        "\t0.228            0.154            0.004            [ 0.006  0.539]\n",
        "\t0.574            0.156            0.004            [ 0.264  0.843]\n",
        "\t\n",
        "\t\n",
        "\tPosterior quantiles:\n",
        "\t\n",
        "\t2.5             25              50              75             97.5\n",
        "\t |---------------|===============|===============|---------------|\n",
        "\t0.373            0.415           0.438          0.462         0.503\n",
        "\t0.034            0.109           0.194          0.311         0.618\n",
        "\t0.232            0.475           0.591          0.693         0.825\n",
        "\t"
       ]
      },
      {
       "output_type": "stream",
       "stream": "stdout",
       "text": [
        "\n"
       ]
      }
     ],
     "prompt_number": 23
    },
    {
     "cell_type": "code",
     "collapsed": false,
     "input": [
      "from pymc import forestplot\n",
      "\n",
      "forestplot(tr[-1000:], vars=['beta'])"
     ],
     "language": "python",
     "metadata": {},
     "outputs": [
      {
       "metadata": {},
       "output_type": "pyout",
       "prompt_number": 24,
       "text": [
        "<matplotlib.gridspec.GridSpec at 0x11784c710>"
       ]
      },
      {
       "metadata": {},
       "output_type": "display_data",
       "png": "[encoded data removed]",
       "text": [
        "<matplotlib.figure.Figure at 0x117c92a50>"
       ]
      }
     ],
     "prompt_number": 24
    },
    {
     "cell_type": "code",
     "collapsed": false,
     "input": [
      "from pymc import forestplot\n",
      "\n",
      "forestplot(tr[-1000:], vars=['p_d1s1', 'p_d1s0', 'p_s1', 'p_s1d1', 'p_s0d0'])"
     ],
     "language": "python",
     "metadata": {},
     "outputs": [
      {
       "metadata": {},
       "output_type": "pyout",
       "prompt_number": 25,
       "text": [
        "<matplotlib.gridspec.GridSpec at 0x117cf3650>"
       ]
      },
      {
       "metadata": {},
       "output_type": "display_data",
       "png": "[encoded data removed]",
       "text": [
        "<matplotlib.figure.Figure at 0x117cf37d0>"
       ]
      }
     ],
     "prompt_number": 25
    },
    {
     "cell_type": "markdown",
     "metadata": {},
     "source": [
      "## Model checking"
     ]
    },
    {
     "cell_type": "code",
     "collapsed": false,
     "input": [
      "rbinom = np.random.binomial\n",
      "\n",
      "tp = mchat_data.tp.values\n",
      "tn = mchat_data.tn.values\n",
      "fp = mchat_data.fp.values\n",
      "fn = mchat_data.fn.values\n",
      "\n",
      "p_sens = tr.traces[0][-1000:]['p_s1d1']\n",
      "\n",
      "x = np.empty((len(all_data), len(p_sens)))\n",
      "for i,d in enumerate(all_data):\n",
      "    \n",
      "    x[i] = rbinom(tp[d]+fn[d], p_sens[:,d])\n",
      "    plt.figure()\n",
      "    plt.hist(x[i])\n",
      "    axvline(x=tp[d], linewidth=2, color='r', linestyle='dotted')"
     ],
     "language": "python",
     "metadata": {},
     "outputs": [
      {
       "metadata": {},
       "output_type": "display_data",
       "png": "[encoded data removed]",
       "text": [
        "<matplotlib.figure.Figure at 0x1156ee9d0>"
       ]
      },
      {
       "metadata": {},
       "output_type": "display_data",
       "png": "[encoded data removed]",
       "text": [
        "<matplotlib.figure.Figure at 0x117cd1450>"
       ]
      },
      {
       "metadata": {},
       "output_type": "display_data",
       "png": "[encoded data removed]",
       "text": [
        "<matplotlib.figure.Figure at 0x117c94210>"
       ]
      },
      {
       "metadata": {},
       "output_type": "display_data",
       "png": "[encoded data removed]",
       "text": [
        "<matplotlib.figure.Figure at 0x117cf17d0>"
       ]
      }
     ],
     "prompt_number": 26
    },
    {
     "cell_type": "code",
     "collapsed": false,
     "input": [
      "p_spec = tr.traces[0][-1000:]['p_s0d0']\n",
      "\n",
      "x_spec = np.empty((len(all_data), len(p_spec)))\n",
      "for i,d in enumerate(all_data):\n",
      "    \n",
      "    x_spec[i] = rbinom(tn[d]+fp[d], p_spec[:,d])\n",
      "    plt.figure()\n",
      "    plt.hist(x_spec[i])\n",
      "    axvline(x=tn[d], linewidth=2, color='r', linestyle='dotted')"
     ],
     "language": "python",
     "metadata": {},
     "outputs": [
      {
       "metadata": {},
       "output_type": "display_data",
       "png": "[encoded data removed]",
       "text": [
        "<matplotlib.figure.Figure at 0x117849b50>"
       ]
      },
      {
       "metadata": {},
       "output_type": "display_data",
       "png": "[encoded data removed]",
       "text": [
        "<matplotlib.figure.Figure at 0x116f1a590>"
       ]
      },
      {
       "metadata": {},
       "output_type": "display_data",
       "png": "[encoded data removed]",
       "text": [
        "<matplotlib.figure.Figure at 0x117ce5190>"
       ]
      },
      {
       "metadata": {},
       "output_type": "display_data",
       "png": "[encoded data removed]",
       "text": [
        "<matplotlib.figure.Figure at 0x11780e6d0>"
       ]
      }
     ],
     "prompt_number": 27
    },
    {
     "cell_type": "code",
     "collapsed": false,
     "input": [
      "p_ppv = tr.traces[0][-1000:]['p_d1s1']\n",
      "\n",
      "x_ppv = np.empty((len(ppv_only), len(p_ppv)))\n",
      "for i,d in enumerate(ppv_only):\n",
      "    \n",
      "    x_ppv[i] = rbinom(tp[d]+fp[d], p_ppv[:,d])\n",
      "    plt.figure()\n",
      "    plt.hist(x_ppv[i])\n",
      "    axvline(x=tp[d], linewidth=2, color='r', linestyle='dotted')"
     ],
     "language": "python",
     "metadata": {},
     "outputs": [
      {
       "metadata": {},
       "output_type": "display_data",
       "png": "[encoded data removed]",
       "text": [
        "<matplotlib.figure.Figure at 0x1179bbad0>"
       ]
      },
      {
       "metadata": {},
       "output_type": "display_data",
       "png": "[encoded data removed]",
       "text": [
        "<matplotlib.figure.Figure at 0x1174faa90>"
       ]
      },
      {
       "metadata": {},
       "output_type": "display_data",
       "png": "[encoded data removed]",
       "text": [
        "<matplotlib.figure.Figure at 0x117999790>"
       ]
      },
      {
       "metadata": {},
       "output_type": "display_data",
       "png": "[encoded data removed]",
       "text": [
        "<matplotlib.figure.Figure at 0x117cb6a90>"
       ]
      }
     ],
     "prompt_number": 28
    },
    {
     "cell_type": "markdown",
     "metadata": {},
     "source": [
      "## Global meta-analysis\n",
      "\n",
      "We are treating both the tool and the study ID as random effects."
     ]
    },
    {
     "cell_type": "code",
     "collapsed": false,
     "input": [
      "data = raw_data\n",
      "data"
     ],
     "language": "python",
     "metadata": {},
     "outputs": [
      {
       "html": [
        "<pre>\n",
        "&lt;class 'pandas.core.frame.DataFrame'&gt;\n",
        "Int64Index: 44 entries, 0 to 43\n",
        "Data columns (total 34 columns):\n",
        "study_id         44  non-null values\n",
        "ref_id           44  non-null values\n",
        "author           44  non-null values\n",
        "year             44  non-null values\n",
        "country          44  non-null values\n",
        "population       44  non-null values\n",
        "screener         44  non-null values\n",
        "arm              19  non-null values\n",
        "age_mean         24  non-null values\n",
        "age_sd           21  non-null values\n",
        "age_lo           28  non-null values\n",
        "age_hi           28  non-null values\n",
        "n_m              36  non-null values\n",
        "n_f              36  non-null values\n",
        "dx_standard      43  non-null values\n",
        "risk_factor      44  non-null values\n",
        "n_screened       43  non-null values\n",
        "screen_pos       43  non-null values\n",
        "n_dx             43  non-null values\n",
        "n_pos            43  non-null values\n",
        "n_neg            43  non-null values\n",
        "n_data           43  non-null values\n",
        "tp               43  non-null values\n",
        "fp               43  non-null values\n",
        "fn               23  non-null values\n",
        "tn               23  non-null values\n",
        "fp_dev_delay     41  non-null values\n",
        "fp_lang_delay    41  non-null values\n",
        "fp_normal        41  non-null values\n",
        "fp_non_asd       41  non-null values\n",
        "tn_dev_delay     18  non-null values\n",
        "tn_lang_delay    19  non-null values\n",
        "tn_normal        18  non-null values\n",
        "tn_non_asd       19  non-null values\n",
        "dtypes: float64(22), int64(2), object(10)\n",
        "</pre>"
       ],
       "metadata": {},
       "output_type": "pyout",
       "prompt_number": 19,
       "text": [
        "<class 'pandas.core.frame.DataFrame'>\n",
        "Int64Index: 44 entries, 0 to 43\n",
        "Data columns (total 34 columns):\n",
        "study_id         44  non-null values\n",
        "ref_id           44  non-null values\n",
        "author           44  non-null values\n",
        "year             44  non-null values\n",
        "country          44  non-null values\n",
        "population       44  non-null values\n",
        "screener         44  non-null values\n",
        "arm              19  non-null values\n",
        "age_mean         24  non-null values\n",
        "age_sd           21  non-null values\n",
        "age_lo           28  non-null values\n",
        "age_hi           28  non-null values\n",
        "n_m              36  non-null values\n",
        "n_f              36  non-null values\n",
        "dx_standard      43  non-null values\n",
        "risk_factor      44  non-null values\n",
        "n_screened       43  non-null values\n",
        "screen_pos       43  non-null values\n",
        "n_dx             43  non-null values\n",
        "n_pos            43  non-null values\n",
        "n_neg            43  non-null values\n",
        "n_data           43  non-null values\n",
        "tp               43  non-null values\n",
        "fp               43  non-null values\n",
        "fn               23  non-null values\n",
        "tn               23  non-null values\n",
        "fp_dev_delay     41  non-null values\n",
        "fp_lang_delay    41  non-null values\n",
        "fp_normal        41  non-null values\n",
        "fp_non_asd       41  non-null values\n",
        "tn_dev_delay     18  non-null values\n",
        "tn_lang_delay    19  non-null values\n",
        "tn_normal        18  non-null values\n",
        "tn_non_asd       19  non-null values\n",
        "dtypes: float64(22), int64(2), object(10)"
       ]
      }
     ],
     "prompt_number": 19
    },
    {
     "cell_type": "code",
     "collapsed": false,
     "input": [
      "data['population'].value_counts()"
     ],
     "language": "python",
     "metadata": {},
     "outputs": [
      {
       "metadata": {},
       "output_type": "pyout",
       "prompt_number": 20,
       "text": [
        "general population                          21\n",
        "developmental delay                         20\n",
        "sibling                                      2\n",
        "general population + developmental delay     1\n",
        "dtype: int64"
       ]
      }
     ],
     "prompt_number": 20
    },
    {
     "cell_type": "markdown",
     "metadata": {},
     "source": [
      "Dropping studies with sibling population"
     ]
    },
    {
     "cell_type": "code",
     "collapsed": false,
     "input": [
      "data.population[data.population=='sibling'] = None\n",
      "data = data[data.population.notnull()]"
     ],
     "language": "python",
     "metadata": {},
     "outputs": [],
     "prompt_number": 21
    },
    {
     "cell_type": "code",
     "collapsed": false,
     "input": [
      "data.population.value_counts()"
     ],
     "language": "python",
     "metadata": {},
     "outputs": [
      {
       "metadata": {},
       "output_type": "pyout",
       "prompt_number": 22,
       "text": [
        "general population                          21\n",
        "developmental delay                         20\n",
        "general population + developmental delay     1\n",
        "dtype: int64"
       ]
      }
     ],
     "prompt_number": 22
    },
    {
     "cell_type": "code",
     "collapsed": false,
     "input": [
      "data['popval'] = data['population'].replace({'general population':0, \n",
      "                     'general population + developmental delay':0.5, \n",
      "                     'developmental delay':1})"
     ],
     "language": "python",
     "metadata": {},
     "outputs": [],
     "prompt_number": 23
    },
    {
     "cell_type": "markdown",
     "metadata": {},
     "source": [
      "Aggregate screener types"
     ]
    },
    {
     "cell_type": "code",
     "collapsed": false,
     "input": [
      "data.screener[data.screener.apply(lambda x: (x.find('M-CHAT') ==0 ))] = 'MCHAT'"
     ],
     "language": "python",
     "metadata": {},
     "outputs": [],
     "prompt_number": 24
    },
    {
     "cell_type": "code",
     "collapsed": false,
     "input": [
      "data.screener[data.screener.apply(lambda x: (x.find('CHAT') ==0 ))] = 'CHAT'"
     ],
     "language": "python",
     "metadata": {},
     "outputs": [],
     "prompt_number": 25
    },
    {
     "cell_type": "code",
     "collapsed": false,
     "input": [
      "data.screener[data.screener.apply(lambda x: (x.find('ESAT') ==0 ))] = 'ESAT'"
     ],
     "language": "python",
     "metadata": {},
     "outputs": [],
     "prompt_number": 26
    },
    {
     "cell_type": "code",
     "collapsed": false,
     "input": [
      "data.screener[data.screener.apply(lambda x: (x.find('CSBS') > -1 )|(x.find('ITC') > -1 ))] = 'CSBS-ITC'"
     ],
     "language": "python",
     "metadata": {},
     "outputs": [],
     "prompt_number": 27
    },
    {
     "cell_type": "code",
     "collapsed": false,
     "input": [
      "data.screener[data.screener.apply(lambda x: (x.find('Biscuit') ==0 ))] = 'Biscuit'"
     ],
     "language": "python",
     "metadata": {},
     "outputs": [],
     "prompt_number": 28
    },
    {
     "cell_type": "code",
     "collapsed": false,
     "input": [
      "data.screener.value_counts()"
     ],
     "language": "python",
     "metadata": {},
     "outputs": [
      {
       "metadata": {},
       "output_type": "pyout",
       "prompt_number": 29,
       "text": [
        "MCHAT                11\n",
        "CHAT                  6\n",
        "ESAT                  5\n",
        "SCQ                   5\n",
        "CSBS-ITC              4\n",
        "Biscuit               3\n",
        "SACS checklists       3\n",
        "PDDST 1-2             2\n",
        "YACHT-18              1\n",
        "JA-OBS                1\n",
        "DBC-Early Screen      1\n",
        "dtype: int64"
       ]
      }
     ],
     "prompt_number": 29
    },
    {
     "cell_type": "code",
     "collapsed": false,
     "input": [
      "screener = data.screener.unique()"
     ],
     "language": "python",
     "metadata": {},
     "outputs": [],
     "prompt_number": 30
    },
    {
     "cell_type": "code",
     "collapsed": false,
     "input": [
      "screen_idx = np.where([screener==s for s in data.screener])[1]\n",
      "screen_idx"
     ],
     "language": "python",
     "metadata": {},
     "outputs": [
      {
       "metadata": {},
       "output_type": "pyout",
       "prompt_number": 31,
       "text": [
        "array([ 0,  1,  1,  2,  2,  3,  4,  5,  3,  3,  2,  4,  6,  6,  7,  1,  1,\n",
        "        6,  6,  8,  3,  6,  4,  4,  1,  4,  9,  9,  3,  3,  7,  2,  7,  1,\n",
        "        1,  1,  1, 10, 10, 10,  1,  1])"
       ]
      }
     ],
     "prompt_number": 31
    },
    {
     "cell_type": "code",
     "collapsed": false,
     "input": [
      "# Exctract unique study ID values to be used as random effect\n",
      "studies = data.study_id.unique()\n",
      "studies"
     ],
     "language": "python",
     "metadata": {},
     "outputs": [
      {
       "metadata": {},
       "output_type": "pyout",
       "prompt_number": 32,
       "text": [
        "array([ 1,  2,  3,  5,  6,  7,  8,  9, 10, 11, 12, 15, 16, 17, 18, 19, 20,\n",
        "       21, 22])"
       ]
      }
     ],
     "prompt_number": 32
    },
    {
     "cell_type": "code",
     "collapsed": false,
     "input": [
      "study_idx = np.where([studies==s for s in data.study_id])[1]\n",
      "study_idx"
     ],
     "language": "python",
     "metadata": {},
     "outputs": [
      {
       "metadata": {},
       "output_type": "pyout",
       "prompt_number": 33,
       "text": [
        "array([ 0,  0,  0,  1,  2,  3,  4,  5,  4,  4,  4,  4,  4,  4,  6,  7,  7,\n",
        "        7,  7,  8,  9, 10,  4,  4, 11,  4, 12, 12, 13, 13,  6, 14,  6,  6,\n",
        "       15, 15, 16, 17, 17, 17, 18, 18])"
       ]
      }
     ],
     "prompt_number": 33
    },
    {
     "cell_type": "code",
     "collapsed": false,
     "input": [
      "# Identify studies that only recored true positives and false positives\n",
      "ppv_values = data[data.fn.isnull()].study_id.unique()\n",
      "ppv_values"
     ],
     "language": "python",
     "metadata": {},
     "outputs": [
      {
       "metadata": {},
       "output_type": "pyout",
       "prompt_number": 34,
       "text": [
        "array([ 6, 11, 16, 17,  8, 20, 21, 22])"
       ]
      }
     ],
     "prompt_number": 34
    },
    {
     "cell_type": "code",
     "collapsed": false,
     "input": [
      "all_values = data[data.fn.notnull()].study_id.unique()\n",
      "all_values"
     ],
     "language": "python",
     "metadata": {},
     "outputs": [
      {
       "metadata": {},
       "output_type": "pyout",
       "prompt_number": 35,
       "text": [
        "array([ 1,  2,  3,  5,  7,  8,  9, 10, 12, 15, 17, 18, 19])"
       ]
      }
     ],
     "prompt_number": 35
    },
    {
     "cell_type": "code",
     "collapsed": false,
     "input": [
      "all_data = data.fn.notnull().values\n",
      "ppv_only = all_data - True\n",
      "ppv_only"
     ],
     "language": "python",
     "metadata": {},
     "outputs": [
      {
       "metadata": {},
       "output_type": "pyout",
       "prompt_number": 36,
       "text": [
        "array([False, False, False, False, False, False,  True, False,  True,\n",
        "        True,  True,  True,  True,  True, False, False, False, False,\n",
        "       False, False,  True, False,  True,  True, False,  True,  True,\n",
        "        True, False,  True, False, False, False,  True, False, False,\n",
        "        True,  True,  True,  True,  True,  True], dtype=bool)"
       ]
      }
     ],
     "prompt_number": 36
    },
    {
     "cell_type": "code",
     "collapsed": false,
     "input": [
      "all_data = where(data.fn.notnull().values)[0]\n",
      "all_data"
     ],
     "language": "python",
     "metadata": {},
     "outputs": [
      {
       "metadata": {},
       "output_type": "pyout",
       "prompt_number": 37,
       "text": [
        "array([ 0,  1,  2,  3,  4,  5,  7, 14, 15, 16, 17, 18, 19, 21, 24, 28, 30,\n",
        "       31, 32, 34, 35])"
       ]
      }
     ],
     "prompt_number": 37
    },
    {
     "cell_type": "code",
     "collapsed": false,
     "input": [
      "ppv_only = where(data.fn.isnull().values)[0]\n",
      "ppv_only"
     ],
     "language": "python",
     "metadata": {},
     "outputs": [
      {
       "metadata": {},
       "output_type": "pyout",
       "prompt_number": 38,
       "text": [
        "array([ 6,  8,  9, 10, 11, 12, 13, 20, 22, 23, 25, 26, 27, 29, 33, 36, 37,\n",
        "       38, 39, 40, 41])"
       ]
      }
     ],
     "prompt_number": 38
    },
    {
     "cell_type": "code",
     "collapsed": false,
     "input": [
      "from pymc import Model, Normal, Uniform, Binomial, Deterministic\n",
      "import theano.tensor as t\n",
      "\n",
      "def tinvlogit(x):\n",
      "    return t.exp(x) / (1 + t.exp(x))\n",
      "\n",
      "covariate = True\n",
      "\n",
      "with Model() as global_model:\n",
      "    \n",
      "    tp = data.tp.values\n",
      "    tn = data.tn.values\n",
      "    fp = data.fp.values\n",
      "    fn = data.fn.values\n",
      "    pop = data.popval\n",
      "    \n",
      "    # Study random effects\n",
      "    mu = Normal('mu', 0., 0.01, shape=3)\n",
      "    # Transform to probability scale\n",
      "    Ep = Deterministic('Ep', tinvlogit(mu))\n",
      "    \n",
      "    # Random effects sd\n",
      "    sigma_e = Uniform('sigma_e', 0, 100, shape=3)\n",
      "    tau_e = sigma_e**-2\n",
      "    sigma_g = Uniform('sigma_g', 0, 100, shape=3)\n",
      "    tau_g = sigma_g**-2\n",
      "    \n",
      "    # Study random effects\n",
      "    epsilon_d1s1 = Normal('epsilon_d1s1', 0.0, tau_e[0], shape=len(studies))\n",
      "    epsilon_d1s0 = Normal('epsilon_d1s0', 0.0, tau_e[1], shape=len(studies))\n",
      "    epsilon_s1 = Normal('epsilon_s1', 0.0, tau_e[2], shape=len(studies))\n",
      "    \n",
      "    # Study random effects\n",
      "    gamma_d1s1 = Normal('gamma_d1s1', 0.0, tau_g[0], shape=len(screener))\n",
      "    gamma_d1s0 = Normal('gamma_d1s0', 0.0, tau_g[1], shape=len(screener))\n",
      "    gamma_s1 = Normal('gamma_s1', 0.0, tau_g[2], shape=len(screener))\n",
      "    \n",
      "    if covariate:\n",
      "        \n",
      "        # Effect of study population\n",
      "        beta = Normal('beta', 0., 0.01, shape=3)\n",
      "        \n",
      "        # Probabilities\n",
      "        p_d1s1 = Deterministic('p_d1s1', tinvlogit(mu[0] + beta[0]*pop \n",
      "                                + epsilon_d1s1[study_idx] + gamma_d1s1[screen_idx]))\n",
      "        p_d1s0 = Deterministic('p_d1s0', tinvlogit(mu[1] + beta[1]*pop \n",
      "                                + epsilon_d1s0[study_idx] + gamma_d1s0[screen_idx]))\n",
      "        p_s1 = Deterministic('p_s1', tinvlogit(mu[2] + beta[2]*pop \n",
      "                                + epsilon_s1[study_idx] + gamma_s1[screen_idx]))\n",
      "        \n",
      "    else:\n",
      "        \n",
      "        # Probabilities\n",
      "        p_d1s1 = Deterministic('p_d1s1', tinvlogit(mu[0] + epsilon_d1s1[study_idx]\n",
      "                                        + gamma_d1s1[screen_idx]))\n",
      "        p_d1s0 = Deterministic('p_d1s0', tinvlogit(mu[1] + epsilon_d1s0[study_idx]\n",
      "                                        + gamma_d1s0[screen_idx]))\n",
      "        p_s1 = Deterministic('p_s1', tinvlogit(mu[2] + epsilon_s1[study_idx]\n",
      "                                        + gamma_s1[screen_idx]))\n",
      "    \n",
      "    p_d1 = (p_d1s1 * p_s1 + p_d1s0 * (1 - p_s1) + 1e-6)\n",
      "    p_d0 = 1 - p_d1\n",
      "    p_sens = (p_d1s1 * p_s1) / p_d1 \n",
      "    p_spec = ((1 - p_d1s1) * (1 - p_s1)) / p_d0\n",
      "    \n",
      "    E_sens = Deterministic('E_sens', \n",
      "                    (Ep[0] * Ep[2]) / (Ep[0] * Ep[2] + Ep[1] * (1 - Ep[2]) + 1e-6))\n",
      "    E_spec = Deterministic('E_spec', \n",
      "                ((1 - Ep[0]) * (1 - Ep[2])) / (1. - (Ep[0] * Ep[2] + Ep[1] * (1 - Ep[2]) + 1e-6)))\n",
      "    \n",
      "    # Data likelihoods\n",
      "    sensitivity = Binomial('sensitivity', n=tp[all_data]+fn[all_data], p=p_sens[all_data], \n",
      "                           observed=tp[all_data])\n",
      "    specificity = Binomial('specificity', n=tn[all_data]+fp[all_data], p=p_spec[all_data], \n",
      "                           observed=tn[all_data])\n",
      "    \n",
      "    ppv = Binomial('ppv', n=tp[ppv_only]+fp[ppv_only], p=p_d1s1[ppv_only], observed=tp[ppv_only])"
     ],
     "language": "python",
     "metadata": {},
     "outputs": [],
     "prompt_number": 39
    },
    {
     "cell_type": "code",
     "collapsed": false,
     "input": [
      "from pymc import NUTS, psample, find_MAP\n",
      "\n",
      "with global_model:\n",
      "    \n",
      "    #start = {'mu': [0.]*3, 'beta': [0]*3}\n",
      "    \n",
      "    start = find_MAP()\n",
      "    step = NUTS()\n",
      "#     step = Slice()\n",
      "    \n",
      "    tr_global = psample(2000, step, start)"
     ],
     "language": "python",
     "metadata": {},
     "outputs": [
      {
       "ename": "ValueError",
       "evalue": "Optimization error: max, logp or dlogp at max have bad values. Some values may be outside of distribution support. max: array([ -4.28973800e+03,   4.51925929e+03,  -9.03849729e+03,\n         4.96200000e+01,   4.96200000e+01,   4.96200000e+01,\n         4.97800000e+01,   4.97800000e+01,   4.97800000e+01,\n         2.50000740e+01,   3.57501125e+01,   5.75001350e+00,\n         3.50005000e+00,   1.58500000e+02,   3.75001150e+00,\n        -3.15497959e+02,   2.60001210e+01,   2.42501035e+01,\n        -5.00000000e-01,   9.00010000e+00,   1.45000410e+01,\n         2.50000000e+01,  -3.85224188e+03,   1.30000300e+01,\n        -4.89498813e+02,   6.50000000e+00,   4.70000000e+01,\n        -2.95000000e+01,  -2.49999840e+01,  -3.57501915e+01,\n        -5.75002450e+00,  -3.49999200e+00,   0.00000000e+00,\n        -3.75001050e+00,   3.35001515e+02,  -2.60000370e+01,\n        -2.42500125e+01,   0.00000000e+00,  -9.00002200e+00,\n        -1.45000110e+01,   0.00000000e+00,   3.85525725e+03,\n        -1.29999780e+01,   4.89500795e+02,   0.00000000e+00,\n         0.00000000e+00,   0.00000000e+00,   5.00000580e+01,\n         7.15003040e+01,   1.15000380e+01,   7.00004200e+00,\n         0.00000000e+00,   7.50002200e+00,  -6.69999474e+02,\n         5.20001580e+01,   4.85001160e+01,   0.00000000e+00,\n         1.80001220e+01,   2.90000520e+01,   0.00000000e+00,\n        -7.71049913e+03,   2.60000080e+01,  -9.78999608e+02,\n         0.00000000e+00,   0.00000000e+00,   0.00000000e+00,\n         8.00002400e+00,  -4.47498666e+02,   9.55001560e+01,\n        -3.80224183e+03,  -8.00000000e+00,   3.75001150e+00,\n         9.95001650e+01,  -3.34997959e+02,   2.42501035e+01,\n         2.50000000e+01,   4.70000000e+01,  -7.99999400e+00,\n         4.44000782e+02,  -5.45001940e+01,   3.85175726e+03,\n         0.00000000e+00,  -3.75001050e+00,  -2.10000470e+01,\n         3.35001515e+02,  -2.42500125e+01,   0.00000000e+00,\n         0.00000000e+00,   1.60000180e+01,  -8.87999448e+02,\n         1.09000350e+02,  -7.70349909e+03,   0.00000000e+00,\n         7.50002200e+00,   4.20002120e+01,  -6.69999474e+02,\n         4.85001160e+01,   0.00000000e+00,   0.00000000e+00,\n        -1.97475435e+01,   2.57751441e+02,  -5.15498984e+02]) logp: array(-inf) dlogp: array([          nan,           nan,           nan,  124.1261469 ,\n        124.18394188,  497.88248784,  119.69177231,  122.58878672,\n        491.01606842,           nan,           nan,           nan,\n                 nan,           nan,           nan,           nan,\n                 nan,           nan,           nan,           nan,\n                 nan,           nan,           nan,           nan,\n                 nan,           nan,           nan,           nan,\n                 nan,           nan,           nan,           nan,\n          0.        ,           nan,           nan,           nan,\n                 nan,    0.        ,           nan,           nan,\n          0.        ,           nan,           nan,           nan,\n          0.        ,    0.        ,    0.        ,           nan,\n                 nan,           nan,           nan,           nan,\n                 nan,           nan,           nan,           nan,\n                 nan,           nan,           nan,           nan,\n                 nan,           nan,           nan,           nan,\n                 nan,           nan,           nan,           nan,\n                 nan,           nan,           nan,           nan,\n                 nan,           nan,           nan,           nan,\n                 nan,           nan,           nan,           nan,\n                 nan,    0.        ,           nan,           nan,\n                 nan,           nan,    0.        ,    0.        ,\n                 nan,           nan,           nan,           nan,\n                 nan,           nan,           nan,           nan,\n                 nan,           nan,           nan,           nan,\n                 nan,           nan])Check that 1) you don't have hierarchical parameters, these will lead to points with infinite density. 2) your distribution logp's are properly specified.",
       "output_type": "pyerr",
       "traceback": [
        "\u001b[0;31m---------------------------------------------------------------------------\u001b[0m\n\u001b[0;31mValueError\u001b[0m                                Traceback (most recent call last)",
        "\u001b[0;32m<ipython-input-45-f371cb86ee14>\u001b[0m in \u001b[0;36m<module>\u001b[0;34m()\u001b[0m\n\u001b[1;32m      5\u001b[0m     \u001b[0;31m#start = {'mu': [0.]*3, 'beta': [0]*3}\u001b[0m\u001b[0;34m\u001b[0m\u001b[0;34m\u001b[0m\u001b[0m\n\u001b[1;32m      6\u001b[0m \u001b[0;34m\u001b[0m\u001b[0m\n\u001b[0;32m----> 7\u001b[0;31m     \u001b[0mstart\u001b[0m \u001b[0;34m=\u001b[0m \u001b[0mfind_MAP\u001b[0m\u001b[0;34m(\u001b[0m\u001b[0;34m)\u001b[0m\u001b[0;34m\u001b[0m\u001b[0m\n\u001b[0m\u001b[1;32m      8\u001b[0m     \u001b[0mstep\u001b[0m \u001b[0;34m=\u001b[0m \u001b[0mNUTS\u001b[0m\u001b[0;34m(\u001b[0m\u001b[0;34m)\u001b[0m\u001b[0;34m\u001b[0m\u001b[0m\n\u001b[1;32m      9\u001b[0m \u001b[0;31m#     step = Slice()\u001b[0m\u001b[0;34m\u001b[0m\u001b[0;34m\u001b[0m\u001b[0m\n",
        "\u001b[0;32m/Users/fonnescj/Code/pymc/pymc/tuning/starting.pyc\u001b[0m in \u001b[0;36mfind_MAP\u001b[0;34m(start, vars, fmin, return_raw, disp, model, *args, **kwargs)\u001b[0m\n\u001b[1;32m     63\u001b[0m             not allfinite(dlogp(mx))):\n\u001b[1;32m     64\u001b[0m             raise ValueError(\"Optimization error: max, logp or dlogp at max have bad values. Some values may be outside of distribution support. max: \" + repr(mx) + \" logp: \" + repr(logp(mx)) + \" dlogp: \" + repr(dlogp(mx)) +\n\u001b[0;32m---> 65\u001b[0;31m                              \"Check that 1) you don't have hierarchical parameters, these will lead to points with infinite density. 2) your distribution logp's are properly specified.\")\n\u001b[0m\u001b[1;32m     66\u001b[0m \u001b[0;34m\u001b[0m\u001b[0m\n\u001b[1;32m     67\u001b[0m     \u001b[0mmx\u001b[0m \u001b[0;34m=\u001b[0m \u001b[0mbij\u001b[0m\u001b[0;34m.\u001b[0m\u001b[0mrmap\u001b[0m\u001b[0;34m(\u001b[0m\u001b[0mmx\u001b[0m\u001b[0;34m)\u001b[0m\u001b[0;34m\u001b[0m\u001b[0m\n",
        "\u001b[0;31mValueError\u001b[0m: Optimization error: max, logp or dlogp at max have bad values. Some values may be outside of distribution support. max: array([ -4.28973800e+03,   4.51925929e+03,  -9.03849729e+03,\n         4.96200000e+01,   4.96200000e+01,   4.96200000e+01,\n         4.97800000e+01,   4.97800000e+01,   4.97800000e+01,\n         2.50000740e+01,   3.57501125e+01,   5.75001350e+00,\n         3.50005000e+00,   1.58500000e+02,   3.75001150e+00,\n        -3.15497959e+02,   2.60001210e+01,   2.42501035e+01,\n        -5.00000000e-01,   9.00010000e+00,   1.45000410e+01,\n         2.50000000e+01,  -3.85224188e+03,   1.30000300e+01,\n        -4.89498813e+02,   6.50000000e+00,   4.70000000e+01,\n        -2.95000000e+01,  -2.49999840e+01,  -3.57501915e+01,\n        -5.75002450e+00,  -3.49999200e+00,   0.00000000e+00,\n        -3.75001050e+00,   3.35001515e+02,  -2.60000370e+01,\n        -2.42500125e+01,   0.00000000e+00,  -9.00002200e+00,\n        -1.45000110e+01,   0.00000000e+00,   3.85525725e+03,\n        -1.29999780e+01,   4.89500795e+02,   0.00000000e+00,\n         0.00000000e+00,   0.00000000e+00,   5.00000580e+01,\n         7.15003040e+01,   1.15000380e+01,   7.00004200e+00,\n         0.00000000e+00,   7.50002200e+00,  -6.69999474e+02,\n         5.20001580e+01,   4.85001160e+01,   0.00000000e+00,\n         1.80001220e+01,   2.90000520e+01,   0.00000000e+00,\n        -7.71049913e+03,   2.60000080e+01,  -9.78999608e+02,\n         0.00000000e+00,   0.00000000e+00,   0.00000000e+00,\n         8.00002400e+00,  -4.47498666e+02,   9.55001560e+01,\n        -3.80224183e+03,  -8.00000000e+00,   3.75001150e+00,\n         9.95001650e+01,  -3.34997959e+02,   2.42501035e+01,\n         2.50000000e+01,   4.70000000e+01,  -7.99999400e+00,\n         4.44000782e+02,  -5.45001940e+01,   3.85175726e+03,\n         0.00000000e+00,  -3.75001050e+00,  -2.10000470e+01,\n         3.35001515e+02,  -2.42500125e+01,   0.00000000e+00,\n         0.00000000e+00,   1.60000180e+01,  -8.87999448e+02,\n         1.09000350e+02,  -7.70349909e+03,   0.00000000e+00,\n         7.50002200e+00,   4.20002120e+01,  -6.69999474e+02,\n         4.85001160e+01,   0.00000000e+00,   0.00000000e+00,\n        -1.97475435e+01,   2.57751441e+02,  -5.15498984e+02]) logp: array(-inf) dlogp: array([          nan,           nan,           nan,  124.1261469 ,\n        124.18394188,  497.88248784,  119.69177231,  122.58878672,\n        491.01606842,           nan,           nan,           nan,\n                 nan,           nan,           nan,           nan,\n                 nan,           nan,           nan,           nan,\n                 nan,           nan,           nan,           nan,\n                 nan,           nan,           nan,           nan,\n                 nan,           nan,           nan,           nan,\n          0.        ,           nan,           nan,           nan,\n                 nan,    0.        ,           nan,           nan,\n          0.        ,           nan,           nan,           nan,\n          0.        ,    0.        ,    0.        ,           nan,\n                 nan,           nan,           nan,           nan,\n                 nan,           nan,           nan,           nan,\n                 nan,           nan,           nan,           nan,\n                 nan,           nan,           nan,           nan,\n                 nan,           nan,           nan,           nan,\n                 nan,           nan,           nan,           nan,\n                 nan,           nan,           nan,           nan,\n                 nan,           nan,           nan,           nan,\n                 nan,    0.        ,           nan,           nan,\n                 nan,           nan,    0.        ,    0.        ,\n                 nan,           nan,           nan,           nan,\n                 nan,           nan,           nan,           nan,\n                 nan,           nan,           nan,           nan,\n                 nan,           nan])Check that 1) you don't have hierarchical parameters, these will lead to points with infinite density. 2) your distribution logp's are properly specified."
       ]
      }
     ],
     "prompt_number": 45
    },
    {
     "cell_type": "code",
     "collapsed": false,
     "input": [
      "from pymc import summary\n",
      "summary(tr_global, vars=['Ep'])"
     ],
     "language": "python",
     "metadata": {},
     "outputs": [
      {
       "output_type": "stream",
       "stream": "stdout",
       "text": [
        "\n",
        "Ep:\n",
        " \n",
        "\tMean             SD               MC Error        95% HPD interval\n",
        "\t------------------------------------------------------------------\n",
        "\t0.5              0.0              0.0                  [ 0.5  0.5]\n",
        "\t0.5              0.0              0.0                  [ 0.5  0.5]\n",
        "\t0.5              0.0              0.0                  [ 0.5  0.5]\n",
        "\t\n",
        "\t\n",
        "\tPosterior quantiles:\n",
        "\t\n",
        "\t2.5             25              50              75             97.5\n",
        "\t |---------------|===============|===============|---------------|\n",
        "\t0.5              0.5             0.5            0.5           0.5\n",
        "\t0.5              0.5             0.5            0.5           0.5\n",
        "\t0.5              0.5             0.5            0.5           0.5\n",
        "\t\n"
       ]
      }
     ],
     "prompt_number": 43
    }
   ],
   "metadata": {}
  }
 ]
}