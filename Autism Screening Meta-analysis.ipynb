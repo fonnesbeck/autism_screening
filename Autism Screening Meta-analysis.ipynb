{
 "metadata": {
  "name": ""
 },
 "nbformat": 3,
 "nbformat_minor": 0,
 "worksheets": [
  {
   "cells": [
    {
     "cell_type": "code",
     "collapsed": false,
     "input": [
      "import pandas as pd"
     ],
     "language": "python",
     "metadata": {},
     "outputs": [],
     "prompt_number": 1
    },
    {
     "cell_type": "code",
     "collapsed": false,
     "input": [
      "raw_data = pd.read_csv(\"ASD_screening_data.csv\", na_values=['NR'])\n",
      "raw_data"
     ],
     "language": "python",
     "metadata": {},
     "outputs": [
      {
       "html": [
        "<pre>\n",
        "&lt;class 'pandas.core.frame.DataFrame'&gt;\n",
        "Int64Index: 44 entries, 0 to 43\n",
        "Data columns (total 34 columns):\n",
        "study_id         44  non-null values\n",
        "ref_id           44  non-null values\n",
        "author           44  non-null values\n",
        "year             44  non-null values\n",
        "country          44  non-null values\n",
        "population       44  non-null values\n",
        "screener         44  non-null values\n",
        "arm              19  non-null values\n",
        "age_mean         24  non-null values\n",
        "age_sd           21  non-null values\n",
        "age_lo           28  non-null values\n",
        "age_hi           28  non-null values\n",
        "n_m              36  non-null values\n",
        "n_f              36  non-null values\n",
        "dx_standard      43  non-null values\n",
        "risk_factor      44  non-null values\n",
        "n_screened       43  non-null values\n",
        "screen_pos       43  non-null values\n",
        "n_dx             43  non-null values\n",
        "n_pos            43  non-null values\n",
        "n_neg            43  non-null values\n",
        "n_data           43  non-null values\n",
        "tp               43  non-null values\n",
        "fp               43  non-null values\n",
        "fn               23  non-null values\n",
        "tn               23  non-null values\n",
        "fp_dev_delay     41  non-null values\n",
        "fp_lang_delay    41  non-null values\n",
        "fp_normal        41  non-null values\n",
        "fp_non_asd       41  non-null values\n",
        "tn_dev_delay     18  non-null values\n",
        "tn_lang_delay    19  non-null values\n",
        "tn_normal        18  non-null values\n",
        "tn_non_asd       19  non-null values\n",
        "dtypes: float64(22), int64(2), object(10)\n",
        "</pre>"
       ],
       "metadata": {},
       "output_type": "pyout",
       "prompt_number": 2,
       "text": [
        "<class 'pandas.core.frame.DataFrame'>\n",
        "Int64Index: 44 entries, 0 to 43\n",
        "Data columns (total 34 columns):\n",
        "study_id         44  non-null values\n",
        "ref_id           44  non-null values\n",
        "author           44  non-null values\n",
        "year             44  non-null values\n",
        "country          44  non-null values\n",
        "population       44  non-null values\n",
        "screener         44  non-null values\n",
        "arm              19  non-null values\n",
        "age_mean         24  non-null values\n",
        "age_sd           21  non-null values\n",
        "age_lo           28  non-null values\n",
        "age_hi           28  non-null values\n",
        "n_m              36  non-null values\n",
        "n_f              36  non-null values\n",
        "dx_standard      43  non-null values\n",
        "risk_factor      44  non-null values\n",
        "n_screened       43  non-null values\n",
        "screen_pos       43  non-null values\n",
        "n_dx             43  non-null values\n",
        "n_pos            43  non-null values\n",
        "n_neg            43  non-null values\n",
        "n_data           43  non-null values\n",
        "tp               43  non-null values\n",
        "fp               43  non-null values\n",
        "fn               23  non-null values\n",
        "tn               23  non-null values\n",
        "fp_dev_delay     41  non-null values\n",
        "fp_lang_delay    41  non-null values\n",
        "fp_normal        41  non-null values\n",
        "fp_non_asd       41  non-null values\n",
        "tn_dev_delay     18  non-null values\n",
        "tn_lang_delay    19  non-null values\n",
        "tn_normal        18  non-null values\n",
        "tn_non_asd       19  non-null values\n",
        "dtypes: float64(22), int64(2), object(10)"
       ]
      }
     ],
     "prompt_number": 2
    },
    {
     "cell_type": "markdown",
     "metadata": {},
     "source": [
      "Create M-CHAT-only dataset:"
     ]
    },
    {
     "cell_type": "code",
     "collapsed": false,
     "input": [
      "mchat_data = raw_data[raw_data.screener.apply(lambda x: (x.find('M-CHAT') > -1) & (x.find('9')==-1))]"
     ],
     "language": "python",
     "metadata": {},
     "outputs": [],
     "prompt_number": 3
    },
    {
     "cell_type": "code",
     "collapsed": false,
     "input": [
      "mchat_data = raw_data[(raw_data.screener=='M-CHAT + interview') | (raw_data.screener=='M-CHAT')]"
     ],
     "language": "python",
     "metadata": {},
     "outputs": [],
     "prompt_number": 4
    },
    {
     "cell_type": "code",
     "collapsed": false,
     "input": [
      "mchat_data"
     ],
     "language": "python",
     "metadata": {},
     "outputs": [
      {
       "html": [
        "<pre>\n",
        "&lt;class 'pandas.core.frame.DataFrame'&gt;\n",
        "Int64Index: 8 entries, 1 to 43\n",
        "Data columns (total 34 columns):\n",
        "study_id         8  non-null values\n",
        "ref_id           8  non-null values\n",
        "author           8  non-null values\n",
        "year             8  non-null values\n",
        "country          8  non-null values\n",
        "population       8  non-null values\n",
        "screener         8  non-null values\n",
        "arm              2  non-null values\n",
        "age_mean         3  non-null values\n",
        "age_sd           3  non-null values\n",
        "age_lo           5  non-null values\n",
        "age_hi           5  non-null values\n",
        "n_m              7  non-null values\n",
        "n_f              7  non-null values\n",
        "dx_standard      8  non-null values\n",
        "risk_factor      8  non-null values\n",
        "n_screened       8  non-null values\n",
        "screen_pos       8  non-null values\n",
        "n_dx             8  non-null values\n",
        "n_pos            8  non-null values\n",
        "n_neg            8  non-null values\n",
        "n_data           8  non-null values\n",
        "tp               8  non-null values\n",
        "fp               8  non-null values\n",
        "fn               4  non-null values\n",
        "tn               4  non-null values\n",
        "fp_dev_delay     7  non-null values\n",
        "fp_lang_delay    7  non-null values\n",
        "fp_normal        7  non-null values\n",
        "fp_non_asd       7  non-null values\n",
        "tn_dev_delay     3  non-null values\n",
        "tn_lang_delay    3  non-null values\n",
        "tn_normal        3  non-null values\n",
        "tn_non_asd       3  non-null values\n",
        "dtypes: float64(22), int64(2), object(10)\n",
        "</pre>"
       ],
       "metadata": {},
       "output_type": "pyout",
       "prompt_number": 5,
       "text": [
        "<class 'pandas.core.frame.DataFrame'>\n",
        "Int64Index: 8 entries, 1 to 43\n",
        "Data columns (total 34 columns):\n",
        "study_id         8  non-null values\n",
        "ref_id           8  non-null values\n",
        "author           8  non-null values\n",
        "year             8  non-null values\n",
        "country          8  non-null values\n",
        "population       8  non-null values\n",
        "screener         8  non-null values\n",
        "arm              2  non-null values\n",
        "age_mean         3  non-null values\n",
        "age_sd           3  non-null values\n",
        "age_lo           5  non-null values\n",
        "age_hi           5  non-null values\n",
        "n_m              7  non-null values\n",
        "n_f              7  non-null values\n",
        "dx_standard      8  non-null values\n",
        "risk_factor      8  non-null values\n",
        "n_screened       8  non-null values\n",
        "screen_pos       8  non-null values\n",
        "n_dx             8  non-null values\n",
        "n_pos            8  non-null values\n",
        "n_neg            8  non-null values\n",
        "n_data           8  non-null values\n",
        "tp               8  non-null values\n",
        "fp               8  non-null values\n",
        "fn               4  non-null values\n",
        "tn               4  non-null values\n",
        "fp_dev_delay     7  non-null values\n",
        "fp_lang_delay    7  non-null values\n",
        "fp_normal        7  non-null values\n",
        "fp_non_asd       7  non-null values\n",
        "tn_dev_delay     3  non-null values\n",
        "tn_lang_delay    3  non-null values\n",
        "tn_normal        3  non-null values\n",
        "tn_non_asd       3  non-null values\n",
        "dtypes: float64(22), int64(2), object(10)"
       ]
      }
     ],
     "prompt_number": 5
    },
    {
     "cell_type": "markdown",
     "metadata": {},
     "source": [
      "There were 8 constituent studies in the M-CHAT subset."
     ]
    },
    {
     "cell_type": "code",
     "collapsed": false,
     "input": [
      "mchat_data.study_id.value_counts()"
     ],
     "language": "python",
     "metadata": {},
     "outputs": [
      {
       "metadata": {},
       "output_type": "pyout",
       "prompt_number": 6,
       "text": [
        "22    2\n",
        "9     2\n",
        "15    1\n",
        "20    1\n",
        "1     1\n",
        "8     1\n",
        "dtype: int64"
       ]
      }
     ],
     "prompt_number": 6
    },
    {
     "cell_type": "markdown",
     "metadata": {},
     "source": [
      "Constituent studies were distributed among 5 countries."
     ]
    },
    {
     "cell_type": "code",
     "collapsed": false,
     "input": [
      "mchat_data.country.value_counts()"
     ],
     "language": "python",
     "metadata": {},
     "outputs": [
      {
       "metadata": {},
       "output_type": "pyout",
       "prompt_number": 7,
       "text": [
        "USA       4\n",
        "Spain     2\n",
        "Sweden    1\n",
        "Canada    1\n",
        "dtype: int64"
       ]
      }
     ],
     "prompt_number": 7
    },
    {
     "cell_type": "markdown",
     "metadata": {},
     "source": [
      "Diagnostic standards used among studies:"
     ]
    },
    {
     "cell_type": "code",
     "collapsed": false,
     "input": [
      "mchat_data.dx_standard.value_counts()"
     ],
     "language": "python",
     "metadata": {},
     "outputs": [
      {
       "metadata": {},
       "output_type": "pyout",
       "prompt_number": 8,
       "text": [
        "DSM-IV TR, VABS, Merrill-Palmer revised scales, \\rADOS-G        2\n",
        "DSM-IV, ADOS, GARS, CARS, PDD beh inventory                     2\n",
        "Battelle Developmental Inventory, \\rM-CHAT, and DSM-IV-TR criteria    1\n",
        "DSMIV, ADOS, Vineland, medical records, information from screening assessment    1\n",
        "CARS, DSM-IV & \\rclinical judgement                             1\n",
        "ADOS,  ADI-R, Mullen Scales of early Learning, \\rthe VABSand CARS, DSM-IV    1\n",
        "dtype: int64"
       ]
      }
     ],
     "prompt_number": 8
    },
    {
     "cell_type": "code",
     "collapsed": false,
     "input": [
      "mchat_data.population.value_counts()"
     ],
     "language": "python",
     "metadata": {},
     "outputs": [
      {
       "metadata": {},
       "output_type": "pyout",
       "prompt_number": 9,
       "text": [
        "developmental delay                         4\n",
        "general population                          3\n",
        "general population + developmental delay    1\n",
        "dtype: int64"
       ]
      }
     ],
     "prompt_number": 9
    },
    {
     "cell_type": "code",
     "collapsed": false,
     "input": [
      "mchat_data['population']"
     ],
     "language": "python",
     "metadata": {},
     "outputs": [
      {
       "metadata": {},
       "output_type": "pyout",
       "prompt_number": 10,
       "text": [
        "1                           general population\n",
        "16                         developmental delay\n",
        "17                         developmental delay\n",
        "26                         developmental delay\n",
        "35                         developmental delay\n",
        "38                          general population\n",
        "42    general population + developmental delay\n",
        "43                          general population\n",
        "Name: population, dtype: object"
       ]
      }
     ],
     "prompt_number": 10
    },
    {
     "cell_type": "code",
     "collapsed": false,
     "input": [
      "mchat_data['popval'] = mchat_data['population'].replace({'general population':0, \n",
      "                     'general population + developmental delay':0.5, \n",
      "                     'developmental delay':1})\n",
      "mchat_data.popval"
     ],
     "language": "python",
     "metadata": {},
     "outputs": [
      {
       "metadata": {},
       "output_type": "pyout",
       "prompt_number": 11,
       "text": [
        "1     0.0\n",
        "16    1.0\n",
        "17    1.0\n",
        "26    1.0\n",
        "35    1.0\n",
        "38    0.0\n",
        "42    0.5\n",
        "43    0.0\n",
        "Name: popval, dtype: float64"
       ]
      }
     ],
     "prompt_number": 11
    },
    {
     "cell_type": "markdown",
     "metadata": {},
     "source": [
      "## Meta-analysis of M-CHAT"
     ]
    },
    {
     "cell_type": "markdown",
     "metadata": {},
     "source": [
      "We estimate screening tool sensitivity and specificity based on four cell probabilities that exhaustively describe the outcomes of screening relative to diagnosis:\n",
      "\n",
      "* true positive: $Pr [\\text{screen positive} \\, | \\, \\text{diagnosed} ]$\n",
      "* false negative: $Pr [\\text{screen negative} \\, | \\, \\text{diagnosed} ]$\n",
      "* true negative: $Pr [\\text{screen negative} \\, | \\, \\text{not diagnosed}]$\n",
      "* false positive: $Pr [\\text{screen positive} \\, | \\, \\text{not diagnosed}]$\n",
      "\n",
      "To account for the dependence among these parameters, we modeled sensitivity and specificity jointly as a function of these probabilities. Following (Puggioni et al. 2008), we define random effects submodels for three probabilities:\n",
      "\n",
      "$$\n",
      "\\begin{aligned}\n",
      "\\text{logit}(Pr(D_i = 1 | \\, S_i = 1)) &= \\mu_1 + \\epsilon_{1i} \\cr\n",
      "\\text{logit}(Pr(D_i = 1 | S_i = 0)) &= \\mu_2 + \\epsilon_{1i} \\cr\n",
      "\\text{logit}(Pr(S_i = 1)) &= \\mu_3 + \\epsilon_{1i}\n",
      "\\end{aligned}\n",
      "$$\n",
      "\n",
      "where $D_i$ is the diagnosis (0=negative, 1=positive) from study $i$, $S_i$ is the screening outcome from study $i$, $\\mu_k$ is the population mean (on the logit scale) for probability $k$, and $\\epsilon_{ki}$ is the random effect for probability $k$ in study $i$. Random effects are modeled as simple independent, normally-distributed random variables with zero-mean:\n",
      "\n",
      "$$\\epsilon_{ki} \\sim N(0, \\sigma_k^2)$$\n",
      "\n",
      "Note that each of the three probabilities gets its own random effect variance $\\sigma^2_k$. The probabilities above uniquely determine the sensitivity and specificity rates, via Bayes' formula:\n",
      "\n",
      "$$\n",
      "\\begin{aligned}\n",
      "\\text{sensitivity}_i &= Pr(S_i = 1 | D_i = 1) \\propto Pr(D_i = 1 | S_i = 1) Pr(S_i=1) \\cr\n",
      "\\text{specificity}_i &= Pr(S_i = 0 | D_i = 0) \\propto (1 - Pr(D_i = 1 | S_i = 0))(1 - Pr(S_i = 0))\n",
      "\\end{aligned}\n",
      "$$\n",
      "\n",
      "The data likelihoods for the observed true positive and true negative counts were then modeled as binomial draws from the sum of true positive and false negative counts, and true negative and false positive counts, respectively."
     ]
    },
    {
     "cell_type": "markdown",
     "metadata": {},
     "source": [
      "### Covariates\n",
      "\n",
      "With only 12 studies, there is little scope for incorporating study-level covariates. One interesting difference among the studies is the populations from which samples were derived: they were evenly split between *general population* and *developmental delay*, with one study drawing from both. We therefore attempted to include and indicator for developmental delay in the model."
     ]
    },
    {
     "cell_type": "markdown",
     "metadata": {},
     "source": [
      "### Priors\n",
      "\n",
      "To represent the lack of prior information, vague priors were placed on all stochastic parameters in the model. Namely, the population means for the cell probabilities $\\mu_k$ were given $N(0, 100)$ priors, which are relatively flat on the probability (inverse-logit) scale, and the random effect standard deviations were given uniform priors on the (0, 1000) interval (Gelman et al 2006). Models were fit via Markov chain Monte Carlo (MCMC, Gamerman et al.,1997) using PyMC 3 (Patil e al., 2010). Models were run for 20,000 iterations, with the first 10,000 discarded as a conservative burn-in period, yielding 10000 samples for inference."
     ]
    },
    {
     "cell_type": "markdown",
     "metadata": {},
     "source": [
      "### Model specification"
     ]
    },
    {
     "cell_type": "code",
     "collapsed": false,
     "input": [
      "# Exctract unique study ID values to be used as random effect\n",
      "mchat_studies = mchat_data.study_id.unique()\n",
      "mchat_studies"
     ],
     "language": "python",
     "metadata": {},
     "outputs": [
      {
       "metadata": {},
       "output_type": "pyout",
       "prompt_number": 12,
       "text": [
        "array([ 1,  9, 15,  8, 20, 22])"
       ]
      }
     ],
     "prompt_number": 12
    },
    {
     "cell_type": "code",
     "collapsed": false,
     "input": [
      "study_idx = np.where([mchat_studies==s for s in mchat_data.study_id])[1]\n",
      "study_idx"
     ],
     "language": "python",
     "metadata": {},
     "outputs": [
      {
       "metadata": {},
       "output_type": "pyout",
       "prompt_number": 13,
       "text": [
        "array([0, 1, 1, 2, 3, 4, 5, 5])"
       ]
      }
     ],
     "prompt_number": 13
    },
    {
     "cell_type": "code",
     "collapsed": false,
     "input": [
      "# Identify studies that only recored true positives and false positives\n",
      "ppv_only = mchat_data[mchat_data.fn.isnull()].study_id.unique()\n",
      "ppv_only"
     ],
     "language": "python",
     "metadata": {},
     "outputs": [
      {
       "metadata": {},
       "output_type": "pyout",
       "prompt_number": 14,
       "text": [
        "array([ 8, 20, 22])"
       ]
      }
     ],
     "prompt_number": 14
    },
    {
     "cell_type": "code",
     "collapsed": false,
     "input": [
      "all_values = mchat_data[mchat_data.fn.notnull()].study_id.unique()\n",
      "all_values"
     ],
     "language": "python",
     "metadata": {},
     "outputs": [
      {
       "metadata": {},
       "output_type": "pyout",
       "prompt_number": 15,
       "text": [
        "array([ 1,  9, 15])"
       ]
      }
     ],
     "prompt_number": 15
    },
    {
     "cell_type": "code",
     "collapsed": false,
     "input": [
      "all_data = mchat_data.fn.notnull().values\n",
      "ppv_only = all_data - True\n",
      "ppv_only"
     ],
     "language": "python",
     "metadata": {},
     "outputs": [
      {
       "metadata": {},
       "output_type": "pyout",
       "prompt_number": 16,
       "text": [
        "array([False, False, False, False,  True,  True,  True,  True], dtype=bool)"
       ]
      }
     ],
     "prompt_number": 16
    },
    {
     "cell_type": "code",
     "collapsed": false,
     "input": [
      "all_data = where(mchat_data.fn.notnull().values)[0]\n",
      "all_data"
     ],
     "language": "python",
     "metadata": {},
     "outputs": [
      {
       "metadata": {},
       "output_type": "pyout",
       "prompt_number": 17,
       "text": [
        "array([0, 1, 2, 3])"
       ]
      }
     ],
     "prompt_number": 17
    },
    {
     "cell_type": "code",
     "collapsed": false,
     "input": [
      "ppv_only = where(mchat_data.fn.isnull().values)[0]\n",
      "ppv_only"
     ],
     "language": "python",
     "metadata": {},
     "outputs": [
      {
       "metadata": {},
       "output_type": "pyout",
       "prompt_number": 18,
       "text": [
        "array([4, 5, 6, 7])"
       ]
      }
     ],
     "prompt_number": 18
    },
    {
     "cell_type": "code",
     "collapsed": false,
     "input": [
      "from pymc import Model, Normal, Uniform, Binomial, Deterministic, Beta\n",
      "import theano.tensor as t\n",
      "\n",
      "def tinvlogit(x):\n",
      "    return t.exp(x) / (1 + t.exp(x))\n",
      "\n",
      "covariate = True\n",
      "\n",
      "with Model() as mchat_model:\n",
      "    \n",
      "    tp = mchat_data.tp.values\n",
      "    tn = mchat_data.tn.values\n",
      "    fp = mchat_data.fp.values\n",
      "    fn = mchat_data.fn.values\n",
      "    pop = mchat_data.popval\n",
      "    \n",
      "    if covariate:\n",
      "        \n",
      "        # Effect of study population\n",
      "        beta = Normal('beta', 0., 0.01, shape=3)\n",
      "        \n",
      "        # Study random effects\n",
      "        mu = Normal('mu', 0., 0.01, shape=3)\n",
      "        # Transform to probability scale\n",
      "        Ep = Deterministic('Ep', tinvlogit(mu))\n",
      "        \n",
      "        # Probabilities\n",
      "        p_d1s1 = Deterministic('p_d1s1', tinvlogit(mu[0] + beta[0]*pop))\n",
      "        p_d1s0 = Deterministic('p_d1s0', tinvlogit(mu[1] + beta[1]*pop))\n",
      "        p_s1 = Deterministic('p_s1', tinvlogit(mu[2] + beta[2]*pop))\n",
      "        \n",
      "    else:\n",
      "        \n",
      "        p_d1s1 = Beta('p_d1s1', 1, 1)\n",
      "        p_d1s0 = Beta('p_d1s0', 1, 1)\n",
      "        p_s1 = Beta('p_s1', 1, 1)\n",
      "    \n",
      "    # Probability of positive diagnosis\n",
      "    p_d1 = p_d1s1 * p_s1 + p_d1s0 * (1 - p_s1)\n",
      "    # Population prevalence\n",
      "#     p_d1 = 0.011\n",
      "    # Probability of negative diagnosis\n",
      "    p_d0 = 1 - p_d1\n",
      "    # Sensitivity (via Bayes)\n",
      "    p_s1d1 = Deterministic('p_s1d1', (p_d1s1 * p_s1) / p_d1)\n",
      "    # Specificity (via Bayes)\n",
      "    p_s0d0 = Deterministic('p_s0d0', (1 - p_d1s0) * (1 - p_s1) / p_d0)\n",
      "    \n",
      "    if covariate:\n",
      "        \n",
      "        # Data likelihoods for sensitivity and specificity\n",
      "        sensitivity = Binomial('sensitivity', n=tp[all_data]+fn[all_data], p=p_s1d1[all_data], \n",
      "                               observed=tp[all_data])\n",
      "        specificity = Binomial('specificity', n=tn[all_data]+fp[all_data], p=p_s0d0[all_data], \n",
      "                               observed=tn[all_data])\n",
      "        \n",
      "        # Data likelihood for PPV\n",
      "        ppv = Binomial('ppv', n=tp[ppv_only]+fp[ppv_only], p=p_d1s1[ppv_only], observed=tp[ppv_only])\n",
      "        \n",
      "    else:\n",
      "    \n",
      "        # Data likelihoods for sensitivity and specificity\n",
      "        sensitivity = Binomial('sensitivity', n=tp[all_data]+fn[all_data], p=p_s1d1, \n",
      "                               observed=tp[all_data])\n",
      "        specificity = Binomial('specificity', n=tn[all_data]+fp[all_data], p=p_s0d0, \n",
      "                               observed=tn[all_data])\n",
      "        \n",
      "        # Data likelihood for PPV\n",
      "        ppv = Binomial('ppv', n=tp[ppv_only]+fp[ppv_only], p=p_d1s1, observed=tp[ppv_only])"
     ],
     "language": "python",
     "metadata": {},
     "outputs": [],
     "prompt_number": 19
    },
    {
     "cell_type": "code",
     "collapsed": false,
     "input": [
      "from pymc import NUTS, Metropolis, sample, Slice, find_MAP, psample\n",
      "\n",
      "with mchat_model:\n",
      "    \n",
      "    #start = {'mu': [0.]*3, 'beta': [0]*3}\n",
      "    \n",
      "    #start = find_MAP()\n",
      "    step = NUTS()\n",
      "#     step = Slice()\n",
      "    \n",
      "    tr = psample(10000, step, start)"
     ],
     "language": "python",
     "metadata": {},
     "outputs": [],
     "prompt_number": 25
    },
    {
     "cell_type": "code",
     "collapsed": false,
     "input": [
      "from pymc import summary\n",
      "summary(tr, vars=['Ep'])"
     ],
     "language": "python",
     "metadata": {},
     "outputs": [
      {
       "output_type": "stream",
       "stream": "stdout",
       "text": [
        "\n",
        "Ep:\n",
        " \n",
        "  Mean             SD               MC Error         95% HPD interval\n",
        "  -------------------------------------------------------------------\n",
        "  0.462            0.034            0.002            [0.385, 0.497]\n",
        "  0.151            0.131            0.008            [0.018, 0.448]\n",
        "  0.598            0.111            0.003            [0.326, 0.821]\n"
       ]
      },
      {
       "output_type": "stream",
       "stream": "stdout",
       "text": [
        "\n",
        "  Posterior quantiles:\n",
        "  2.5            25             50             75             97.5\n",
        "  |--------------|==============|==============|--------------|\n",
        "  0.382          0.438          0.487          0.487          0.494\n",
        "  0.046          0.075          0.075          0.191          0.529\n",
        "  0.290          0.596          0.618          0.618          0.799\n",
        "\n"
       ]
      }
     ],
     "prompt_number": 26
    },
    {
     "cell_type": "code",
     "collapsed": false,
     "input": [
      "from pymc import forestplot\n",
      "\n",
      "forestplot(tr[-5000:], vars=['beta'])"
     ],
     "language": "python",
     "metadata": {},
     "outputs": [
      {
       "metadata": {},
       "output_type": "pyout",
       "prompt_number": 27,
       "text": [
        "<matplotlib.gridspec.GridSpec at 0x11040f390>"
       ]
      },
      {
       "metadata": {},
       "output_type": "display_data",
       "png": "[encoded data removed]",
       "text": [
        "<matplotlib.figure.Figure at 0x11039a9d0>"
       ]
      }
     ],
     "prompt_number": 27
    },
    {
     "cell_type": "code",
     "collapsed": false,
     "input": [
      "forestplot(tr[-5000:], vars=['p_d1s1', 'p_d1s0', 'p_s1', 'p_s1d1', 'p_s0d0'])"
     ],
     "language": "python",
     "metadata": {},
     "outputs": [
      {
       "metadata": {},
       "output_type": "pyout",
       "prompt_number": 28,
       "text": [
        "<matplotlib.gridspec.GridSpec at 0x110460710>"
       ]
      },
      {
       "metadata": {},
       "output_type": "display_data",
       "png": "[encoded data removed]",
       "text": [
        "<matplotlib.figure.Figure at 0x10d876990>"
       ]
      }
     ],
     "prompt_number": 28
    },
    {
     "cell_type": "markdown",
     "metadata": {},
     "source": [
      "## Model checking"
     ]
    },
    {
     "cell_type": "markdown",
     "metadata": {},
     "source": [
      "Sensitivity goodness-of-fit"
     ]
    },
    {
     "cell_type": "code",
     "collapsed": false,
     "input": [
      "rbinom = np.random.binomial\n",
      "\n",
      "tp = mchat_data.tp.values\n",
      "tn = mchat_data.tn.values\n",
      "fp = mchat_data.fp.values\n",
      "fn = mchat_data.fn.values\n",
      "\n",
      "p_sens = tr.traces[0][-1000:]['p_s1d1']\n",
      "\n",
      "x = np.empty((len(all_data), len(p_sens)))\n",
      "for i,d in enumerate(all_data):\n",
      "    \n",
      "    x[i] = rbinom(tp[d]+fn[d], p_sens[:,d])\n",
      "    plt.figure()\n",
      "    plt.hist(x[i])\n",
      "    axvline(x=tp[d], linewidth=2, color='r', linestyle='dotted')"
     ],
     "language": "python",
     "metadata": {},
     "outputs": [
      {
       "metadata": {},
       "output_type": "display_data",
       "png": "[encoded data removed]",
       "text": [
        "<matplotlib.figure.Figure at 0x1156ee9d0>"
       ]
      },
      {
       "metadata": {},
       "output_type": "display_data",
       "png": "[encoded data removed]",
       "text": [
        "<matplotlib.figure.Figure at 0x117cd1450>"
       ]
      },
      {
       "metadata": {},
       "output_type": "display_data",
       "png": "[encoded data removed]",
       "text": [
        "<matplotlib.figure.Figure at 0x117c94210>"
       ]
      },
      {
       "metadata": {},
       "output_type": "display_data",
       "png": "[encoded data removed]",
       "text": [
        "<matplotlib.figure.Figure at 0x117cf17d0>"
       ]
      }
     ],
     "prompt_number": 26
    },
    {
     "cell_type": "markdown",
     "metadata": {},
     "source": [
      "Specificity goodness-of-fit:"
     ]
    },
    {
     "cell_type": "code",
     "collapsed": false,
     "input": [
      "p_spec = tr.traces[0][-1000:]['p_s0d0']\n",
      "\n",
      "x_spec = np.empty((len(all_data), len(p_spec)))\n",
      "for i,d in enumerate(all_data):\n",
      "    \n",
      "    x_spec[i] = rbinom(tn[d]+fp[d], p_spec[:,d])\n",
      "    plt.figure()\n",
      "    plt.hist(x_spec[i])\n",
      "    axvline(x=tn[d], linewidth=2, color='r', linestyle='dotted')"
     ],
     "language": "python",
     "metadata": {},
     "outputs": [
      {
       "metadata": {},
       "output_type": "display_data",
       "png": "[encoded data removed]",
       "text": [
        "<matplotlib.figure.Figure at 0x117849b50>"
       ]
      },
      {
       "metadata": {},
       "output_type": "display_data",
       "png": "[encoded data removed]",
       "text": [
        "<matplotlib.figure.Figure at 0x116f1a590>"
       ]
      },
      {
       "metadata": {},
       "output_type": "display_data",
       "png": "[encoded data removed]",
       "text": [
        "<matplotlib.figure.Figure at 0x117ce5190>"
       ]
      },
      {
       "metadata": {},
       "output_type": "display_data",
       "png": "[encoded data removed]",
       "text": [
        "<matplotlib.figure.Figure at 0x11780e6d0>"
       ]
      }
     ],
     "prompt_number": 27
    },
    {
     "cell_type": "markdown",
     "metadata": {},
     "source": [
      "PPV goodness-of-fit:"
     ]
    },
    {
     "cell_type": "code",
     "collapsed": false,
     "input": [
      "p_ppv = tr.traces[0][-1000:]['p_d1s1']\n",
      "\n",
      "x_ppv = np.empty((len(ppv_only), len(p_ppv)))\n",
      "for i,d in enumerate(ppv_only):\n",
      "    \n",
      "    x_ppv[i] = rbinom(tp[d]+fp[d], p_ppv[:,d])\n",
      "    plt.figure()\n",
      "    plt.hist(x_ppv[i])\n",
      "    axvline(x=tp[d], linewidth=2, color='r', linestyle='dotted')"
     ],
     "language": "python",
     "metadata": {},
     "outputs": [
      {
       "metadata": {},
       "output_type": "display_data",
       "png": "[encoded data removed]",
       "text": [
        "<matplotlib.figure.Figure at 0x1179bbad0>"
       ]
      },
      {
       "metadata": {},
       "output_type": "display_data",
       "png": "[encoded data removed]",
       "text": [
        "<matplotlib.figure.Figure at 0x1174faa90>"
       ]
      },
      {
       "metadata": {},
       "output_type": "display_data",
       "png": "[encoded data removed]",
       "text": [
        "<matplotlib.figure.Figure at 0x117999790>"
       ]
      },
      {
       "metadata": {},
       "output_type": "display_data",
       "png": "[encoded data removed]",
       "text": [
        "<matplotlib.figure.Figure at 0x117cb6a90>"
       ]
      }
     ],
     "prompt_number": 28
    },
    {
     "cell_type": "markdown",
     "metadata": {},
     "source": [
      "## Developmental delay subset"
     ]
    },
    {
     "cell_type": "code",
     "collapsed": false,
     "input": [
      "dd_data = mchat_data[mchat_data.population == 'developmental delay']\n",
      "dd_data"
     ],
     "language": "python",
     "metadata": {},
     "outputs": [
      {
       "html": [
        "<pre>\n",
        "&lt;class 'pandas.core.frame.DataFrame'&gt;\n",
        "Int64Index: 4 entries, 16 to 35\n",
        "Data columns (total 35 columns):\n",
        "study_id         4  non-null values\n",
        "ref_id           4  non-null values\n",
        "author           4  non-null values\n",
        "year             4  non-null values\n",
        "country          4  non-null values\n",
        "population       4  non-null values\n",
        "screener         4  non-null values\n",
        "arm              2  non-null values\n",
        "age_mean         1  non-null values\n",
        "age_sd           1  non-null values\n",
        "age_lo           4  non-null values\n",
        "age_hi           4  non-null values\n",
        "n_m              3  non-null values\n",
        "n_f              3  non-null values\n",
        "dx_standard      4  non-null values\n",
        "risk_factor      4  non-null values\n",
        "n_screened       4  non-null values\n",
        "screen_pos       4  non-null values\n",
        "n_dx             4  non-null values\n",
        "n_pos            4  non-null values\n",
        "n_neg            4  non-null values\n",
        "n_data           4  non-null values\n",
        "tp               4  non-null values\n",
        "fp               4  non-null values\n",
        "fn               3  non-null values\n",
        "tn               3  non-null values\n",
        "fp_dev_delay     4  non-null values\n",
        "fp_lang_delay    4  non-null values\n",
        "fp_normal        4  non-null values\n",
        "fp_non_asd       4  non-null values\n",
        "tn_dev_delay     3  non-null values\n",
        "tn_lang_delay    3  non-null values\n",
        "tn_normal        3  non-null values\n",
        "tn_non_asd       3  non-null values\n",
        "popval           4  non-null values\n",
        "dtypes: float64(23), int64(2), object(10)\n",
        "</pre>"
       ],
       "metadata": {},
       "output_type": "pyout",
       "prompt_number": 63,
       "text": [
        "<class 'pandas.core.frame.DataFrame'>\n",
        "Int64Index: 4 entries, 16 to 35\n",
        "Data columns (total 35 columns):\n",
        "study_id         4  non-null values\n",
        "ref_id           4  non-null values\n",
        "author           4  non-null values\n",
        "year             4  non-null values\n",
        "country          4  non-null values\n",
        "population       4  non-null values\n",
        "screener         4  non-null values\n",
        "arm              2  non-null values\n",
        "age_mean         1  non-null values\n",
        "age_sd           1  non-null values\n",
        "age_lo           4  non-null values\n",
        "age_hi           4  non-null values\n",
        "n_m              3  non-null values\n",
        "n_f              3  non-null values\n",
        "dx_standard      4  non-null values\n",
        "risk_factor      4  non-null values\n",
        "n_screened       4  non-null values\n",
        "screen_pos       4  non-null values\n",
        "n_dx             4  non-null values\n",
        "n_pos            4  non-null values\n",
        "n_neg            4  non-null values\n",
        "n_data           4  non-null values\n",
        "tp               4  non-null values\n",
        "fp               4  non-null values\n",
        "fn               3  non-null values\n",
        "tn               3  non-null values\n",
        "fp_dev_delay     4  non-null values\n",
        "fp_lang_delay    4  non-null values\n",
        "fp_normal        4  non-null values\n",
        "fp_non_asd       4  non-null values\n",
        "tn_dev_delay     3  non-null values\n",
        "tn_lang_delay    3  non-null values\n",
        "tn_normal        3  non-null values\n",
        "tn_non_asd       3  non-null values\n",
        "popval           4  non-null values\n",
        "dtypes: float64(23), int64(2), object(10)"
       ]
      }
     ],
     "prompt_number": 63
    },
    {
     "cell_type": "code",
     "collapsed": false,
     "input": [
      "all_data = where(dd_data.fn.notnull().values)[0]\n",
      "all_data"
     ],
     "language": "python",
     "metadata": {},
     "outputs": [
      {
       "metadata": {},
       "output_type": "pyout",
       "prompt_number": 56,
       "text": [
        "array([0, 1, 2])"
       ]
      }
     ],
     "prompt_number": 56
    },
    {
     "cell_type": "code",
     "collapsed": false,
     "input": [
      "ppv_only = where(dd_data.fn.isnull().values)[0]\n",
      "ppv_only"
     ],
     "language": "python",
     "metadata": {},
     "outputs": [
      {
       "metadata": {},
       "output_type": "pyout",
       "prompt_number": 57,
       "text": [
        "array([3])"
       ]
      }
     ],
     "prompt_number": 57
    },
    {
     "cell_type": "code",
     "collapsed": false,
     "input": [
      "covariate = False\n",
      "\n",
      "with Model() as dd_model:\n",
      "    \n",
      "    tp = dd_data.tp.values\n",
      "    tn = dd_data.tn.values\n",
      "    fp = dd_data.fp.values\n",
      "    fn = dd_data.fn.values\n",
      "    pop = dd_data.popval\n",
      "    \n",
      "    if covariate:\n",
      "        \n",
      "        # Effect of study population\n",
      "        beta = Normal('beta', 0., 0.01, shape=3)\n",
      "        \n",
      "        # Study random effects\n",
      "        mu = Normal('mu', 0., 0.01, shape=3)\n",
      "        # Transform to probability scale\n",
      "        Ep = Deterministic('Ep', tinvlogit(mu))\n",
      "        \n",
      "        # Probabilities\n",
      "        p_d1s1 = Deterministic('p_d1s1', tinvlogit(mu[0] + beta[0]*pop))\n",
      "        p_d1s0 = Deterministic('p_d1s0', tinvlogit(mu[1] + beta[1]*pop))\n",
      "        p_s1 = Deterministic('p_s1', tinvlogit(mu[2] + beta[2]*pop))\n",
      "        \n",
      "    else:\n",
      "        \n",
      "        p_d1s1 = Beta('p_d1s1', 1, 1)\n",
      "        p_d1s0 = Beta('p_d1s0', 1, 1)\n",
      "        p_s1 = Beta('p_s1', 1, 1)\n",
      "    \n",
      "    # Probability of positive diagnosis\n",
      "    p_d1 = p_d1s1 * p_s1 + p_d1s0 * (1 - p_s1)\n",
      "    # Population prevalence\n",
      "#     p_d1 = 0.011\n",
      "    # Probability of negative diagnosis\n",
      "    p_d0 = 1 - p_d1\n",
      "    # Sensitivity (via Bayes)\n",
      "    p_s1d1 = Deterministic('p_s1d1', (p_d1s1 * p_s1) / p_d1)\n",
      "    # Specificity (via Bayes)\n",
      "    p_s0d0 = Deterministic('p_s0d0', (1 - p_d1s0) * (1 - p_s1) / p_d0)\n",
      "    \n",
      "    if covariate:\n",
      "        \n",
      "        # Data likelihoods for sensitivity and specificity\n",
      "        sensitivity = Binomial('sensitivity', n=tp[all_data]+fn[all_data], p=p_s1d1[all_data], \n",
      "                               observed=tp[all_data])\n",
      "        specificity = Binomial('specificity', n=tn[all_data]+fp[all_data], p=p_s0d0[all_data], \n",
      "                               observed=tn[all_data])\n",
      "        \n",
      "        # Data likelihood for PPV\n",
      "        ppv = Binomial('ppv', n=tp[ppv_only]+fp[ppv_only], p=p_d1s1[ppv_only], observed=tp[ppv_only])\n",
      "        \n",
      "    else:\n",
      "    \n",
      "        # Data likelihoods for sensitivity and specificity\n",
      "        sensitivity = Binomial('sensitivity', n=tp[all_data]+fn[all_data], p=p_s1d1, \n",
      "                               observed=tp[all_data])\n",
      "        specificity = Binomial('specificity', n=tn[all_data]+fp[all_data], p=p_s0d0, \n",
      "                               observed=tn[all_data])\n",
      "        \n",
      "        # Data likelihood for PPV\n",
      "        ppv = Binomial('ppv', n=tp[ppv_only]+fp[ppv_only], p=p_d1s1, observed=tp[ppv_only])"
     ],
     "language": "python",
     "metadata": {},
     "outputs": [],
     "prompt_number": 47
    },
    {
     "cell_type": "code",
     "collapsed": false,
     "input": [
      "with dd_model:\n",
      "    \n",
      "    #start = {'mu': [0.]*3, 'beta': [0]*3}\n",
      "    \n",
      "#     start = find_MAP()\n",
      "    step = NUTS()\n",
      "#     step = Slice()\n",
      "    \n",
      "    tr_dd = sample(10000, step)"
     ],
     "language": "python",
     "metadata": {},
     "outputs": [
      {
       "output_type": "stream",
       "stream": "stdout",
       "text": [
        "\r",
        " [                  1%                  ] 117 of 10000 complete in 0.5 sec"
       ]
      },
      {
       "output_type": "stream",
       "stream": "stdout",
       "text": [
        "\r",
        " [-                 2%                  ] 267 of 10000 complete in 1.0 sec"
       ]
      },
      {
       "output_type": "stream",
       "stream": "stdout",
       "text": [
        "\r",
        " [-                 4%                  ] 447 of 10000 complete in 1.5 sec"
       ]
      },
      {
       "output_type": "stream",
       "stream": "stdout",
       "text": [
        "\r",
        " [--                6%                  ] 615 of 10000 complete in 2.0 sec"
       ]
      },
      {
       "output_type": "stream",
       "stream": "stdout",
       "text": [
        "\r",
        " [---               7%                  ] 795 of 10000 complete in 2.5 sec"
       ]
      },
      {
       "output_type": "stream",
       "stream": "stdout",
       "text": [
        "\r",
        " [---               9%                  ] 989 of 10000 complete in 3.0 sec"
       ]
      },
      {
       "output_type": "stream",
       "stream": "stdout",
       "text": [
        "\r",
        " [----             11%                  ] 1182 of 10000 complete in 3.5 sec"
       ]
      },
      {
       "output_type": "stream",
       "stream": "stdout",
       "text": [
        "\r",
        " [-----            13%                  ] 1373 of 10000 complete in 4.0 sec"
       ]
      },
      {
       "output_type": "stream",
       "stream": "stdout",
       "text": [
        "\r",
        " [-----            15%                  ] 1559 of 10000 complete in 4.5 sec"
       ]
      },
      {
       "output_type": "stream",
       "stream": "stdout",
       "text": [
        "\r",
        " [------           17%                  ] 1741 of 10000 complete in 5.0 sec"
       ]
      },
      {
       "output_type": "stream",
       "stream": "stdout",
       "text": [
        "\r",
        " [-------          19%                  ] 1942 of 10000 complete in 5.5 sec"
       ]
      },
      {
       "output_type": "stream",
       "stream": "stdout",
       "text": [
        "\r",
        " [--------         21%                  ] 2140 of 10000 complete in 6.0 sec"
       ]
      },
      {
       "output_type": "stream",
       "stream": "stdout",
       "text": [
        "\r",
        " [--------         23%                  ] 2316 of 10000 complete in 6.5 sec"
       ]
      },
      {
       "output_type": "stream",
       "stream": "stdout",
       "text": [
        "\r",
        " [---------        25%                  ] 2500 of 10000 complete in 7.0 sec"
       ]
      },
      {
       "output_type": "stream",
       "stream": "stdout",
       "text": [
        "\r",
        " [----------       26%                  ] 2676 of 10000 complete in 7.5 sec"
       ]
      },
      {
       "output_type": "stream",
       "stream": "stdout",
       "text": [
        "\r",
        " [----------       28%                  ] 2844 of 10000 complete in 8.0 sec"
       ]
      },
      {
       "output_type": "stream",
       "stream": "stdout",
       "text": [
        "\r",
        " [-----------      30%                  ] 3033 of 10000 complete in 8.5 sec"
       ]
      },
      {
       "output_type": "stream",
       "stream": "stdout",
       "text": [
        "\r",
        " [------------     32%                  ] 3213 of 10000 complete in 9.0 sec"
       ]
      },
      {
       "output_type": "stream",
       "stream": "stdout",
       "text": [
        "\r",
        " [------------     34%                  ] 3419 of 10000 complete in 9.5 sec"
       ]
      },
      {
       "output_type": "stream",
       "stream": "stdout",
       "text": [
        "\r",
        " [-------------    36%                  ] 3610 of 10000 complete in 10.0 sec"
       ]
      },
      {
       "output_type": "stream",
       "stream": "stdout",
       "text": [
        "\r",
        " [--------------   37%                  ] 3783 of 10000 complete in 10.5 sec"
       ]
      },
      {
       "output_type": "stream",
       "stream": "stdout",
       "text": [
        "\r",
        " [---------------  39%                  ] 3973 of 10000 complete in 11.0 sec"
       ]
      },
      {
       "output_type": "stream",
       "stream": "stdout",
       "text": [
        "\r",
        " [---------------  41%                  ] 4161 of 10000 complete in 11.5 sec"
       ]
      },
      {
       "output_type": "stream",
       "stream": "stdout",
       "text": [
        "\r",
        " [---------------- 43%                  ] 4349 of 10000 complete in 12.0 sec"
       ]
      },
      {
       "output_type": "stream",
       "stream": "stdout",
       "text": [
        "\r",
        " [-----------------45%                  ] 4549 of 10000 complete in 12.5 sec"
       ]
      },
      {
       "output_type": "stream",
       "stream": "stdout",
       "text": [
        "\r",
        " [-----------------47%                  ] 4736 of 10000 complete in 13.0 sec"
       ]
      },
      {
       "output_type": "stream",
       "stream": "stdout",
       "text": [
        "\r",
        " [-----------------49%                  ] 4919 of 10000 complete in 13.5 sec"
       ]
      },
      {
       "output_type": "stream",
       "stream": "stdout",
       "text": [
        "\r",
        " [-----------------51%                  ] 5104 of 10000 complete in 14.1 sec"
       ]
      },
      {
       "output_type": "stream",
       "stream": "stdout",
       "text": [
        "\r",
        " [-----------------52%                  ] 5297 of 10000 complete in 14.6 sec"
       ]
      },
      {
       "output_type": "stream",
       "stream": "stdout",
       "text": [
        "\r",
        " [-----------------54%                  ] 5488 of 10000 complete in 15.1 sec"
       ]
      },
      {
       "output_type": "stream",
       "stream": "stdout",
       "text": [
        "\r",
        " [-----------------56%-                 ] 5684 of 10000 complete in 15.6 sec"
       ]
      },
      {
       "output_type": "stream",
       "stream": "stdout",
       "text": [
        "\r",
        " [-----------------58%--                ] 5860 of 10000 complete in 16.1 sec"
       ]
      },
      {
       "output_type": "stream",
       "stream": "stdout",
       "text": [
        "\r",
        " [-----------------60%--                ] 6044 of 10000 complete in 16.6 sec"
       ]
      },
      {
       "output_type": "stream",
       "stream": "stdout",
       "text": [
        "\r",
        " [-----------------62%---               ] 6249 of 10000 complete in 17.1 sec"
       ]
      },
      {
       "output_type": "stream",
       "stream": "stdout",
       "text": [
        "\r",
        " [-----------------64%----              ] 6433 of 10000 complete in 17.6 sec"
       ]
      },
      {
       "output_type": "stream",
       "stream": "stdout",
       "text": [
        "\r",
        " [-----------------66%-----             ] 6612 of 10000 complete in 18.1 sec"
       ]
      },
      {
       "output_type": "stream",
       "stream": "stdout",
       "text": [
        "\r",
        " [-----------------68%-----             ] 6814 of 10000 complete in 18.6 sec"
       ]
      },
      {
       "output_type": "stream",
       "stream": "stdout",
       "text": [
        "\r",
        " [-----------------70%------            ] 7005 of 10000 complete in 19.1 sec"
       ]
      },
      {
       "output_type": "stream",
       "stream": "stdout",
       "text": [
        "\r",
        " [-----------------72%-------           ] 7217 of 10000 complete in 19.6 sec"
       ]
      },
      {
       "output_type": "stream",
       "stream": "stdout",
       "text": [
        "\r",
        " [-----------------73%--------          ] 7392 of 10000 complete in 20.1 sec"
       ]
      },
      {
       "output_type": "stream",
       "stream": "stdout",
       "text": [
        "\r",
        " [-----------------75%--------          ] 7582 of 10000 complete in 20.6 sec"
       ]
      },
      {
       "output_type": "stream",
       "stream": "stdout",
       "text": [
        "\r",
        " [-----------------77%---------         ] 7769 of 10000 complete in 21.1 sec"
       ]
      },
      {
       "output_type": "stream",
       "stream": "stdout",
       "text": [
        "\r",
        " [-----------------79%----------        ] 7980 of 10000 complete in 21.6 sec"
       ]
      },
      {
       "output_type": "stream",
       "stream": "stdout",
       "text": [
        "\r",
        " [-----------------81%----------        ] 8153 of 10000 complete in 22.1 sec"
       ]
      },
      {
       "output_type": "stream",
       "stream": "stdout",
       "text": [
        "\r",
        " [-----------------83%-----------       ] 8343 of 10000 complete in 22.6 sec"
       ]
      },
      {
       "output_type": "stream",
       "stream": "stdout",
       "text": [
        "\r",
        " [-----------------85%------------      ] 8527 of 10000 complete in 23.1 sec"
       ]
      },
      {
       "output_type": "stream",
       "stream": "stdout",
       "text": [
        "\r",
        " [-----------------87%-------------     ] 8719 of 10000 complete in 23.6 sec"
       ]
      },
      {
       "output_type": "stream",
       "stream": "stdout",
       "text": [
        "\r",
        " [-----------------88%-------------     ] 8891 of 10000 complete in 24.1 sec"
       ]
      },
      {
       "output_type": "stream",
       "stream": "stdout",
       "text": [
        "\r",
        " [-----------------90%--------------    ] 9084 of 10000 complete in 24.6 sec"
       ]
      },
      {
       "output_type": "stream",
       "stream": "stdout",
       "text": [
        "\r",
        " [-----------------92%---------------   ] 9268 of 10000 complete in 25.1 sec"
       ]
      },
      {
       "output_type": "stream",
       "stream": "stdout",
       "text": [
        "\r",
        " [-----------------94%---------------   ] 9453 of 10000 complete in 25.6 sec"
       ]
      },
      {
       "output_type": "stream",
       "stream": "stdout",
       "text": [
        "\r",
        " [-----------------96%----------------  ] 9644 of 10000 complete in 26.1 sec"
       ]
      },
      {
       "output_type": "stream",
       "stream": "stdout",
       "text": [
        "\r",
        " [-----------------98%----------------- ] 9838 of 10000 complete in 26.6 sec"
       ]
      },
      {
       "output_type": "stream",
       "stream": "stdout",
       "text": [
        "\r",
        " [-----------------100%-----------------] 10000 of 10000 complete in 27.0 sec"
       ]
      }
     ],
     "prompt_number": 48
    },
    {
     "cell_type": "code",
     "collapsed": false,
     "input": [
      "from pymc import traceplot\n",
      "\n",
      "_ = traceplot(tr_dd, vars=['p_d1s1', 'p_d1s0', 'p_s1'])"
     ],
     "language": "python",
     "metadata": {},
     "outputs": [
      {
       "metadata": {},
       "output_type": "display_data",
       "png": "[encoded data removed]",
       "text": [
        "<matplotlib.figure.Figure at 0x114b910d0>"
       ]
      }
     ],
     "prompt_number": 52
    },
    {
     "cell_type": "code",
     "collapsed": false,
     "input": [
      "summary(tr_dd, vars=['p_d1s1', 'p_d1s0', 'p_s1'])"
     ],
     "language": "python",
     "metadata": {},
     "outputs": [
      {
       "output_type": "stream",
       "stream": "stdout",
       "text": [
        "\n",
        "p_d1s1:\n",
        " \n",
        "  Mean             SD               MC Error         95% HPD interval\n",
        "  -------------------------------------------------------------------\n",
        "  0.580            0.032            0.001            [0.517, 0.641]\n",
        "\n",
        "  Posterior quantiles:\n",
        "  2.5            25             50             75             97.5\n",
        "  |--------------|==============|==============|--------------|\n",
        "  0.517          0.559          0.580          0.602          0.642\n",
        "\n",
        "\n",
        "p_d1s0:"
       ]
      },
      {
       "output_type": "stream",
       "stream": "stdout",
       "text": [
        "\n",
        " \n",
        "  Mean             SD               MC Error         95% HPD interval\n",
        "  -------------------------------------------------------------------\n",
        "  0.367            0.085            0.001            [0.212, 0.538]\n",
        "\n",
        "  Posterior quantiles:\n",
        "  2.5            25             50             75             97.5\n",
        "  |--------------|==============|==============|--------------|\n",
        "  0.216          0.305          0.363          0.424          0.543\n",
        "\n",
        "\n",
        "p_s1:"
       ]
      },
      {
       "output_type": "stream",
       "stream": "stdout",
       "text": [
        "\n",
        " \n",
        "  Mean             SD               MC Error         95% HPD interval\n",
        "  -------------------------------------------------------------------\n",
        "  0.762            0.037            0.001            [0.687, 0.830]\n"
       ]
      },
      {
       "output_type": "stream",
       "stream": "stdout",
       "text": [
        "\n",
        "  Posterior quantiles:\n",
        "  2.5            25             50             75             97.5\n",
        "  |--------------|==============|==============|--------------|\n",
        "  0.683          0.739          0.764          0.787          0.827\n",
        "\n"
       ]
      }
     ],
     "prompt_number": 49
    },
    {
     "cell_type": "markdown",
     "metadata": {},
     "source": [
      "Sensitivity goodness-of-fit:"
     ]
    },
    {
     "cell_type": "code",
     "collapsed": false,
     "input": [
      "rbinom = np.random.binomial\n",
      "\n",
      "tp = dd_data.tp.values\n",
      "tn = dd_data.tn.values\n",
      "fp = dd_data.fp.values\n",
      "fn = dd_data.fn.values\n",
      "\n",
      "try:\n",
      "    p_sens = tr_dd.traces[0][-5000:]['p_s1d1']\n",
      "except AttributeError:\n",
      "    p_sens = tr_dd[-5000:]['p_s1d1']\n",
      "\n",
      "x = np.empty((len(all_data), len(p_sens)))\n",
      "for i,d in enumerate(all_data):\n",
      "    \n",
      "    x[i] = rbinom(tp[d]+fn[d], p_sens)\n",
      "    plt.figure()\n",
      "    plt.hist(x[i])\n",
      "    axvline(x=tp[d], linewidth=2, color='r', linestyle='dotted')"
     ],
     "language": "python",
     "metadata": {},
     "outputs": [
      {
       "metadata": {},
       "output_type": "display_data",
       "png": "[encoded data removed]",
       "text": [
        "<matplotlib.figure.Figure at 0x11339c650>"
       ]
      },
      {
       "metadata": {},
       "output_type": "display_data",
       "png": "[encoded data removed]",
       "text": [
        "<matplotlib.figure.Figure at 0x113a34990>"
       ]
      },
      {
       "metadata": {},
       "output_type": "display_data",
       "png": "[encoded data removed]",
       "text": [
        "<matplotlib.figure.Figure at 0x11321f110>"
       ]
      }
     ],
     "prompt_number": 72
    },
    {
     "cell_type": "markdown",
     "metadata": {},
     "source": [
      "Specificity goodness-of-fit:"
     ]
    },
    {
     "cell_type": "code",
     "collapsed": false,
     "input": [
      "try:\n",
      "    p_spec = tr_dd.traces[0][-5000:]['p_s0d0']\n",
      "except AttributeError:\n",
      "    p_spec = tr_dd[-5000:]['p_s0d0']\n",
      "\n",
      "x_spec = np.empty((len(all_data), len(p_spec)))\n",
      "for i,d in enumerate(all_data):\n",
      "    \n",
      "    x_spec[i] = rbinom(tn[d]+fp[d], p_spec)\n",
      "    plt.figure()\n",
      "    plt.hist(x_spec[i])\n",
      "    axvline(x=tn[d], linewidth=2, color='r', linestyle='dotted')"
     ],
     "language": "python",
     "metadata": {},
     "outputs": [
      {
       "metadata": {},
       "output_type": "display_data",
       "png": "[encoded data removed]",
       "text": [
        "<matplotlib.figure.Figure at 0x112b8d9d0>"
       ]
      },
      {
       "metadata": {},
       "output_type": "display_data",
       "png": "[encoded data removed]",
       "text": [
        "<matplotlib.figure.Figure at 0x11332ff50>"
       ]
      },
      {
       "metadata": {},
       "output_type": "display_data",
       "png": "[encoded data removed]",
       "text": [
        "<matplotlib.figure.Figure at 0x113357610>"
       ]
      }
     ],
     "prompt_number": 73
    },
    {
     "cell_type": "markdown",
     "metadata": {},
     "source": [
      "PPV goodness-of-fit:"
     ]
    },
    {
     "cell_type": "code",
     "collapsed": false,
     "input": [
      "try:\n",
      "    p_ppv = tr_dd.traces[0][-5000:]['p_d1s1']\n",
      "except AttributeError:\n",
      "    p_ppv = tr_dd[-5000:]['p_d1s1']\n",
      "    \n",
      "x_ppv = np.empty((len(ppv_only), len(p_ppv)))\n",
      "for i,d in enumerate(ppv_only):\n",
      "    \n",
      "    x_ppv[i] = rbinom(tp[d]+fp[d], p_ppv)\n",
      "    plt.figure()\n",
      "    plt.hist(x_ppv[i])\n",
      "    axvline(x=tp[d], linewidth=2, color='r', linestyle='dotted')"
     ],
     "language": "python",
     "metadata": {},
     "outputs": [
      {
       "metadata": {},
       "output_type": "display_data",
       "png": "[encoded data removed]",
       "text": [
        "<matplotlib.figure.Figure at 0x114423a10>"
       ]
      }
     ],
     "prompt_number": 75
    },
    {
     "cell_type": "markdown",
     "metadata": {},
     "source": [
      "## English-only subset"
     ]
    },
    {
     "cell_type": "code",
     "collapsed": false,
     "input": [
      "eng_data = mchat_data[mchat_data.country.isin(['Canada','USA'])]"
     ],
     "language": "python",
     "metadata": {},
     "outputs": [],
     "prompt_number": 22
    },
    {
     "cell_type": "code",
     "collapsed": false,
     "input": [
      "all_data = where(eng_data.fn.notnull().values)[0]\n",
      "all_data"
     ],
     "language": "python",
     "metadata": {},
     "outputs": [
      {
       "metadata": {},
       "output_type": "pyout",
       "prompt_number": 40,
       "text": [
        "array([0, 1, 2])"
       ]
      }
     ],
     "prompt_number": 40
    },
    {
     "cell_type": "code",
     "collapsed": false,
     "input": [
      "ppv_only = where(eng_data.fn.isnull().values)[0]\n",
      "ppv_only"
     ],
     "language": "python",
     "metadata": {},
     "outputs": [
      {
       "metadata": {},
       "output_type": "pyout",
       "prompt_number": 25,
       "text": [
        "array([3, 4])"
       ]
      }
     ],
     "prompt_number": 25
    },
    {
     "cell_type": "code",
     "collapsed": false,
     "input": [
      "tp = eng_data.tp.values\n",
      "tn = eng_data.tn.values\n",
      "fp = eng_data.fp.values\n",
      "fn = eng_data.fn.values\n",
      "pop = eng_data.popval\n",
      "tp,tn,fp,fn,pop"
     ],
     "language": "python",
     "metadata": {},
     "outputs": [
      {
       "metadata": {},
       "output_type": "pyout",
       "prompt_number": 39,
       "text": [
        "(array([  30.,   38.,   48.,  141.,   92.]),\n",
        " array([  5.,   5.,   8.,  nan,  nan]),\n",
        " array([   8.,    8.,   22.,  102.,   79.]),\n",
        " array([ 13.,   5.,   4.,  nan,  nan]),\n",
        " 16    1\n",
        " 17    1\n",
        " 26    1\n",
        " 35    1\n",
        " 38    0\n",
        " Name: popval, dtype: float64)"
       ]
      }
     ],
     "prompt_number": 39
    },
    {
     "cell_type": "code",
     "collapsed": false,
     "input": [
      "with Model() as eng_model:\n",
      "    \n",
      "    tp = eng_data.tp.values\n",
      "    tn = eng_data.tn.values\n",
      "    fp = eng_data.fp.values\n",
      "    fn = eng_data.fn.values\n",
      "    pop = eng_data.popval\n",
      "    \n",
      "    p_d1s1 = Beta('p_d1s1', 1, 1)\n",
      "    p_d1s0 = Beta('p_d1s0', 1, 1)\n",
      "    p_s1 = Beta('p_s1', 1, 1)\n",
      "    \n",
      "    # Probability of positive diagnosis\n",
      "    p_d1 = p_d1s1 * p_s1 + p_d1s0 * (1 - p_s1)\n",
      "    # Probability of negative diagnosis\n",
      "    p_d0 = 1 - p_d1\n",
      "    # Sensitivity (via Bayes)\n",
      "    p_s1d1 = Deterministic('p_s1d1', (p_d1s1 * p_s1) / p_d1)\n",
      "    # Specificity (via Bayes)\n",
      "    p_s0d0 = Deterministic('p_s0d0', (1 - p_d1s0) * (1 - p_s1) / p_d0)\n",
      "    \n",
      "    # Data likelihoods for sensitivity and specificity\n",
      "    sensitivity = Binomial('sensitivity', n=tp[all_data]+fn[all_data], p=p_s1d1, \n",
      "                           observed=tp[all_data])\n",
      "    specificity = Binomial('specificity', n=tn[all_data]+fp[all_data], p=p_s0d0, \n",
      "                           observed=tn[all_data])\n",
      "    \n",
      "    # Data likelihood for PPV\n",
      "    ppv = Binomial('ppv', n=tp[ppv_only]+fp[ppv_only], p=p_d1s1, observed=tp[ppv_only])"
     ],
     "language": "python",
     "metadata": {},
     "outputs": [],
     "prompt_number": 41
    },
    {
     "cell_type": "code",
     "collapsed": false,
     "input": [
      "from pymc import NUTS, Metropolis, sample, Slice, find_MAP, psample\n",
      "\n",
      "with eng_model:\n",
      "    \n",
      "    step = NUTS()\n",
      "    \n",
      "    tr_eng = sample(5000, step)"
     ],
     "language": "python",
     "metadata": {},
     "outputs": [
      {
       "output_type": "stream",
       "stream": "stdout",
       "text": [
        "\r",
        " [                  2%                  ] 104 of 5000 complete in 0.5 sec"
       ]
      },
      {
       "output_type": "stream",
       "stream": "stdout",
       "text": [
        "\r",
        " [-                 4%                  ] 221 of 5000 complete in 1.0 sec"
       ]
      },
      {
       "output_type": "stream",
       "stream": "stdout",
       "text": [
        "\r",
        " [--                7%                  ] 379 of 5000 complete in 1.5 sec"
       ]
      },
      {
       "output_type": "stream",
       "stream": "stdout",
       "text": [
        "\r",
        " [----             10%                  ] 541 of 5000 complete in 2.0 sec"
       ]
      },
      {
       "output_type": "stream",
       "stream": "stdout",
       "text": [
        "\r",
        " [-----            13%                  ] 697 of 5000 complete in 2.5 sec"
       ]
      },
      {
       "output_type": "stream",
       "stream": "stdout",
       "text": [
        "\r",
        " [------           17%                  ] 873 of 5000 complete in 3.0 sec"
       ]
      },
      {
       "output_type": "stream",
       "stream": "stdout",
       "text": [
        "\r",
        " [-------          20%                  ] 1027 of 5000 complete in 3.5 sec"
       ]
      },
      {
       "output_type": "stream",
       "stream": "stdout",
       "text": [
        "\r",
        " [---------        23%                  ] 1193 of 5000 complete in 4.0 sec"
       ]
      },
      {
       "output_type": "stream",
       "stream": "stdout",
       "text": [
        "\r",
        " [----------       27%                  ] 1357 of 5000 complete in 4.5 sec"
       ]
      },
      {
       "output_type": "stream",
       "stream": "stdout",
       "text": [
        "\r",
        " [-----------      30%                  ] 1529 of 5000 complete in 5.0 sec"
       ]
      },
      {
       "output_type": "stream",
       "stream": "stdout",
       "text": [
        "\r",
        " [------------     33%                  ] 1693 of 5000 complete in 5.5 sec"
       ]
      },
      {
       "output_type": "stream",
       "stream": "stdout",
       "text": [
        "\r",
        " [--------------   37%                  ] 1853 of 5000 complete in 6.0 sec"
       ]
      },
      {
       "output_type": "stream",
       "stream": "stdout",
       "text": [
        "\r",
        " [---------------  40%                  ] 2020 of 5000 complete in 6.5 sec"
       ]
      },
      {
       "output_type": "stream",
       "stream": "stdout",
       "text": [
        "\r",
        " [---------------- 43%                  ] 2192 of 5000 complete in 7.0 sec"
       ]
      },
      {
       "output_type": "stream",
       "stream": "stdout",
       "text": [
        "\r",
        " [-----------------47%                  ] 2368 of 5000 complete in 7.5 sec"
       ]
      },
      {
       "output_type": "stream",
       "stream": "stdout",
       "text": [
        "\r",
        " [-----------------50%                  ] 2508 of 5000 complete in 8.0 sec"
       ]
      },
      {
       "output_type": "stream",
       "stream": "stdout",
       "text": [
        "\r",
        " [-----------------53%                  ] 2669 of 5000 complete in 8.5 sec"
       ]
      },
      {
       "output_type": "stream",
       "stream": "stdout",
       "text": [
        "\r",
        " [-----------------56%-                 ] 2829 of 5000 complete in 9.0 sec"
       ]
      },
      {
       "output_type": "stream",
       "stream": "stdout",
       "text": [
        "\r",
        " [-----------------59%--                ] 2984 of 5000 complete in 9.5 sec"
       ]
      },
      {
       "output_type": "stream",
       "stream": "stdout",
       "text": [
        "\r",
        " [-----------------62%---               ] 3149 of 5000 complete in 10.0 sec"
       ]
      },
      {
       "output_type": "stream",
       "stream": "stdout",
       "text": [
        "\r",
        " [-----------------66%-----             ] 3324 of 5000 complete in 10.5 sec"
       ]
      },
      {
       "output_type": "stream",
       "stream": "stdout",
       "text": [
        "\r",
        " [-----------------69%------            ] 3489 of 5000 complete in 11.0 sec"
       ]
      },
      {
       "output_type": "stream",
       "stream": "stdout",
       "text": [
        "\r",
        " [-----------------72%-------           ] 3646 of 5000 complete in 11.5 sec"
       ]
      },
      {
       "output_type": "stream",
       "stream": "stdout",
       "text": [
        "\r",
        " [-----------------76%---------         ] 3823 of 5000 complete in 12.0 sec"
       ]
      },
      {
       "output_type": "stream",
       "stream": "stdout",
       "text": [
        "\r",
        " [-----------------80%----------        ] 4005 of 5000 complete in 12.5 sec"
       ]
      },
      {
       "output_type": "stream",
       "stream": "stdout",
       "text": [
        "\r",
        " [-----------------83%-----------       ] 4173 of 5000 complete in 13.1 sec"
       ]
      },
      {
       "output_type": "stream",
       "stream": "stdout",
       "text": [
        "\r",
        " [-----------------86%-------------     ] 4349 of 5000 complete in 13.6 sec"
       ]
      },
      {
       "output_type": "stream",
       "stream": "stdout",
       "text": [
        "\r",
        " [-----------------90%--------------    ] 4535 of 5000 complete in 14.1 sec"
       ]
      },
      {
       "output_type": "stream",
       "stream": "stdout",
       "text": [
        "\r",
        " [-----------------93%---------------   ] 4689 of 5000 complete in 14.6 sec"
       ]
      },
      {
       "output_type": "stream",
       "stream": "stdout",
       "text": [
        "\r",
        " [-----------------97%----------------  ] 4856 of 5000 complete in 15.1 sec"
       ]
      },
      {
       "output_type": "stream",
       "stream": "stdout",
       "text": [
        "\r",
        " [-----------------100%-----------------] 5000 of 5000 complete in 15.5 sec"
       ]
      }
     ],
     "prompt_number": 42
    },
    {
     "cell_type": "code",
     "collapsed": false,
     "input": [
      "from pymc import traceplot\n",
      "\n",
      "_ = traceplot(tr_eng, vars=['p_d1s1', 'p_d1s0', 'p_s1'])"
     ],
     "language": "python",
     "metadata": {},
     "outputs": [
      {
       "metadata": {},
       "output_type": "display_data",
       "png": "[encoded data removed]",
       "text": [
        "<matplotlib.figure.Figure at 0x114efd850>"
       ]
      }
     ],
     "prompt_number": 55
    },
    {
     "cell_type": "code",
     "collapsed": false,
     "input": [
      "from pymc import summary\n",
      "\n",
      "summary(tr_eng, vars=['p_d1s1', 'p_d1s0', 'p_s1'])"
     ],
     "language": "python",
     "metadata": {},
     "outputs": [
      {
       "output_type": "stream",
       "stream": "stdout",
       "text": [
        "\n",
        "p_d1s1:\n",
        " \n",
        "  Mean             SD               MC Error         95% HPD interval\n",
        "  -------------------------------------------------------------------\n",
        "  0.564            0.024            0.001            [0.517, 0.609]\n",
        "\n",
        "  Posterior quantiles:\n",
        "  2.5            25             50             75             97.5\n",
        "  |--------------|==============|==============|--------------|\n",
        "  0.517          0.548          0.564          0.580          0.609\n",
        "\n",
        "\n",
        "p_d1s0:\n",
        " \n",
        "  Mean             SD               MC Error         95% HPD interval\n",
        "  -------------------------------------------------------------------\n",
        "  0.350            0.080            0.002            [0.195, 0.506]\n"
       ]
      },
      {
       "output_type": "stream",
       "stream": "stdout",
       "text": [
        "\n",
        "  Posterior quantiles:\n",
        "  2.5            25             50             75             97.5\n",
        "  |--------------|==============|==============|--------------|\n",
        "  0.207          0.294          0.345          0.402          0.520\n",
        "\n",
        "\n",
        "p_s1:\n",
        " \n",
        "  Mean             SD               MC Error         95% HPD interval\n",
        "  -------------------------------------------------------------------\n",
        "  0.757            0.038            0.001            [0.681, 0.827]\n",
        "\n",
        "  Posterior quantiles:\n",
        "  2.5            25             50             75             97.5\n",
        "  |--------------|==============|==============|--------------|\n",
        "  0.678          0.734          0.759          0.783          0.824\n",
        "\n"
       ]
      }
     ],
     "prompt_number": 43
    },
    {
     "cell_type": "markdown",
     "metadata": {},
     "source": [
      "## Global meta-analysis\n",
      "\n",
      "We are treating both the tool and the study ID as random effects."
     ]
    },
    {
     "cell_type": "code",
     "collapsed": false,
     "input": [
      "data = raw_data\n",
      "data"
     ],
     "language": "python",
     "metadata": {},
     "outputs": [
      {
       "html": [
        "<pre>\n",
        "&lt;class 'pandas.core.frame.DataFrame'&gt;\n",
        "Int64Index: 44 entries, 0 to 43\n",
        "Data columns (total 34 columns):\n",
        "study_id         44  non-null values\n",
        "ref_id           44  non-null values\n",
        "author           44  non-null values\n",
        "year             44  non-null values\n",
        "country          44  non-null values\n",
        "population       44  non-null values\n",
        "screener         44  non-null values\n",
        "arm              19  non-null values\n",
        "age_mean         24  non-null values\n",
        "age_sd           21  non-null values\n",
        "age_lo           28  non-null values\n",
        "age_hi           28  non-null values\n",
        "n_m              36  non-null values\n",
        "n_f              36  non-null values\n",
        "dx_standard      43  non-null values\n",
        "risk_factor      44  non-null values\n",
        "n_screened       43  non-null values\n",
        "screen_pos       43  non-null values\n",
        "n_dx             43  non-null values\n",
        "n_pos            43  non-null values\n",
        "n_neg            43  non-null values\n",
        "n_data           43  non-null values\n",
        "tp               43  non-null values\n",
        "fp               43  non-null values\n",
        "fn               23  non-null values\n",
        "tn               23  non-null values\n",
        "fp_dev_delay     41  non-null values\n",
        "fp_lang_delay    41  non-null values\n",
        "fp_normal        41  non-null values\n",
        "fp_non_asd       41  non-null values\n",
        "tn_dev_delay     18  non-null values\n",
        "tn_lang_delay    19  non-null values\n",
        "tn_normal        18  non-null values\n",
        "tn_non_asd       19  non-null values\n",
        "dtypes: float64(22), int64(2), object(10)\n",
        "</pre>"
       ],
       "metadata": {},
       "output_type": "pyout",
       "prompt_number": 20,
       "text": [
        "<class 'pandas.core.frame.DataFrame'>\n",
        "Int64Index: 44 entries, 0 to 43\n",
        "Data columns (total 34 columns):\n",
        "study_id         44  non-null values\n",
        "ref_id           44  non-null values\n",
        "author           44  non-null values\n",
        "year             44  non-null values\n",
        "country          44  non-null values\n",
        "population       44  non-null values\n",
        "screener         44  non-null values\n",
        "arm              19  non-null values\n",
        "age_mean         24  non-null values\n",
        "age_sd           21  non-null values\n",
        "age_lo           28  non-null values\n",
        "age_hi           28  non-null values\n",
        "n_m              36  non-null values\n",
        "n_f              36  non-null values\n",
        "dx_standard      43  non-null values\n",
        "risk_factor      44  non-null values\n",
        "n_screened       43  non-null values\n",
        "screen_pos       43  non-null values\n",
        "n_dx             43  non-null values\n",
        "n_pos            43  non-null values\n",
        "n_neg            43  non-null values\n",
        "n_data           43  non-null values\n",
        "tp               43  non-null values\n",
        "fp               43  non-null values\n",
        "fn               23  non-null values\n",
        "tn               23  non-null values\n",
        "fp_dev_delay     41  non-null values\n",
        "fp_lang_delay    41  non-null values\n",
        "fp_normal        41  non-null values\n",
        "fp_non_asd       41  non-null values\n",
        "tn_dev_delay     18  non-null values\n",
        "tn_lang_delay    19  non-null values\n",
        "tn_normal        18  non-null values\n",
        "tn_non_asd       19  non-null values\n",
        "dtypes: float64(22), int64(2), object(10)"
       ]
      }
     ],
     "prompt_number": 20
    },
    {
     "cell_type": "code",
     "collapsed": false,
     "input": [
      "data['population'].value_counts()"
     ],
     "language": "python",
     "metadata": {},
     "outputs": [
      {
       "metadata": {},
       "output_type": "pyout",
       "prompt_number": 21,
       "text": [
        "general population                          21\n",
        "developmental delay                         20\n",
        "sibling                                      2\n",
        "general population + developmental delay     1\n",
        "dtype: int64"
       ]
      }
     ],
     "prompt_number": 21
    },
    {
     "cell_type": "markdown",
     "metadata": {},
     "source": [
      "Dropping studies with sibling population"
     ]
    },
    {
     "cell_type": "code",
     "collapsed": false,
     "input": [
      "data.population[data.population=='sibling'] = None\n",
      "data = data[data.population.notnull()]"
     ],
     "language": "python",
     "metadata": {},
     "outputs": [],
     "prompt_number": 22
    },
    {
     "cell_type": "code",
     "collapsed": false,
     "input": [
      "data.population.value_counts()"
     ],
     "language": "python",
     "metadata": {},
     "outputs": [
      {
       "metadata": {},
       "output_type": "pyout",
       "prompt_number": 23,
       "text": [
        "general population                          21\n",
        "developmental delay                         20\n",
        "general population + developmental delay     1\n",
        "dtype: int64"
       ]
      }
     ],
     "prompt_number": 23
    },
    {
     "cell_type": "code",
     "collapsed": false,
     "input": [
      "data['popval'] = data['population'].replace({'general population':0, \n",
      "                     'general population + developmental delay':0.5, \n",
      "                     'developmental delay':1})"
     ],
     "language": "python",
     "metadata": {},
     "outputs": [],
     "prompt_number": 24
    },
    {
     "cell_type": "markdown",
     "metadata": {},
     "source": [
      "Filter out non-English:"
     ]
    },
    {
     "cell_type": "code",
     "collapsed": false,
     "input": [
      "data.country.unique()"
     ],
     "language": "python",
     "metadata": {},
     "outputs": [
      {
       "metadata": {},
       "output_type": "pyout",
       "prompt_number": 25,
       "text": [
        "array(['Sweden', 'USA', 'Japan', 'Nether\\rlands', 'Australia', 'Ireland',\n",
        "       'Canada', 'UK', 'Spain'], dtype=object)"
       ]
      }
     ],
     "prompt_number": 25
    },
    {
     "cell_type": "code",
     "collapsed": false,
     "input": [
      "data = data[data.country.isin(['USA','Australia','Ireland', 'Canada', 'UK'])]"
     ],
     "language": "python",
     "metadata": {},
     "outputs": [],
     "prompt_number": 26
    },
    {
     "cell_type": "markdown",
     "metadata": {},
     "source": [
      "Aggregate screener types"
     ]
    },
    {
     "cell_type": "code",
     "collapsed": false,
     "input": [
      "data.screener[data.screener.apply(lambda x: (x.find('M-CHAT') ==0 ))] = 'MCHAT'"
     ],
     "language": "python",
     "metadata": {},
     "outputs": [],
     "prompt_number": 27
    },
    {
     "cell_type": "code",
     "collapsed": false,
     "input": [
      "data.screener[data.screener.apply(lambda x: (x.find('CHAT') ==0 ))] = 'CHAT'"
     ],
     "language": "python",
     "metadata": {},
     "outputs": [],
     "prompt_number": 28
    },
    {
     "cell_type": "code",
     "collapsed": false,
     "input": [
      "data.screener[data.screener.apply(lambda x: (x.find('ESAT') ==0 ))] = 'ESAT'"
     ],
     "language": "python",
     "metadata": {},
     "outputs": [],
     "prompt_number": 29
    },
    {
     "cell_type": "code",
     "collapsed": false,
     "input": [
      "data.screener[data.screener.apply(lambda x: (x.find('CSBS') > -1 )|(x.find('ITC') > -1 ))] = 'CSBS-ITC'"
     ],
     "language": "python",
     "metadata": {},
     "outputs": [],
     "prompt_number": 30
    },
    {
     "cell_type": "code",
     "collapsed": false,
     "input": [
      "data.screener[data.screener.apply(lambda x: (x.find('Biscuit') ==0 ))] = 'Biscuit'"
     ],
     "language": "python",
     "metadata": {},
     "outputs": [],
     "prompt_number": 31
    },
    {
     "cell_type": "code",
     "collapsed": false,
     "input": [
      "data.screener.value_counts()"
     ],
     "language": "python",
     "metadata": {},
     "outputs": [
      {
       "metadata": {},
       "output_type": "pyout",
       "prompt_number": 32,
       "text": [
        "MCHAT                5\n",
        "CSBS-ITC             3\n",
        "SCQ                  3\n",
        "Biscuit              3\n",
        "CHAT                 3\n",
        "SACS checklists      3\n",
        "PDDST 1-2            2\n",
        "DBC-Early Screen     1\n",
        "dtype: int64"
       ]
      }
     ],
     "prompt_number": 32
    },
    {
     "cell_type": "code",
     "collapsed": false,
     "input": [
      "screener = data.screener.unique()"
     ],
     "language": "python",
     "metadata": {},
     "outputs": [],
     "prompt_number": 33
    },
    {
     "cell_type": "code",
     "collapsed": false,
     "input": [
      "screen_idx = np.where([screener==s for s in data.screener])[1]\n",
      "screen_idx"
     ],
     "language": "python",
     "metadata": {},
     "outputs": [
      {
       "metadata": {},
       "output_type": "pyout",
       "prompt_number": 34,
       "text": [
        "array([0, 0, 1, 2, 2, 3, 3, 4, 5, 3, 2, 6, 6, 5, 5, 1, 0, 1, 2, 2, 7, 7, 7])"
       ]
      }
     ],
     "prompt_number": 34
    },
    {
     "cell_type": "code",
     "collapsed": false,
     "input": [
      "# Exctract unique study ID values to be used as random effect\n",
      "studies = data.study_id.unique()\n",
      "studies"
     ],
     "language": "python",
     "metadata": {},
     "outputs": [
      {
       "metadata": {},
       "output_type": "pyout",
       "prompt_number": 35,
       "text": [
        "array([ 2,  3,  8,  9, 10, 11, 12, 15, 16, 17, 18, 20, 21])"
       ]
      }
     ],
     "prompt_number": 35
    },
    {
     "cell_type": "code",
     "collapsed": false,
     "input": [
      "study_idx = np.where([studies==s for s in data.study_id])[1]\n",
      "study_idx"
     ],
     "language": "python",
     "metadata": {},
     "outputs": [
      {
       "metadata": {},
       "output_type": "pyout",
       "prompt_number": 36,
       "text": [
        "array([ 0,  1,  2,  3,  3,  3,  3,  4,  5,  6,  7,  8,  8,  9,  9,  2, 10,\n",
        "        2,  2, 11, 12, 12, 12])"
       ]
      }
     ],
     "prompt_number": 36
    },
    {
     "cell_type": "code",
     "collapsed": false,
     "input": [
      "# Identify studies that only recored true positives and false positives\n",
      "ppv_values = data[data.fn.isnull()].study_id.unique()\n",
      "ppv_values"
     ],
     "language": "python",
     "metadata": {},
     "outputs": [
      {
       "metadata": {},
       "output_type": "pyout",
       "prompt_number": 37,
       "text": [
        "array([11, 16, 17,  8, 20, 21])"
       ]
      }
     ],
     "prompt_number": 37
    },
    {
     "cell_type": "code",
     "collapsed": false,
     "input": [
      "all_values = data[data.fn.notnull()].study_id.unique()\n",
      "all_values"
     ],
     "language": "python",
     "metadata": {},
     "outputs": [
      {
       "metadata": {},
       "output_type": "pyout",
       "prompt_number": 38,
       "text": [
        "array([ 2,  3,  8,  9, 10, 12, 15, 17, 18])"
       ]
      }
     ],
     "prompt_number": 38
    },
    {
     "cell_type": "code",
     "collapsed": false,
     "input": [
      "all_data = data.fn.notnull().values\n",
      "ppv_only = all_data - True\n",
      "ppv_only"
     ],
     "language": "python",
     "metadata": {},
     "outputs": [
      {
       "metadata": {},
       "output_type": "pyout",
       "prompt_number": 39,
       "text": [
        "array([False, False, False, False, False, False, False, False,  True,\n",
        "       False, False,  True,  True, False,  True, False, False, False,\n",
        "        True,  True,  True,  True,  True], dtype=bool)"
       ]
      }
     ],
     "prompt_number": 39
    },
    {
     "cell_type": "code",
     "collapsed": false,
     "input": [
      "all_data = where(data.fn.notnull().values)[0]\n",
      "all_data"
     ],
     "language": "python",
     "metadata": {},
     "outputs": [
      {
       "metadata": {},
       "output_type": "pyout",
       "prompt_number": 40,
       "text": [
        "array([ 0,  1,  2,  3,  4,  5,  6,  7,  9, 10, 13, 15, 16, 17])"
       ]
      }
     ],
     "prompt_number": 40
    },
    {
     "cell_type": "code",
     "collapsed": false,
     "input": [
      "ppv_only = where(data.fn.isnull().values)[0]\n",
      "ppv_only"
     ],
     "language": "python",
     "metadata": {},
     "outputs": [
      {
       "metadata": {},
       "output_type": "pyout",
       "prompt_number": 41,
       "text": [
        "array([ 8, 11, 12, 14, 18, 19, 20, 21, 22])"
       ]
      }
     ],
     "prompt_number": 41
    },
    {
     "cell_type": "code",
     "collapsed": false,
     "input": [
      "from pymc import Model, Normal, Uniform, Binomial, Deterministic\n",
      "import theano.tensor as t\n",
      "\n",
      "def tinvlogit(x):\n",
      "    return t.exp(x) / (1 + t.exp(x))\n",
      "\n",
      "covariate = False\n",
      "\n",
      "with Model() as global_model:\n",
      "    \n",
      "    tp = data.tp.values\n",
      "    tn = data.tn.values\n",
      "    fp = data.fp.values\n",
      "    fn = data.fn.values\n",
      "    pop = data.popval\n",
      "    \n",
      "    # Study random effects\n",
      "    mu = Normal('mu', 0., 0.01, shape=3)\n",
      "    # Transform to probability scale\n",
      "    Ep = Deterministic('Ep', tinvlogit(mu))\n",
      "    \n",
      "    # Random effects sd\n",
      "#     sigma_e = Uniform('sigma_e', 0, 100, shape=3)\n",
      "#     tau_e = sigma_e**-2\n",
      "    sigma_g = Uniform('sigma_g', 0, 100, shape=3)\n",
      "    tau_g = sigma_g**-2\n",
      "    \n",
      "    # Study random effects\n",
      "#     epsilon_d1s1 = Normal('epsilon_d1s1', 0.0, tau_e[0], shape=len(studies))\n",
      "#     epsilon_d1s0 = Normal('epsilon_d1s0', 0.0, tau_e[1], shape=len(studies))\n",
      "#     epsilon_s1 = Normal('epsilon_s1', 0.0, tau_e[2], shape=len(studies))\n",
      "    \n",
      "    # Study random effects\n",
      "    gamma_d1s1 = Normal('gamma_d1s1', 0.0, tau_g[0], shape=len(screener))\n",
      "    gamma_d1s0 = Normal('gamma_d1s0', 0.0, tau_g[1], shape=len(screener))\n",
      "    gamma_s1 = Normal('gamma_s1', 0.0, tau_g[2], shape=len(screener))\n",
      "    \n",
      "    if covariate:\n",
      "        \n",
      "        # Effect of study population\n",
      "        beta = Normal('beta', 0., 0.01, shape=3)\n",
      "        \n",
      "        # Probabilities\n",
      "        p_d1s1 = Deterministic('p_d1s1', tinvlogit(mu[0] + beta[0]*pop \n",
      "                                + gamma_d1s1[screen_idx])) # + epsilon_d1s1[study_idx] \n",
      "        p_d1s0 = Deterministic('p_d1s0', tinvlogit(mu[1] + beta[1]*pop \n",
      "                                + gamma_d1s0[screen_idx])) # + epsilon_d1s0[study_idx]\n",
      "        p_s1 = Deterministic('p_s1', tinvlogit(mu[2] + beta[2]*pop \n",
      "                                + gamma_s1[screen_idx])) # + epsilon_s1[study_idx] \n",
      "        \n",
      "    else:\n",
      "        \n",
      "        # Probabilities\n",
      "        p_d1s1 = Deterministic('p_d1s1', tinvlogit(mu[0] + gamma_d1s1[screen_idx]))\n",
      "        p_d1s0 = Deterministic('p_d1s0', tinvlogit(mu[1] + gamma_d1s0[screen_idx]))\n",
      "        p_s1 = Deterministic('p_s1', tinvlogit(mu[2] + gamma_s1[screen_idx]))\n",
      "    \n",
      "    p_d1 = (p_d1s1 * p_s1 + p_d1s0 * (1 - p_s1) + 1e-6)\n",
      "    p_d0 = 1 - p_d1\n",
      "    p_sens = (p_d1s1 * p_s1) / p_d1 \n",
      "    p_spec = ((1 - p_d1s1) * (1 - p_s1)) / p_d0\n",
      "    \n",
      "    E_sens = Deterministic('E_sens', \n",
      "                    (Ep[0] * Ep[2]) / (Ep[0] * Ep[2] + Ep[1] * (1 - Ep[2]) + 1e-6))\n",
      "    E_spec = Deterministic('E_spec', \n",
      "                ((1 - Ep[0]) * (1 - Ep[2])) / (1. - (Ep[0] * Ep[2] + Ep[1] * (1 - Ep[2]) + 1e-6)))\n",
      "    \n",
      "    # Data likelihoods\n",
      "    sensitivity = Binomial('sensitivity', n=tp[all_data]+fn[all_data], p=p_sens[all_data], \n",
      "                           observed=tp[all_data])\n",
      "    specificity = Binomial('specificity', n=tn[all_data]+fp[all_data], p=p_spec[all_data], \n",
      "                           observed=tn[all_data])\n",
      "    \n",
      "    ppv = Binomial('ppv', n=tp[ppv_only]+fp[ppv_only], p=p_d1s1[ppv_only], observed=tp[ppv_only])"
     ],
     "language": "python",
     "metadata": {},
     "outputs": [],
     "prompt_number": 45
    },
    {
     "cell_type": "code",
     "collapsed": false,
     "input": [
      "from pymc import NUTS, psample, find_MAP, sample, Slice, Metropolis\n",
      "\n",
      "with global_model:\n",
      "    \n",
      "#     start = {'mu': [0.]*3, 'gamma_d1s1': [0]*3, 'gamma_d1s0': [0]*3, 'gamma_s1': [0]*3}\n",
      "    \n",
      "#     start = find_MAP()\n",
      "#     step = Metropolis()\n",
      "    step = NUTS()\n",
      "    \n",
      "    tr_global = sample(5000, step)"
     ],
     "language": "python",
     "metadata": {},
     "outputs": [
      {
       "output_type": "stream",
       "stream": "stdout",
       "text": [
        "\r",
        " [                  1%                  ] 759 of 50000 complete in 0.5 sec"
       ]
      },
      {
       "output_type": "stream",
       "stream": "stdout",
       "text": [
        "\r",
        " [-                 3%                  ] 1648 of 50000 complete in 1.0 sec"
       ]
      },
      {
       "output_type": "stream",
       "stream": "stdout",
       "text": [
        "\r",
        " [-                 5%                  ] 2534 of 50000 complete in 1.5 sec"
       ]
      },
      {
       "output_type": "stream",
       "stream": "stdout",
       "text": [
        "\r",
        " [--                6%                  ] 3450 of 50000 complete in 2.0 sec"
       ]
      },
      {
       "output_type": "stream",
       "stream": "stdout",
       "text": [
        "\r",
        " [---               8%                  ] 4399 of 50000 complete in 2.5 sec"
       ]
      },
      {
       "output_type": "stream",
       "stream": "stdout",
       "text": [
        "\r",
        " [----             10%                  ] 5365 of 50000 complete in 3.0 sec"
       ]
      },
      {
       "output_type": "stream",
       "stream": "stdout",
       "text": [
        "\r",
        " [----             12%                  ] 6311 of 50000 complete in 3.5 sec"
       ]
      },
      {
       "output_type": "stream",
       "stream": "stdout",
       "text": [
        "\r",
        " [-----            14%                  ] 7252 of 50000 complete in 4.0 sec"
       ]
      },
      {
       "output_type": "stream",
       "stream": "stdout",
       "text": [
        "\r",
        " [------           16%                  ] 8179 of 50000 complete in 4.5 sec"
       ]
      },
      {
       "output_type": "stream",
       "stream": "stdout",
       "text": [
        "\r",
        " [------           18%                  ] 9124 of 50000 complete in 5.0 sec"
       ]
      },
      {
       "output_type": "stream",
       "stream": "stdout",
       "text": [
        "\r",
        " [-------          20%                  ] 10080 of 50000 complete in 5.5 sec"
       ]
      },
      {
       "output_type": "stream",
       "stream": "stdout",
       "text": [
        "\r",
        " [--------         21%                  ] 10945 of 50000 complete in 6.0 sec"
       ]
      },
      {
       "output_type": "stream",
       "stream": "stdout",
       "text": [
        "\r",
        " [---------        23%                  ] 11853 of 50000 complete in 6.5 sec"
       ]
      },
      {
       "output_type": "stream",
       "stream": "stdout",
       "text": [
        "\r",
        " [---------        25%                  ] 12735 of 50000 complete in 7.0 sec"
       ]
      },
      {
       "output_type": "stream",
       "stream": "stdout",
       "text": [
        "\r",
        " [----------       27%                  ] 13674 of 50000 complete in 7.5 sec"
       ]
      },
      {
       "output_type": "stream",
       "stream": "stdout",
       "text": [
        "\r",
        " [-----------      29%                  ] 14587 of 50000 complete in 8.0 sec"
       ]
      },
      {
       "output_type": "stream",
       "stream": "stdout",
       "text": [
        "\r",
        " [-----------      31%                  ] 15508 of 50000 complete in 8.5 sec"
       ]
      },
      {
       "output_type": "stream",
       "stream": "stdout",
       "text": [
        "\r",
        " [------------     32%                  ] 16463 of 50000 complete in 9.0 sec"
       ]
      },
      {
       "output_type": "stream",
       "stream": "stdout",
       "text": [
        "\r",
        " [-------------    34%                  ] 17380 of 50000 complete in 9.5 sec"
       ]
      },
      {
       "output_type": "stream",
       "stream": "stdout",
       "text": [
        "\r",
        " [-------------    36%                  ] 18343 of 50000 complete in 10.0 sec"
       ]
      },
      {
       "output_type": "stream",
       "stream": "stdout",
       "text": [
        "\r",
        " [--------------   38%                  ] 19306 of 50000 complete in 10.5 sec"
       ]
      },
      {
       "output_type": "stream",
       "stream": "stdout",
       "text": [
        "\r",
        " [---------------  40%                  ] 20222 of 50000 complete in 11.0 sec"
       ]
      },
      {
       "output_type": "stream",
       "stream": "stdout",
       "text": [
        "\r",
        " [---------------- 42%                  ] 21150 of 50000 complete in 11.5 sec"
       ]
      },
      {
       "output_type": "stream",
       "stream": "stdout",
       "text": [
        "\r",
        " [---------------- 44%                  ] 22101 of 50000 complete in 12.0 sec"
       ]
      },
      {
       "output_type": "stream",
       "stream": "stdout",
       "text": [
        "\r",
        " [-----------------45%                  ] 22966 of 50000 complete in 12.5 sec"
       ]
      },
      {
       "output_type": "stream",
       "stream": "stdout",
       "text": [
        "\r",
        " [-----------------47%                  ] 23848 of 50000 complete in 13.0 sec"
       ]
      },
      {
       "output_type": "stream",
       "stream": "stdout",
       "text": [
        "\r",
        " [-----------------49%                  ] 24795 of 50000 complete in 13.5 sec"
       ]
      },
      {
       "output_type": "stream",
       "stream": "stdout",
       "text": [
        "\r",
        " [-----------------51%                  ] 25680 of 50000 complete in 14.0 sec"
       ]
      },
      {
       "output_type": "stream",
       "stream": "stdout",
       "text": [
        "\r",
        " [-----------------53%                  ] 26584 of 50000 complete in 14.5 sec"
       ]
      },
      {
       "output_type": "stream",
       "stream": "stdout",
       "text": [
        "\r",
        " [-----------------55%                  ] 27532 of 50000 complete in 15.0 sec"
       ]
      },
      {
       "output_type": "stream",
       "stream": "stdout",
       "text": [
        "\r",
        " [-----------------56%-                 ] 28444 of 50000 complete in 15.5 sec"
       ]
      },
      {
       "output_type": "stream",
       "stream": "stdout",
       "text": [
        "\r",
        " [-----------------58%--                ] 29370 of 50000 complete in 16.0 sec"
       ]
      },
      {
       "output_type": "stream",
       "stream": "stdout",
       "text": [
        "\r",
        " [-----------------60%---               ] 30299 of 50000 complete in 16.5 sec"
       ]
      },
      {
       "output_type": "stream",
       "stream": "stdout",
       "text": [
        "\r",
        " [-----------------62%---               ] 31245 of 50000 complete in 17.0 sec"
       ]
      },
      {
       "output_type": "stream",
       "stream": "stdout",
       "text": [
        "\r",
        " [-----------------64%----              ] 32135 of 50000 complete in 17.5 sec"
       ]
      },
      {
       "output_type": "stream",
       "stream": "stdout",
       "text": [
        "\r",
        " [-----------------66%-----             ] 33092 of 50000 complete in 18.0 sec"
       ]
      },
      {
       "output_type": "stream",
       "stream": "stdout",
       "text": [
        "\r",
        " [-----------------67%-----             ] 33894 of 50000 complete in 18.5 sec"
       ]
      },
      {
       "output_type": "stream",
       "stream": "stdout",
       "text": [
        "\r",
        " [-----------------69%------            ] 34824 of 50000 complete in 19.0 sec"
       ]
      },
      {
       "output_type": "stream",
       "stream": "stdout",
       "text": [
        "\r",
        " [-----------------71%-------           ] 35724 of 50000 complete in 19.5 sec"
       ]
      },
      {
       "output_type": "stream",
       "stream": "stdout",
       "text": [
        "\r",
        " [-----------------73%-------           ] 36647 of 50000 complete in 20.0 sec"
       ]
      },
      {
       "output_type": "stream",
       "stream": "stdout",
       "text": [
        "\r",
        " [-----------------75%--------          ] 37590 of 50000 complete in 20.5 sec"
       ]
      },
      {
       "output_type": "stream",
       "stream": "stdout",
       "text": [
        "\r",
        " [-----------------77%---------         ] 38533 of 50000 complete in 21.0 sec"
       ]
      },
      {
       "output_type": "stream",
       "stream": "stdout",
       "text": [
        "\r",
        " [-----------------78%---------         ] 39459 of 50000 complete in 21.5 sec"
       ]
      },
      {
       "output_type": "stream",
       "stream": "stdout",
       "text": [
        "\r",
        " [-----------------80%----------        ] 40392 of 50000 complete in 22.0 sec"
       ]
      },
      {
       "output_type": "stream",
       "stream": "stdout",
       "text": [
        "\r",
        " [-----------------82%-----------       ] 41315 of 50000 complete in 22.5 sec"
       ]
      },
      {
       "output_type": "stream",
       "stream": "stdout",
       "text": [
        "\r",
        " [-----------------84%------------      ] 42235 of 50000 complete in 23.0 sec"
       ]
      },
      {
       "output_type": "stream",
       "stream": "stdout",
       "text": [
        "\r",
        " [-----------------86%------------      ] 43154 of 50000 complete in 23.5 sec"
       ]
      },
      {
       "output_type": "stream",
       "stream": "stdout",
       "text": [
        "\r",
        " [-----------------88%-------------     ] 44039 of 50000 complete in 24.0 sec"
       ]
      },
      {
       "output_type": "stream",
       "stream": "stdout",
       "text": [
        "\r",
        " [-----------------89%--------------    ] 44955 of 50000 complete in 24.5 sec"
       ]
      },
      {
       "output_type": "stream",
       "stream": "stdout",
       "text": [
        "\r",
        " [-----------------91%--------------    ] 45890 of 50000 complete in 25.0 sec"
       ]
      },
      {
       "output_type": "stream",
       "stream": "stdout",
       "text": [
        "\r",
        " [-----------------93%---------------   ] 46811 of 50000 complete in 25.5 sec"
       ]
      },
      {
       "output_type": "stream",
       "stream": "stdout",
       "text": [
        "\r",
        " [-----------------95%----------------  ] 47770 of 50000 complete in 26.0 sec"
       ]
      },
      {
       "output_type": "stream",
       "stream": "stdout",
       "text": [
        "\r",
        " [-----------------97%----------------- ] 48706 of 50000 complete in 26.5 sec"
       ]
      },
      {
       "output_type": "stream",
       "stream": "stdout",
       "text": [
        "\r",
        " [-----------------99%----------------- ] 49655 of 50000 complete in 27.0 sec"
       ]
      },
      {
       "output_type": "stream",
       "stream": "stdout",
       "text": [
        "\r",
        " [-----------------100%-----------------] 50000 of 50000 complete in 27.2 sec"
       ]
      }
     ],
     "prompt_number": 55
    },
    {
     "cell_type": "code",
     "collapsed": false,
     "input": [
      "from pymc import summary, traceplot\n",
      "traceplot(tr_global, vars=['Ep'])"
     ],
     "language": "python",
     "metadata": {},
     "outputs": [
      {
       "metadata": {},
       "output_type": "pyout",
       "png": "[encoded data removed]",
       "prompt_number": 56,
       "text": [
        "<matplotlib.figure.Figure at 0x1156cce50>"
       ]
      },
      {
       "metadata": {},
       "output_type": "display_data",
       "png": "[encoded data removed]",
       "text": [
        "<matplotlib.figure.Figure at 0x1156cce50>"
       ]
      }
     ],
     "prompt_number": 56
    },
    {
     "cell_type": "code",
     "collapsed": false,
     "input": [
      "summary(tr_global, vars=['p_d1s1', 'p_d1s0', 'p_s1'])"
     ],
     "language": "python",
     "metadata": {},
     "outputs": [
      {
       "output_type": "stream",
       "stream": "stdout",
       "text": [
        "\n",
        "p_d1s1:\n",
        " \n",
        "  Mean             SD               MC Error         95% HPD interval\n",
        "  -------------------------------------------------------------------\n",
        "  0.812            0.085            0.008            [0.727, 0.944]\n",
        "  0.812            0.085            0.008            [0.727, 0.944]\n",
        "  0.036            0.038            0.003            [0.011, 0.074]\n",
        "  0.555            0.084            0.008            [0.482, 0.638]\n",
        "  0.555            0.084            0.008            [0.482, 0.638]\n",
        "  0.430            0.080            0.007            [0.330, 0.626]\n",
        "  0.430            0.080            0.007            [0.330, 0.626]\n",
        "  0.449            0.137            0.013            [0.102, 0.613]\n",
        "  0.027            0.028            0.003            [0.021, 0.030]\n",
        "  0.430            0.080            0.007            [0.330, 0.626]\n",
        "  0.555            0.084            0.008            [0.482, 0.638]\n",
        "  0.831            0.094            0.009            [0.679, 0.954]\n",
        "  0.831            0.094            0.009            [0.679, 0.954]\n",
        "  0.027            0.028            0.003            [0.021, 0.030]\n",
        "  0.027            0.028            0.003            [0.021, 0.030]\n",
        "  0.036            0.038            0.003            [0.011, 0.074]\n",
        "  0.812            0.085            0.008            [0.727, 0.944]\n",
        "  0.036            0.038            0.003            [0.011, 0.074]\n",
        "  0.555            0.084            0.008            [0.482, 0.638]\n",
        "  0.555            0.084            0.008            [0.482, 0.638]\n",
        "  0.749            0.138            0.013            [0.391, 0.884]\n",
        "  0.749            0.138            0.013            [0.391, 0.884]\n",
        "  0.749            0.138            0.013            [0.391, 0.884]\n",
        "\n",
        "  Posterior quantiles:\n",
        "  2.5            25             50             75             97.5\n",
        "  |--------------|==============|==============|--------------|\n",
        "  0.703          0.794          0.815          0.837          0.944\n",
        "  0.703          0.794          0.815          0.837          0.944\n",
        "  0.012          0.018          0.026          0.042          0.086\n",
        "  0.200          0.549          0.571          0.589          0.621\n",
        "  0.200          0.549          0.571          0.589          0.621\n",
        "  0.329          0.387          0.421          0.459          0.626\n",
        "  0.329          0.387          0.421          0.459          0.626\n",
        "  0.065          0.436          0.491          0.522          0.613\n",
        "  0.021          0.023          0.024          0.026          0.030\n",
        "  0.329          0.387          0.421          0.459          0.626\n",
        "  0.200          0.549          0.571          0.589          0.621\n",
        "  0.601          0.817          0.846          0.874          0.924\n",
        "  0.601          0.817          0.846          0.874          0.924\n",
        "  0.021          0.023          0.024          0.026          0.030\n",
        "  0.021          0.023          0.024          0.026          0.030\n",
        "  0.012          0.018          0.026          0.042          0.086\n",
        "  0.703          0.794          0.815          0.837          0.944\n",
        "  0.012          0.018          0.026          0.042          0.086\n",
        "  0.200          0.549          0.571          0.589          0.621\n",
        "  0.200          0.549          0.571          0.589          0.621\n",
        "  0.271          0.750          0.791          0.817          0.868\n",
        "  0.271          0.750          0.791          0.817          0.868\n",
        "  0.271          0.750          0.791          0.817          0.868\n",
        "\n",
        "\n",
        "p_d1s0:"
       ]
      },
      {
       "output_type": "stream",
       "stream": "stdout",
       "text": [
        "\n",
        " \n",
        "  Mean             SD               MC Error         95% HPD interval\n",
        "  -------------------------------------------------------------------\n",
        "  0.005            0.046            0.004            [0.000, 0.001]\n",
        "  0.005            0.046            0.004            [0.000, 0.001]\n",
        "  0.008            0.075            0.007            [0.000, 0.000]\n",
        "  0.007            0.064            0.006            [0.000, 0.004]\n",
        "  0.007            0.064            0.006            [0.000, 0.004]\n",
        "  0.003            0.039            0.003            [0.000, 0.000]\n",
        "  0.003            0.039            0.003            [0.000, 0.000]\n",
        "  0.005            0.053            0.005            [0.000, 0.000]\n",
        "  0.003            0.035            0.003            [0.000, 0.000]\n",
        "  0.003            0.039            0.003            [0.000, 0.000]\n",
        "  0.007            0.064            0.006            [0.000, 0.004]\n",
        "  0.005            0.055            0.005            [0.000, 0.000]\n",
        "  0.005            0.055            0.005            [0.000, 0.000]\n",
        "  0.003            0.035            0.003            [0.000, 0.000]\n",
        "  0.003            0.035            0.003            [0.000, 0.000]\n",
        "  0.008            0.075            0.007            [0.000, 0.000]\n",
        "  0.005            0.046            0.004            [0.000, 0.001]\n",
        "  0.008            0.075            0.007            [0.000, 0.000]\n",
        "  0.007            0.064            0.006            [0.000, 0.004]\n",
        "  0.007            0.064            0.006            [0.000, 0.004]\n",
        "  0.009            0.051            0.004            [0.000, 0.007]\n",
        "  0.009            0.051            0.004            [0.000, 0.007]\n",
        "  0.009            0.051            0.004            [0.000, 0.007]\n",
        "\n",
        "  Posterior quantiles:\n",
        "  2.5            25             50             75             97.5\n",
        "  |--------------|==============|==============|--------------|\n",
        "  0.000          0.000          0.000          0.000          0.001\n",
        "  0.000          0.000          0.000          0.000          0.001\n",
        "  0.000          0.000          0.000          0.000          0.001\n",
        "  0.000          0.001          0.001          0.002          0.004\n",
        "  0.000          0.001          0.001          0.002          0.004\n",
        "  0.000          0.000          0.000          0.000          0.000\n",
        "  0.000          0.000          0.000          0.000          0.000\n",
        "  0.000          0.000          0.000          0.000          0.000\n",
        "  0.000          0.000          0.000          0.000          0.000\n",
        "  0.000          0.000          0.000          0.000          0.000\n",
        "  0.000          0.001          0.001          0.002          0.004\n",
        "  0.000          0.000          0.000          0.000          0.000\n",
        "  0.000          0.000          0.000          0.000          0.000\n",
        "  0.000          0.000          0.000          0.000          0.000\n",
        "  0.000          0.000          0.000          0.000          0.000\n",
        "  0.000          0.000          0.000          0.000          0.001\n",
        "  0.000          0.000          0.000          0.000          0.001\n",
        "  0.000          0.000          0.000          0.000          0.001\n",
        "  0.000          0.001          0.001          0.002          0.004\n",
        "  0.000          0.001          0.001          0.002          0.004\n",
        "  0.000          0.002          0.002          0.003          0.046\n",
        "  0.000          0.002          0.002          0.003          0.046\n",
        "  0.000          0.002          0.002          0.003          0.046\n",
        "\n",
        "\n",
        "p_s1:\n",
        " \n",
        "  Mean             SD               MC Error         95% HPD interval\n",
        "  -------------------------------------------------------------------\n",
        "  0.016            0.053            0.005            [0.002, 0.016]\n",
        "  0.016            0.053            0.005            [0.002, 0.016]\n",
        "  0.047            0.072            0.007            [0.014, 0.061]\n",
        "  0.048            0.139            0.013            [0.005, 0.079]\n",
        "  0.048            0.139            0.013            [0.005, 0.079]\n",
        "  0.007            0.062            0.006            [0.000, 0.000]\n",
        "  0.007            0.062            0.006            [0.000, 0.000]\n",
        "  0.011            0.080            0.008            [0.000, 0.000]\n",
        "  0.004            0.034            0.003            [0.000, 0.000]\n",
        "  0.007            0.062            0.006            [0.000, 0.000]\n",
        "  0.048            0.139            0.013            [0.005, 0.079]\n",
        "  0.005            0.042            0.004            [0.000, 0.002]\n",
        "  0.005            0.042            0.004            [0.000, 0.002]\n",
        "  0.004            0.034            0.003            [0.000, 0.000]\n",
        "  0.004            0.034            0.003            [0.000, 0.000]\n",
        "  0.047            0.072            0.007            [0.014, 0.061]\n",
        "  0.016            0.053            0.005            [0.002, 0.016]\n",
        "  0.047            0.072            0.007            [0.014, 0.061]\n",
        "  0.048            0.139            0.013            [0.005, 0.079]\n",
        "  0.048            0.139            0.013            [0.005, 0.079]\n",
        "  0.021            0.080            0.007            [0.002, 0.019]\n",
        "  0.021            0.080            0.007            [0.002, 0.019]\n",
        "  0.021            0.080            0.007            [0.002, 0.019]\n"
       ]
      },
      {
       "output_type": "stream",
       "stream": "stdout",
       "text": [
        "\n",
        "  Posterior quantiles:\n",
        "  2.5            25             50             75             97.5\n",
        "  |--------------|==============|==============|--------------|\n",
        "  0.003          0.004          0.007          0.010          0.119\n",
        "  0.003          0.004          0.007          0.010          0.119\n",
        "  0.016          0.028          0.041          0.049          0.078\n",
        "  0.006          0.010          0.015          0.027          0.689\n",
        "  0.006          0.010          0.015          0.027          0.689\n",
        "  0.000          0.000          0.000          0.000          0.000\n",
        "  0.000          0.000          0.000          0.000          0.000\n",
        "  0.000          0.000          0.000          0.000          0.016\n",
        "  0.000          0.000          0.000          0.000          0.015\n",
        "  0.000          0.000          0.000          0.000          0.000\n",
        "  0.006          0.010          0.015          0.027          0.689\n",
        "  0.000          0.000          0.000          0.000          0.007\n",
        "  0.000          0.000          0.000          0.000          0.007\n",
        "  0.000          0.000          0.000          0.000          0.015\n",
        "  0.000          0.000          0.000          0.000          0.015\n",
        "  0.016          0.028          0.041          0.049          0.078\n",
        "  0.003          0.004          0.007          0.010          0.119\n",
        "  0.016          0.028          0.041          0.049          0.078\n",
        "  0.006          0.010          0.015          0.027          0.689\n",
        "  0.006          0.010          0.015          0.027          0.689\n",
        "  0.003          0.005          0.006          0.009          0.192\n",
        "  0.003          0.005          0.006          0.009          0.192\n",
        "  0.003          0.005          0.006          0.009          0.192\n",
        "\n"
       ]
      }
     ],
     "prompt_number": 52
    }
   ],
   "metadata": {}
  }
 ]
}