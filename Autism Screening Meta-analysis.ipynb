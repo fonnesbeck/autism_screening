{
 "metadata": {
  "name": ""
 },
 "nbformat": 3,
 "nbformat_minor": 0,
 "worksheets": [
  {
   "cells": [
    {
     "cell_type": "code",
     "collapsed": false,
     "input": [
      "import pandas as pd"
     ],
     "language": "python",
     "metadata": {},
     "outputs": [],
     "prompt_number": 1
    },
    {
     "cell_type": "code",
     "collapsed": false,
     "input": [
      "raw_data = pd.read_csv(\"ASD_screening_data.csv\", na_values=['NR'])\n",
      "raw_data"
     ],
     "language": "python",
     "metadata": {},
     "outputs": [
      {
       "html": [
        "<pre>\n",
        "&lt;class 'pandas.core.frame.DataFrame'&gt;\n",
        "Int64Index: 44 entries, 0 to 43\n",
        "Data columns (total 34 columns):\n",
        "study_id         44  non-null values\n",
        "ref_id           44  non-null values\n",
        "author           44  non-null values\n",
        "year             44  non-null values\n",
        "country          44  non-null values\n",
        "population       44  non-null values\n",
        "screener         44  non-null values\n",
        "arm              19  non-null values\n",
        "age_mean         24  non-null values\n",
        "age_sd           21  non-null values\n",
        "age_lo           28  non-null values\n",
        "age_hi           28  non-null values\n",
        "n_m              36  non-null values\n",
        "n_f              36  non-null values\n",
        "dx_standard      43  non-null values\n",
        "risk_factor      44  non-null values\n",
        "n_screened       43  non-null values\n",
        "screen_pos       43  non-null values\n",
        "n_dx             43  non-null values\n",
        "n_pos            43  non-null values\n",
        "n_neg            43  non-null values\n",
        "n_data           43  non-null values\n",
        "tp               43  non-null values\n",
        "fp               43  non-null values\n",
        "fn               23  non-null values\n",
        "tn               23  non-null values\n",
        "fp_dev_delay     41  non-null values\n",
        "fp_lang_delay    41  non-null values\n",
        "fp_normal        41  non-null values\n",
        "fp_non_asd       41  non-null values\n",
        "tn_dev_delay     18  non-null values\n",
        "tn_lang_delay    19  non-null values\n",
        "tn_normal        18  non-null values\n",
        "tn_non_asd       19  non-null values\n",
        "dtypes: float64(22), int64(2), object(10)\n",
        "</pre>"
       ],
       "metadata": {},
       "output_type": "pyout",
       "prompt_number": 2,
       "text": [
        "<class 'pandas.core.frame.DataFrame'>\n",
        "Int64Index: 44 entries, 0 to 43\n",
        "Data columns (total 34 columns):\n",
        "study_id         44  non-null values\n",
        "ref_id           44  non-null values\n",
        "author           44  non-null values\n",
        "year             44  non-null values\n",
        "country          44  non-null values\n",
        "population       44  non-null values\n",
        "screener         44  non-null values\n",
        "arm              19  non-null values\n",
        "age_mean         24  non-null values\n",
        "age_sd           21  non-null values\n",
        "age_lo           28  non-null values\n",
        "age_hi           28  non-null values\n",
        "n_m              36  non-null values\n",
        "n_f              36  non-null values\n",
        "dx_standard      43  non-null values\n",
        "risk_factor      44  non-null values\n",
        "n_screened       43  non-null values\n",
        "screen_pos       43  non-null values\n",
        "n_dx             43  non-null values\n",
        "n_pos            43  non-null values\n",
        "n_neg            43  non-null values\n",
        "n_data           43  non-null values\n",
        "tp               43  non-null values\n",
        "fp               43  non-null values\n",
        "fn               23  non-null values\n",
        "tn               23  non-null values\n",
        "fp_dev_delay     41  non-null values\n",
        "fp_lang_delay    41  non-null values\n",
        "fp_normal        41  non-null values\n",
        "fp_non_asd       41  non-null values\n",
        "tn_dev_delay     18  non-null values\n",
        "tn_lang_delay    19  non-null values\n",
        "tn_normal        18  non-null values\n",
        "tn_non_asd       19  non-null values\n",
        "dtypes: float64(22), int64(2), object(10)"
       ]
      }
     ],
     "prompt_number": 2
    },
    {
     "cell_type": "markdown",
     "metadata": {},
     "source": [
      "Create M-CHAT-only dataset:"
     ]
    },
    {
     "cell_type": "code",
     "collapsed": false,
     "input": [
      "mchat_data = raw_data[raw_data.screener.apply(lambda x: (x.find('M-CHAT') > -1) & (x.find('9')==-1))]"
     ],
     "language": "python",
     "metadata": {},
     "outputs": [],
     "prompt_number": 3
    },
    {
     "cell_type": "code",
     "collapsed": false,
     "input": [
      "mchat_data"
     ],
     "language": "python",
     "metadata": {},
     "outputs": [
      {
       "html": [
        "<pre>\n",
        "&lt;class 'pandas.core.frame.DataFrame'&gt;\n",
        "Int64Index: 11 entries, 1 to 43\n",
        "Data columns (total 34 columns):\n",
        "study_id         11  non-null values\n",
        "ref_id           11  non-null values\n",
        "author           11  non-null values\n",
        "year             11  non-null values\n",
        "country          11  non-null values\n",
        "population       11  non-null values\n",
        "screener         11  non-null values\n",
        "arm              3  non-null values\n",
        "age_mean         4  non-null values\n",
        "age_sd           4  non-null values\n",
        "age_lo           7  non-null values\n",
        "age_hi           7  non-null values\n",
        "n_m              9  non-null values\n",
        "n_f              9  non-null values\n",
        "dx_standard      11  non-null values\n",
        "risk_factor      11  non-null values\n",
        "n_screened       11  non-null values\n",
        "screen_pos       11  non-null values\n",
        "n_dx             11  non-null values\n",
        "n_pos            11  non-null values\n",
        "n_neg            11  non-null values\n",
        "n_data           11  non-null values\n",
        "tp               11  non-null values\n",
        "fp               11  non-null values\n",
        "fn               7  non-null values\n",
        "tn               7  non-null values\n",
        "fp_dev_delay     10  non-null values\n",
        "fp_lang_delay    10  non-null values\n",
        "fp_normal        10  non-null values\n",
        "fp_non_asd       10  non-null values\n",
        "tn_dev_delay     5  non-null values\n",
        "tn_lang_delay    6  non-null values\n",
        "tn_normal        5  non-null values\n",
        "tn_non_asd       5  non-null values\n",
        "dtypes: float64(22), int64(2), object(10)\n",
        "</pre>"
       ],
       "metadata": {},
       "output_type": "pyout",
       "prompt_number": 4,
       "text": [
        "<class 'pandas.core.frame.DataFrame'>\n",
        "Int64Index: 11 entries, 1 to 43\n",
        "Data columns (total 34 columns):\n",
        "study_id         11  non-null values\n",
        "ref_id           11  non-null values\n",
        "author           11  non-null values\n",
        "year             11  non-null values\n",
        "country          11  non-null values\n",
        "population       11  non-null values\n",
        "screener         11  non-null values\n",
        "arm              3  non-null values\n",
        "age_mean         4  non-null values\n",
        "age_sd           4  non-null values\n",
        "age_lo           7  non-null values\n",
        "age_hi           7  non-null values\n",
        "n_m              9  non-null values\n",
        "n_f              9  non-null values\n",
        "dx_standard      11  non-null values\n",
        "risk_factor      11  non-null values\n",
        "n_screened       11  non-null values\n",
        "screen_pos       11  non-null values\n",
        "n_dx             11  non-null values\n",
        "n_pos            11  non-null values\n",
        "n_neg            11  non-null values\n",
        "n_data           11  non-null values\n",
        "tp               11  non-null values\n",
        "fp               11  non-null values\n",
        "fn               7  non-null values\n",
        "tn               7  non-null values\n",
        "fp_dev_delay     10  non-null values\n",
        "fp_lang_delay    10  non-null values\n",
        "fp_normal        10  non-null values\n",
        "fp_non_asd       10  non-null values\n",
        "tn_dev_delay     5  non-null values\n",
        "tn_lang_delay    6  non-null values\n",
        "tn_normal        5  non-null values\n",
        "tn_non_asd       5  non-null values\n",
        "dtypes: float64(22), int64(2), object(10)"
       ]
      }
     ],
     "prompt_number": 4
    },
    {
     "cell_type": "markdown",
     "metadata": {},
     "source": [
      "There were 8 constituent studies in the M-CHAT subset."
     ]
    },
    {
     "cell_type": "code",
     "collapsed": false,
     "input": [
      "mchat_data.study_id.value_counts()"
     ],
     "language": "python",
     "metadata": {},
     "outputs": [
      {
       "metadata": {},
       "output_type": "pyout",
       "prompt_number": 5,
       "text": [
        "9     2\n",
        "22    2\n",
        "1     2\n",
        "15    1\n",
        "19    1\n",
        "8     1\n",
        "20    1\n",
        "3     1\n",
        "dtype: int64"
       ]
      }
     ],
     "prompt_number": 5
    },
    {
     "cell_type": "markdown",
     "metadata": {},
     "source": [
      "Constituent studies were distributed among 5 countries."
     ]
    },
    {
     "cell_type": "code",
     "collapsed": false,
     "input": [
      "mchat_data.country.value_counts()"
     ],
     "language": "python",
     "metadata": {},
     "outputs": [
      {
       "metadata": {},
       "output_type": "pyout",
       "prompt_number": 6,
       "text": [
        "USA       5\n",
        "Spain     2\n",
        "Sweden    2\n",
        "Japan     1\n",
        "Canada    1\n",
        "dtype: int64"
       ]
      }
     ],
     "prompt_number": 6
    },
    {
     "cell_type": "markdown",
     "metadata": {},
     "source": [
      "Diagnostic standards used among studies:"
     ]
    },
    {
     "cell_type": "code",
     "collapsed": false,
     "input": [
      "mchat_data.dx_standard.value_counts()"
     ],
     "language": "python",
     "metadata": {},
     "outputs": [
      {
       "metadata": {},
       "output_type": "pyout",
       "prompt_number": 7,
       "text": [
        "DSM-IV, ADOS, GARS, CARS, PDD beh inventory                     2\n",
        "DSMIV, ADOS, Vineland, medical records, information from screening assessment    2\n",
        "DSM-IV TR, VABS, Merrill-Palmer revised scales, \\rADOS-G        2\n",
        "ADOS-T, Mullen, and Vineland.                                   1\n",
        "Battelle Developmental Inventory, \\rM-CHAT, and DSM-IV-TR criteria    1\n",
        "CARS, DSM-IV & \\rclinical judgement                             1\n",
        "DSM-IV-TR criteria using CARS\\r _ Tokyo Version                 1\n",
        "ADOS,  ADI-R, Mullen Scales of early Learning, \\rthe VABSand CARS, DSM-IV    1\n",
        "dtype: int64"
       ]
      }
     ],
     "prompt_number": 7
    },
    {
     "cell_type": "code",
     "collapsed": false,
     "input": [
      "mchat_data.population.value_counts()"
     ],
     "language": "python",
     "metadata": {},
     "outputs": [
      {
       "metadata": {},
       "output_type": "pyout",
       "prompt_number": 8,
       "text": [
        "general population                          6\n",
        "developmental delay                         4\n",
        "general population + developmental delay    1\n",
        "dtype: int64"
       ]
      }
     ],
     "prompt_number": 8
    },
    {
     "cell_type": "code",
     "collapsed": false,
     "input": [
      "mchat_data['population']"
     ],
     "language": "python",
     "metadata": {},
     "outputs": [
      {
       "metadata": {},
       "output_type": "pyout",
       "prompt_number": 9,
       "text": [
        "1                           general population\n",
        "2                           general population\n",
        "4                           general population\n",
        "16                         developmental delay\n",
        "17                         developmental delay\n",
        "26                         developmental delay\n",
        "35                         developmental delay\n",
        "36                          general population\n",
        "38                          general population\n",
        "42    general population + developmental delay\n",
        "43                          general population\n",
        "Name: population, dtype: object"
       ]
      }
     ],
     "prompt_number": 9
    },
    {
     "cell_type": "code",
     "collapsed": false,
     "input": [
      "mchat_data['popval'] = mchat_data['population'].replace({'general population':0, \n",
      "                     'general population + developmental delay':0.5, \n",
      "                     'developmental delay':1})\n",
      "mchat_data.popval"
     ],
     "language": "python",
     "metadata": {},
     "outputs": [
      {
       "metadata": {},
       "output_type": "pyout",
       "prompt_number": 10,
       "text": [
        "1     0.0\n",
        "2     0.0\n",
        "4     0.0\n",
        "16    1.0\n",
        "17    1.0\n",
        "26    1.0\n",
        "35    1.0\n",
        "36    0.0\n",
        "38    0.0\n",
        "42    0.5\n",
        "43    0.0\n",
        "Name: popval, dtype: float64"
       ]
      }
     ],
     "prompt_number": 10
    },
    {
     "cell_type": "markdown",
     "metadata": {},
     "source": [
      "## Meta-analysis of M-CHAT"
     ]
    },
    {
     "cell_type": "markdown",
     "metadata": {},
     "source": [
      "We estimate screening tool sensitivity and specificity based on four cell probabilities that exhaustively describe the outcomes of screening relative to diagnosis:\n",
      "\n",
      "* true positive: $Pr [\\text{screen positive} \\, | \\, \\text{diagnosed} ]$\n",
      "* false negative: $Pr [\\text{screen negative} \\, | \\, \\text{diagnosed} ]$\n",
      "* true negative: $Pr [\\text{screen negative} \\, | \\, \\text{not diagnosed}]$\n",
      "* false positive: $Pr [\\text{screen positive} \\, | \\, \\text{not diagnosed}]$\n",
      "\n",
      "To account for the dependence among these parameters, we modeled sensitivity and specificity jointly as a function of these probabilities. Following (Puggioni et al. 2008), we define random effects submodels for three probabilities:\n",
      "\n",
      "$$\n",
      "\\begin{aligned}\n",
      "\\text{logit}(Pr(D_i = 1 | \\, S_i = 1)) &= \\mu_1 + \\epsilon_{1i} \\cr\n",
      "\\text{logit}(Pr(D_i = 1 | S_i = 0)) &= \\mu_2 + \\epsilon_{1i} \\cr\n",
      "\\text{logit}(Pr(S_i = 1)) &= \\mu_3 + \\epsilon_{1i}\n",
      "\\end{aligned}\n",
      "$$\n",
      "\n",
      "where $D_i$ is the diagnosis (0=negative, 1=positive) from study $i$, $S_i$ is the screening outcome from study $i$, $\\mu_k$ is the population mean (on the logit scale) for probability $k$, and $\\epsilon_{ki}$ is the random effect for probability $k$ in study $i$. Random effects are modeled as simple independent, normally-distributed random variables with zero-mean:\n",
      "\n",
      "$$\\epsilon_{ki} \\sim N(0, \\sigma_k^2)$$\n",
      "\n",
      "Note that each of the three probabilities gets its own random effect variance $\\sigma^2_k$. The probabilities above uniquely determine the sensitivity and specificity rates, via Bayes' formula:\n",
      "\n",
      "$$\n",
      "\\begin{aligned}\n",
      "\\text{sensitivity}_i &= Pr(S_i = 1 | D_i = 1) \\propto Pr(D_i = 1 | S_i = 1) Pr(S_i=1) \\cr\n",
      "\\text{specificity}_i &= Pr(S_i = 0 | D_i = 0) \\propto (1 - Pr(D_i = 1 | S_i = 0))(1 - Pr(S_i = 0))\n",
      "\\end{aligned}\n",
      "$$\n",
      "\n",
      "The data likelihoods for the observed true positive and true negative counts were then modeled as binomial draws from the sum of true positive and false negative counts, and true negative and false positive counts, respectively."
     ]
    },
    {
     "cell_type": "markdown",
     "metadata": {},
     "source": [
      "### Covariates\n",
      "\n",
      "With only 12 studies, there is little scope for incorporating study-level covariates. One interesting difference among the studies is the populations from which samples were derived: they were evenly split between *general population* and *developmental delay*, with one study drawing from both. We therefore attempted to include and indicator for developmental delay in the model."
     ]
    },
    {
     "cell_type": "markdown",
     "metadata": {},
     "source": [
      "### Priors\n",
      "\n",
      "To represent the lack of prior information, vague priors were placed on all stochastic parameters in the model. Namely, the population means for the cell probabilities $\\mu_k$ were given $N(0, 100)$ priors, which are relatively flat on the probability (inverse-logit) scale, and the random effect standard deviations were given uniform priors on the (0, 1000) interval (Gelman et al 2006). Models were fit via Markov chain Monte Carlo (MCMC, Gamerman et al.,1997) using PyMC 3 (Patil e al., 2010). Models were run for 20,000 iterations, with the first 10,000 discarded as a conservative burn-in period, yielding 10000 samples for inference."
     ]
    },
    {
     "cell_type": "markdown",
     "metadata": {},
     "source": [
      "### Model specification"
     ]
    },
    {
     "cell_type": "code",
     "collapsed": false,
     "input": [
      "# Exctract unique study ID values to be used as random effect\n",
      "mchat_studies = mchat_data.study_id.unique()\n",
      "mchat_studies"
     ],
     "language": "python",
     "metadata": {},
     "outputs": [
      {
       "metadata": {},
       "output_type": "pyout",
       "prompt_number": 11,
       "text": [
        "array([ 1,  3,  9, 15,  8, 19, 20, 22])"
       ]
      }
     ],
     "prompt_number": 11
    },
    {
     "cell_type": "code",
     "collapsed": false,
     "input": [
      "study_idx = np.where([mchat_studies==s for s in mchat_data.study_id])[1]\n",
      "study_idx"
     ],
     "language": "python",
     "metadata": {},
     "outputs": [
      {
       "metadata": {},
       "output_type": "pyout",
       "prompt_number": 12,
       "text": [
        "array([0, 0, 1, 2, 2, 3, 4, 5, 6, 7, 7])"
       ]
      }
     ],
     "prompt_number": 12
    },
    {
     "cell_type": "code",
     "collapsed": false,
     "input": [
      "# Identify studies that only recored true positives and false positives\n",
      "ppv_only = mchat_data[mchat_data.fn.isnull()].study_id.unique()\n",
      "ppv_only"
     ],
     "language": "python",
     "metadata": {},
     "outputs": [
      {
       "metadata": {},
       "output_type": "pyout",
       "prompt_number": 13,
       "text": [
        "array([ 8, 20, 22])"
       ]
      }
     ],
     "prompt_number": 13
    },
    {
     "cell_type": "code",
     "collapsed": false,
     "input": [
      "all_values = mchat_data[mchat_data.fn.notnull()].study_id.unique()\n",
      "all_values"
     ],
     "language": "python",
     "metadata": {},
     "outputs": [
      {
       "metadata": {},
       "output_type": "pyout",
       "prompt_number": 14,
       "text": [
        "array([ 1,  3,  9, 15, 19])"
       ]
      }
     ],
     "prompt_number": 14
    },
    {
     "cell_type": "code",
     "collapsed": false,
     "input": [
      "all_data = mchat_data.fn.notnull().values\n",
      "ppv_only = all_data - True\n",
      "ppv_only"
     ],
     "language": "python",
     "metadata": {},
     "outputs": [
      {
       "metadata": {},
       "output_type": "pyout",
       "prompt_number": 15,
       "text": [
        "array([False, False, False, False, False, False,  True, False,  True,\n",
        "        True,  True], dtype=bool)"
       ]
      }
     ],
     "prompt_number": 15
    },
    {
     "cell_type": "code",
     "collapsed": false,
     "input": [
      "from pymc import Model, Normal, Uniform, Binomial, Deterministic\n",
      "import theano.tensor as t\n",
      "\n",
      "def tinvlogit(x):\n",
      "    return t.exp(x) / (1 + t.exp(x))\n",
      "\n",
      "with Model() as mchat_model:\n",
      "    \n",
      "    tp = mchat_data.tp.values\n",
      "    tn = mchat_data.tn.values\n",
      "    fp = mchat_data.fp.values\n",
      "    fn = mchat_data.fn.values\n",
      "    pop = mchat_data.popval\n",
      "    \n",
      "    # Population means for probabilities\n",
      "    mu = Normal('mu', 0., 0.01, shape=3)\n",
      "    # Transform to probability scale\n",
      "    Ep = Deterministic('Ep', tinvlogit(mu))\n",
      "    \n",
      "    # Random effect inverse-variance\n",
      "    sigma = Uniform('sigma', 0, 1000, shape=3)\n",
      "    tau = sigma**-2\n",
      "    \n",
      "    # Effect of study population\n",
      "    #beta = Normal('beta', 0., 0.01, shape=3)\n",
      "    \n",
      "    # Study random effects\n",
      "    epsilon_d1s1 = Normal('epsilon_d1s1', 0.0, tau[0], shape=len(mchat_studies))\n",
      "    epsilon_d1s0 = Normal('epsilon_d1s0', 0.0, tau[1], shape=len(mchat_studies))\n",
      "    epsilon_s1 = Normal('epsilon_s1', 0.0, tau[2], shape=len(mchat_studies))\n",
      "    \n",
      "    # Probabilities\n",
      "#     p_d1s1 = Deterministic('p_d1s1', tinvlogit(mu[0] + beta[0]*pop + epsilon_d1s1[study_idx]))\n",
      "#     p_d1s0 = Deterministic('p_d1s0', tinvlogit(mu[1] + beta[1]*pop + epsilon_d1s0[study_idx]))\n",
      "#     p_s1 = Deterministic('p_s1', tinvlogit(mu[2] + beta[2]*pop + epsilon_s1[study_idx]))\n",
      "    p_d1s1 = Deterministic('p_d1s1', tinvlogit(mu[0] + epsilon_d1s1[study_idx]))\n",
      "    p_d1s0 = Deterministic('p_d1s0', tinvlogit(mu[1] + epsilon_d1s0[study_idx]))\n",
      "    p_s1 = Deterministic('p_s1', tinvlogit(mu[2] + epsilon_s1[study_idx]))\n",
      "    \n",
      "    p_d1 = (p_d1s1 * p_s1 + p_d1s0 * (1 - p_s1) + 1e-6)\n",
      "    p_d0 = 1 - p_d1\n",
      "    p_sens = (p_d1s1 * p_s1) / p_d1 \n",
      "    p_spec = ((1 - p_d1s1) * (1 - p_s1)) / p_d0\n",
      "    \n",
      "    E_sens = Deterministic('E_sens', \n",
      "                    (Ep[0] * Ep[2]) / (Ep[0] * Ep[2] + Ep[1] * (1 - Ep[2]) + 1e-6))\n",
      "    E_spec = Deterministic('E_spec', \n",
      "                ((1 - Ep[0]) * (1 - Ep[2])) / (1. - (Ep[0] * Ep[2] + Ep[1] * (1 - Ep[2]) + 1e-6)))\n",
      "    \n",
      "    # Data likelihoods\n",
      "    i = t.constant(np.where(all_data)[0].tolist())\n",
      "    sensitivity = Binomial('sensitivity', n=tp[all_data]+fn[all_data], p=p_sens[i], \n",
      "                           observed=tp[all_data])\n",
      "    specificity = Binomial('specificity', n=tn[all_data]+fp[all_data], p=p_spec[i], \n",
      "                           observed=tn[all_data])\n",
      "    \n",
      "    j = t.constant(np.where(ppv_only)[0].tolist())\n",
      "    ppv = Binomial('ppv', n=tp[ppv_only]+fp[ppv_only], p=p_d1s1[j], observed=tp[ppv_only])\n",
      "    \n",
      "    # Posterior predictive\n",
      "    #sens_pred = Binomial('sens_pred', n=tp[all_data]+fn[all_data], p=p_sens[i], shape=len(tp[all_data]))\n",
      "    #spec_pred = Binomial('spec_pred', n=tn[all_data]+fp[all_data], p=p_spec[i], shape=len(tn[all_data]))"
     ],
     "language": "python",
     "metadata": {},
     "outputs": [],
     "prompt_number": "*"
    },
    {
     "cell_type": "code",
     "collapsed": false,
     "input": [
      "from pymc import NUTS, Metropolis, sample, Slice, find_MAP, psample\n",
      "\n",
      "with mchat_model:\n",
      "    \n",
      "    start = {'sigma': [10]*3, 'mu': [0.]*3, 'epsilon_d1s0': [0.]*len(mchat_studies),\n",
      "             'epsilon_d1s1': [0.]*len(mchat_studies), 'epsilon_s1': [0.]*len(mchat_studies)}\n",
      "    \n",
      "    step = NUTS()\n",
      "    \n",
      "    tr = psample(5000, step)"
     ],
     "language": "python",
     "metadata": {},
     "outputs": [],
     "prompt_number": "*"
    },
    {
     "cell_type": "code",
     "collapsed": false,
     "input": [
      "from pymc import traceplot\n",
      "\n",
      "_ = traceplot(tr, vars=['Ep'])"
     ],
     "language": "python",
     "metadata": {},
     "outputs": [],
     "prompt_number": "*"
    },
    {
     "cell_type": "code",
     "collapsed": false,
     "input": [
      "from pymc import summary\n",
      "summary(tr[5000:], vars=['Ep'])"
     ],
     "language": "python",
     "metadata": {},
     "outputs": [
      {
       "output_type": "stream",
       "stream": "stdout",
       "text": [
        "\n",
        "Ep:\n",
        " \n",
        "\tMean             SD               MC Error        95% HPD interval\n",
        "\t------------------------------------------------------------------\n",
        "\t0.488            0.201            0.02             [ 0.215  0.729]\n",
        "\t0.459            0.426            0.043            [ 0.001  0.938]\n",
        "\t0.387            0.304            0.03             [ 0.005  0.72 ]\n",
        "\t\n",
        "\t\n",
        "\tPosterior quantiles:\n",
        "\t\n",
        "\t2.5             25              50              75             97.5\n",
        "\t |---------------|===============|===============|---------------|\n",
        "\t0.206            0.292           0.609          0.692         0.725\n",
        "\t0.003            0.032           0.734          0.885         0.952\n",
        "\t0.008            0.047           0.583          0.685         0.725\n",
        "\t"
       ]
      },
      {
       "output_type": "stream",
       "stream": "stdout",
       "text": [
        "\n"
       ]
      }
     ],
     "prompt_number": 28
    },
    {
     "cell_type": "code",
     "collapsed": false,
     "input": [
      "from pymc import forestplot\n",
      "\n",
      "forestplot(tr[5000:], vars=['p_d1s1'])"
     ],
     "language": "python",
     "metadata": {},
     "outputs": [
      {
       "metadata": {},
       "output_type": "pyout",
       "prompt_number": 29,
       "text": [
        "<matplotlib.gridspec.GridSpec at 0x10eb09a10>"
       ]
      },
      {
       "metadata": {},
       "output_type": "display_data",
       "png": "[encoded data removed]",
       "text": [
        "<matplotlib.figure.Figure at 0x10eb09490>"
       ]
      }
     ],
     "prompt_number": 29
    },
    {
     "cell_type": "markdown",
     "metadata": {},
     "source": [
      "## Global meta-analysis\n",
      "\n",
      "We are treating both the tool and the study ID as random effects."
     ]
    },
    {
     "cell_type": "code",
     "collapsed": false,
     "input": [
      "raw_data.study_id.value_counts()"
     ],
     "language": "python",
     "metadata": {},
     "outputs": []
    },
    {
     "cell_type": "code",
     "collapsed": false,
     "input": [
      "from pymc import Model, Normal, Uniform, Binomial, Deterministic\n",
      "import theano.tensor as t\n",
      "\n",
      "def tinvlogit(x):\n",
      "    return t.exp(x) / (1 + t.exp(x))\n",
      "\n",
      "with Model() as global_model:\n",
      "    \n",
      "    tp = all_data.tp.values\n",
      "    tn = all_data.tn.values\n",
      "    fp = all_data.fp.values\n",
      "    fn = all_data.fn.values\n",
      "    pop = all_data.popval\n",
      "    \n",
      "    # Population means for probabilities\n",
      "    mu = Normal('mu', 0., 0.01, shape=3)\n",
      "    # Transform to probability scale\n",
      "    Ep = Deterministic('Ep', tinvlogit(mu))\n",
      "    \n",
      "    # Random effect inverse-variance\n",
      "    sigma = Uniform('sigma', 0, 1000, shape=3)\n",
      "    tau = sigma**-2\n",
      "    \n",
      "    # Effect of study population\n",
      "    #beta = Normal('beta', 0., 0.01, shape=3)\n",
      "    \n",
      "    # Study random effects\n",
      "    epsilon_d1s1 = Normal('epsilon_d1s1', 0.0, tau[0], shape=len(mchat_studies))\n",
      "    epsilon_d1s0 = Normal('epsilon_d1s0', 0.0, tau[1], shape=len(mchat_studies))\n",
      "    epsilon_s1 = Normal('epsilon_s1', 0.0, tau[2], shape=len(mchat_studies))\n",
      "    \n",
      "    # Probabilities\n",
      "#     p_d1s1 = Deterministic('p_d1s1', tinvlogit(mu[0] + beta[0]*pop + epsilon_d1s1[study_idx]))\n",
      "#     p_d1s0 = Deterministic('p_d1s0', tinvlogit(mu[1] + beta[1]*pop + epsilon_d1s0[study_idx]))\n",
      "#     p_s1 = Deterministic('p_s1', tinvlogit(mu[2] + beta[2]*pop + epsilon_s1[study_idx]))\n",
      "    p_d1s1 = Deterministic('p_d1s1', tinvlogit(mu[0] + epsilon_d1s1[study_idx]))\n",
      "    p_d1s0 = Deterministic('p_d1s0', tinvlogit(mu[1] + epsilon_d1s0[study_idx]))\n",
      "    p_s1 = Deterministic('p_s1', tinvlogit(mu[2] + epsilon_s1[study_idx]))\n",
      "    \n",
      "    p_d1 = (p_d1s1 * p_s1 + p_d1s0 * (1 - p_s1) + 1e-6)\n",
      "    p_d0 = 1 - p_d1\n",
      "    p_sens = (p_d1s1 * p_s1) / p_d1 \n",
      "    p_spec = ((1 - p_d1s1) * (1 - p_s1)) / p_d0\n",
      "    \n",
      "    E_sens = Deterministic('E_sens', \n",
      "                    (Ep[0] * Ep[2]) / (Ep[0] * Ep[2] + Ep[1] * (1 - Ep[2]) + 1e-6))\n",
      "    E_spec = Deterministic('E_spec', \n",
      "                ((1 - Ep[0]) * (1 - Ep[2])) / (1. - (Ep[0] * Ep[2] + Ep[1] * (1 - Ep[2]) + 1e-6)))\n",
      "    \n",
      "    # Data likelihoods\n",
      "    i = t.constant(np.where(all_data)[0].tolist())\n",
      "    sensitivity = Binomial('sensitivity', n=tp[all_data]+fn[all_data], p=p_sens[i], \n",
      "                           observed=tp[all_data])\n",
      "    specificity = Binomial('specificity', n=tn[all_data]+fp[all_data], p=p_spec[i], \n",
      "                           observed=tn[all_data])\n",
      "    \n",
      "    j = t.constant(np.where(ppv_only)[0].tolist())\n",
      "    ppv = Binomial('ppv', n=tp[ppv_only]+fp[ppv_only], p=p_d1s1[j], observed=tp[ppv_only])\n",
      "    \n",
      "    # Posterior predictive\n",
      "    #sens_pred = Binomial('sens_pred', n=tp[all_data]+fn[all_data], p=p_sens[i], shape=len(tp[all_data]))\n",
      "    #spec_pred = Binomial('spec_pred', n=tn[all_data]+fp[all_data], p=p_spec[i], shape=len(tn[all_data]))"
     ],
     "language": "python",
     "metadata": {},
     "outputs": []
    }
   ],
   "metadata": {}
  }
 ]
}