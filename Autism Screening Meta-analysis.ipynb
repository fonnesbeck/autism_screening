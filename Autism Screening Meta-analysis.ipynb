{
 "metadata": {
  "name": ""
 },
 "nbformat": 3,
 "nbformat_minor": 0,
 "worksheets": [
  {
   "cells": [
    {
     "cell_type": "code",
     "collapsed": false,
     "input": [
      "import pandas as pd"
     ],
     "language": "python",
     "metadata": {},
     "outputs": [],
     "prompt_number": 1
    },
    {
     "cell_type": "code",
     "collapsed": false,
     "input": [
      "raw_data = pd.read_csv(\"ASD_screening_data.csv\", na_values=['NR'])\n",
      "raw_data"
     ],
     "language": "python",
     "metadata": {},
     "outputs": [
      {
       "html": [
        "<pre>\n",
        "&lt;class 'pandas.core.frame.DataFrame'&gt;\n",
        "Int64Index: 44 entries, 0 to 43\n",
        "Data columns (total 34 columns):\n",
        "study_id         44  non-null values\n",
        "ref_id           44  non-null values\n",
        "author           44  non-null values\n",
        "year             44  non-null values\n",
        "country          44  non-null values\n",
        "population       44  non-null values\n",
        "screener         44  non-null values\n",
        "arm              19  non-null values\n",
        "age_mean         24  non-null values\n",
        "age_sd           21  non-null values\n",
        "age_lo           28  non-null values\n",
        "age_hi           28  non-null values\n",
        "n_m              36  non-null values\n",
        "n_f              36  non-null values\n",
        "dx_standard      43  non-null values\n",
        "risk_factor      44  non-null values\n",
        "n_screened       43  non-null values\n",
        "screen_pos       43  non-null values\n",
        "n_dx             43  non-null values\n",
        "n_pos            43  non-null values\n",
        "n_neg            43  non-null values\n",
        "n_data           43  non-null values\n",
        "tp               43  non-null values\n",
        "fp               43  non-null values\n",
        "fn               23  non-null values\n",
        "tn               23  non-null values\n",
        "fp_dev_delay     41  non-null values\n",
        "fp_lang_delay    41  non-null values\n",
        "fp_normal        41  non-null values\n",
        "fp_non_asd       41  non-null values\n",
        "tn_dev_delay     18  non-null values\n",
        "tn_lang_delay    19  non-null values\n",
        "tn_normal        18  non-null values\n",
        "tn_non_asd       19  non-null values\n",
        "dtypes: float64(22), int64(2), object(10)\n",
        "</pre>"
       ],
       "metadata": {},
       "output_type": "pyout",
       "prompt_number": 59,
       "text": [
        "<class 'pandas.core.frame.DataFrame'>\n",
        "Int64Index: 44 entries, 0 to 43\n",
        "Data columns (total 34 columns):\n",
        "study_id         44  non-null values\n",
        "ref_id           44  non-null values\n",
        "author           44  non-null values\n",
        "year             44  non-null values\n",
        "country          44  non-null values\n",
        "population       44  non-null values\n",
        "screener         44  non-null values\n",
        "arm              19  non-null values\n",
        "age_mean         24  non-null values\n",
        "age_sd           21  non-null values\n",
        "age_lo           28  non-null values\n",
        "age_hi           28  non-null values\n",
        "n_m              36  non-null values\n",
        "n_f              36  non-null values\n",
        "dx_standard      43  non-null values\n",
        "risk_factor      44  non-null values\n",
        "n_screened       43  non-null values\n",
        "screen_pos       43  non-null values\n",
        "n_dx             43  non-null values\n",
        "n_pos            43  non-null values\n",
        "n_neg            43  non-null values\n",
        "n_data           43  non-null values\n",
        "tp               43  non-null values\n",
        "fp               43  non-null values\n",
        "fn               23  non-null values\n",
        "tn               23  non-null values\n",
        "fp_dev_delay     41  non-null values\n",
        "fp_lang_delay    41  non-null values\n",
        "fp_normal        41  non-null values\n",
        "fp_non_asd       41  non-null values\n",
        "tn_dev_delay     18  non-null values\n",
        "tn_lang_delay    19  non-null values\n",
        "tn_normal        18  non-null values\n",
        "tn_non_asd       19  non-null values\n",
        "dtypes: float64(22), int64(2), object(10)"
       ]
      }
     ],
     "prompt_number": 59
    },
    {
     "cell_type": "code",
     "collapsed": false,
     "input": [
      "raw_data[(raw_data.screener=='M-CHAT + interview') | (raw_data.screener=='M-CHAT')].ref_id"
     ],
     "language": "python",
     "metadata": {},
     "outputs": [
      {
       "metadata": {},
       "output_type": "pyout",
       "prompt_number": 72,
       "text": [
        "1       48\n",
        "16     660\n",
        "17     660\n",
        "26    1000\n",
        "35    1581\n",
        "38    3114\n",
        "42    298a\n",
        "43    298b\n",
        "Name: ref_id, dtype: object"
       ]
      }
     ],
     "prompt_number": 72
    },
    {
     "cell_type": "markdown",
     "metadata": {},
     "source": [
      "Create M-CHAT-only dataset:"
     ]
    },
    {
     "cell_type": "code",
     "collapsed": false,
     "input": [
      "mchat_data = raw_data[raw_data.screener.apply(lambda x: (x.find('M-CHAT') > -1) & (x.find('9')==-1))]"
     ],
     "language": "python",
     "metadata": {},
     "outputs": [],
     "prompt_number": 60
    },
    {
     "cell_type": "code",
     "collapsed": false,
     "input": [
      "mchat_data = raw_data[(raw_data.screener=='M-CHAT + interview') | (raw_data.screener=='M-CHAT')]"
     ],
     "language": "python",
     "metadata": {},
     "outputs": [],
     "prompt_number": 61
    },
    {
     "cell_type": "code",
     "collapsed": false,
     "input": [
      "mchat_data"
     ],
     "language": "python",
     "metadata": {},
     "outputs": [
      {
       "html": [
        "<pre>\n",
        "&lt;class 'pandas.core.frame.DataFrame'&gt;\n",
        "Int64Index: 8 entries, 1 to 43\n",
        "Data columns (total 34 columns):\n",
        "study_id         8  non-null values\n",
        "ref_id           8  non-null values\n",
        "author           8  non-null values\n",
        "year             8  non-null values\n",
        "country          8  non-null values\n",
        "population       8  non-null values\n",
        "screener         8  non-null values\n",
        "arm              2  non-null values\n",
        "age_mean         3  non-null values\n",
        "age_sd           3  non-null values\n",
        "age_lo           5  non-null values\n",
        "age_hi           5  non-null values\n",
        "n_m              7  non-null values\n",
        "n_f              7  non-null values\n",
        "dx_standard      8  non-null values\n",
        "risk_factor      8  non-null values\n",
        "n_screened       8  non-null values\n",
        "screen_pos       8  non-null values\n",
        "n_dx             8  non-null values\n",
        "n_pos            8  non-null values\n",
        "n_neg            8  non-null values\n",
        "n_data           8  non-null values\n",
        "tp               8  non-null values\n",
        "fp               8  non-null values\n",
        "fn               4  non-null values\n",
        "tn               4  non-null values\n",
        "fp_dev_delay     7  non-null values\n",
        "fp_lang_delay    7  non-null values\n",
        "fp_normal        7  non-null values\n",
        "fp_non_asd       7  non-null values\n",
        "tn_dev_delay     3  non-null values\n",
        "tn_lang_delay    3  non-null values\n",
        "tn_normal        3  non-null values\n",
        "tn_non_asd       3  non-null values\n",
        "dtypes: float64(22), int64(2), object(10)\n",
        "</pre>"
       ],
       "metadata": {},
       "output_type": "pyout",
       "prompt_number": 62,
       "text": [
        "<class 'pandas.core.frame.DataFrame'>\n",
        "Int64Index: 8 entries, 1 to 43\n",
        "Data columns (total 34 columns):\n",
        "study_id         8  non-null values\n",
        "ref_id           8  non-null values\n",
        "author           8  non-null values\n",
        "year             8  non-null values\n",
        "country          8  non-null values\n",
        "population       8  non-null values\n",
        "screener         8  non-null values\n",
        "arm              2  non-null values\n",
        "age_mean         3  non-null values\n",
        "age_sd           3  non-null values\n",
        "age_lo           5  non-null values\n",
        "age_hi           5  non-null values\n",
        "n_m              7  non-null values\n",
        "n_f              7  non-null values\n",
        "dx_standard      8  non-null values\n",
        "risk_factor      8  non-null values\n",
        "n_screened       8  non-null values\n",
        "screen_pos       8  non-null values\n",
        "n_dx             8  non-null values\n",
        "n_pos            8  non-null values\n",
        "n_neg            8  non-null values\n",
        "n_data           8  non-null values\n",
        "tp               8  non-null values\n",
        "fp               8  non-null values\n",
        "fn               4  non-null values\n",
        "tn               4  non-null values\n",
        "fp_dev_delay     7  non-null values\n",
        "fp_lang_delay    7  non-null values\n",
        "fp_normal        7  non-null values\n",
        "fp_non_asd       7  non-null values\n",
        "tn_dev_delay     3  non-null values\n",
        "tn_lang_delay    3  non-null values\n",
        "tn_normal        3  non-null values\n",
        "tn_non_asd       3  non-null values\n",
        "dtypes: float64(22), int64(2), object(10)"
       ]
      }
     ],
     "prompt_number": 62
    },
    {
     "cell_type": "markdown",
     "metadata": {},
     "source": [
      "There were 8 constituent studies in the M-CHAT subset."
     ]
    },
    {
     "cell_type": "code",
     "collapsed": false,
     "input": [
      "mchat_data.study_id.value_counts()"
     ],
     "language": "python",
     "metadata": {},
     "outputs": [
      {
       "metadata": {},
       "output_type": "pyout",
       "prompt_number": 64,
       "text": [
        "22    2\n",
        "9     2\n",
        "15    1\n",
        "20    1\n",
        "1     1\n",
        "8     1\n",
        "dtype: int64"
       ]
      }
     ],
     "prompt_number": 64
    },
    {
     "cell_type": "code",
     "collapsed": false,
     "input": [
      "mchat_data[['ref_id', 'author']]"
     ],
     "language": "python",
     "metadata": {},
     "outputs": [
      {
       "html": [
        "<div style=\"max-height:1000px;max-width:1500px;overflow:auto;\">\n",
        "<table border=\"1\" class=\"dataframe\">\n",
        "  <thead>\n",
        "    <tr style=\"text-align: right;\">\n",
        "      <th></th>\n",
        "      <th>ref_id</th>\n",
        "      <th>author</th>\n",
        "    </tr>\n",
        "  </thead>\n",
        "  <tbody>\n",
        "    <tr>\n",
        "      <th>1 </th>\n",
        "      <td>   48</td>\n",
        "      <td>      Nygren</td>\n",
        "    </tr>\n",
        "    <tr>\n",
        "      <th>16</th>\n",
        "      <td>  660</td>\n",
        "      <td>        Snow</td>\n",
        "    </tr>\n",
        "    <tr>\n",
        "      <th>17</th>\n",
        "      <td>  660</td>\n",
        "      <td>        Snow</td>\n",
        "    </tr>\n",
        "    <tr>\n",
        "      <th>26</th>\n",
        "      <td> 1000</td>\n",
        "      <td>       Eaves</td>\n",
        "    </tr>\n",
        "    <tr>\n",
        "      <th>35</th>\n",
        "      <td> 1581</td>\n",
        "      <td>   Kozlowski</td>\n",
        "    </tr>\n",
        "    <tr>\n",
        "      <th>38</th>\n",
        "      <td> 3114</td>\n",
        "      <td>  Cheblowski</td>\n",
        "    </tr>\n",
        "    <tr>\n",
        "      <th>42</th>\n",
        "      <td> 298a</td>\n",
        "      <td> Canal-Bedia</td>\n",
        "    </tr>\n",
        "    <tr>\n",
        "      <th>43</th>\n",
        "      <td> 298b</td>\n",
        "      <td> Canal-Bedia</td>\n",
        "    </tr>\n",
        "  </tbody>\n",
        "</table>\n",
        "</div>"
       ],
       "metadata": {},
       "output_type": "pyout",
       "prompt_number": 68,
       "text": [
        "   ref_id       author\n",
        "1      48       Nygren\n",
        "16    660         Snow\n",
        "17    660         Snow\n",
        "26   1000        Eaves\n",
        "35   1581    Kozlowski\n",
        "38   3114   Cheblowski\n",
        "42   298a  Canal-Bedia\n",
        "43   298b  Canal-Bedia"
       ]
      }
     ],
     "prompt_number": 68
    },
    {
     "cell_type": "markdown",
     "metadata": {},
     "source": [
      "Constituent studies were distributed among 5 countries."
     ]
    },
    {
     "cell_type": "code",
     "collapsed": false,
     "input": [
      "mchat_data.country.value_counts()"
     ],
     "language": "python",
     "metadata": {},
     "outputs": [
      {
       "metadata": {},
       "output_type": "pyout",
       "prompt_number": 7,
       "text": [
        "USA       4\n",
        "Spain     2\n",
        "Sweden    1\n",
        "Canada    1\n",
        "dtype: int64"
       ]
      }
     ],
     "prompt_number": 7
    },
    {
     "cell_type": "markdown",
     "metadata": {},
     "source": [
      "Diagnostic standards used among studies:"
     ]
    },
    {
     "cell_type": "code",
     "collapsed": false,
     "input": [
      "mchat_data.dx_standard.value_counts()"
     ],
     "language": "python",
     "metadata": {},
     "outputs": [
      {
       "metadata": {},
       "output_type": "pyout",
       "prompt_number": 8,
       "text": [
        "DSM-IV TR, VABS, Merrill-Palmer revised scales, \\rADOS-G        2\n",
        "DSM-IV, ADOS, GARS, CARS, PDD beh inventory                     2\n",
        "Battelle Developmental Inventory, \\rM-CHAT, and DSM-IV-TR criteria    1\n",
        "DSMIV, ADOS, Vineland, medical records, information from screening assessment    1\n",
        "CARS, DSM-IV & \\rclinical judgement                             1\n",
        "ADOS,  ADI-R, Mullen Scales of early Learning, \\rthe VABSand CARS, DSM-IV    1\n",
        "dtype: int64"
       ]
      }
     ],
     "prompt_number": 8
    },
    {
     "cell_type": "code",
     "collapsed": false,
     "input": [
      "mchat_data.population.value_counts()"
     ],
     "language": "python",
     "metadata": {},
     "outputs": [
      {
       "metadata": {},
       "output_type": "pyout",
       "prompt_number": 9,
       "text": [
        "developmental delay                         4\n",
        "general population                          3\n",
        "general population + developmental delay    1\n",
        "dtype: int64"
       ]
      }
     ],
     "prompt_number": 9
    },
    {
     "cell_type": "code",
     "collapsed": false,
     "input": [
      "mchat_data['population']"
     ],
     "language": "python",
     "metadata": {},
     "outputs": [
      {
       "metadata": {},
       "output_type": "pyout",
       "prompt_number": 10,
       "text": [
        "1                           general population\n",
        "16                         developmental delay\n",
        "17                         developmental delay\n",
        "26                         developmental delay\n",
        "35                         developmental delay\n",
        "38                          general population\n",
        "42    general population + developmental delay\n",
        "43                          general population\n",
        "Name: population, dtype: object"
       ]
      }
     ],
     "prompt_number": 10
    },
    {
     "cell_type": "code",
     "collapsed": false,
     "input": [
      "mchat_data['popval'] = mchat_data['population'].replace({'general population':0, \n",
      "                     'general population + developmental delay':0.5, \n",
      "                     'developmental delay':1})\n",
      "mchat_data.popval"
     ],
     "language": "python",
     "metadata": {},
     "outputs": [
      {
       "metadata": {},
       "output_type": "pyout",
       "prompt_number": 11,
       "text": [
        "1     0.0\n",
        "16    1.0\n",
        "17    1.0\n",
        "26    1.0\n",
        "35    1.0\n",
        "38    0.0\n",
        "42    0.5\n",
        "43    0.0\n",
        "Name: popval, dtype: float64"
       ]
      }
     ],
     "prompt_number": 11
    },
    {
     "cell_type": "markdown",
     "metadata": {},
     "source": [
      "## Meta-analysis of M-CHAT"
     ]
    },
    {
     "cell_type": "markdown",
     "metadata": {},
     "source": [
      "We estimate screening tool sensitivity and specificity based on four cell probabilities that exhaustively describe the outcomes of screening relative to diagnosis:\n",
      "\n",
      "* true positive: $Pr [\\text{screen positive} \\, | \\, \\text{diagnosed} ]$\n",
      "* false negative: $Pr [\\text{screen negative} \\, | \\, \\text{diagnosed} ]$\n",
      "* true negative: $Pr [\\text{screen negative} \\, | \\, \\text{not diagnosed}]$\n",
      "* false positive: $Pr [\\text{screen positive} \\, | \\, \\text{not diagnosed}]$\n",
      "\n",
      "To account for the dependence among these parameters, we modeled sensitivity and specificity jointly as a function of these probabilities. Following (Puggioni et al. 2008), we define random effects submodels for three probabilities:\n",
      "\n",
      "$$\n",
      "\\begin{aligned}\n",
      "\\text{logit}(Pr(D_i = 1 | \\, S_i = 1)) &= \\mu_1 + \\epsilon_{1i} \\cr\n",
      "\\text{logit}(Pr(D_i = 1 | S_i = 0)) &= \\mu_2 + \\epsilon_{1i} \\cr\n",
      "\\text{logit}(Pr(S_i = 1)) &= \\mu_3 + \\epsilon_{1i}\n",
      "\\end{aligned}\n",
      "$$\n",
      "\n",
      "where $D_i$ is the diagnosis (0=negative, 1=positive) from study $i$, $S_i$ is the screening outcome from study $i$, $\\mu_k$ is the population mean (on the logit scale) for probability $k$, and $\\epsilon_{ki}$ is the random effect for probability $k$ in study $i$. Random effects are modeled as simple independent, normally-distributed random variables with zero-mean:\n",
      "\n",
      "$$\\epsilon_{ki} \\sim N(0, \\sigma_k^2)$$\n",
      "\n",
      "Note that each of the three probabilities gets its own random effect variance $\\sigma^2_k$. The probabilities above uniquely determine the sensitivity and specificity rates, via Bayes' formula:\n",
      "\n",
      "$$\n",
      "\\begin{aligned}\n",
      "\\text{sensitivity}_i &= Pr(S_i = 1 | D_i = 1) \\propto Pr(D_i = 1 | S_i = 1) Pr(S_i=1) \\cr\n",
      "\\text{specificity}_i &= Pr(S_i = 0 | D_i = 0) \\propto (1 - Pr(D_i = 1 | S_i = 0))(1 - Pr(S_i = 0))\n",
      "\\end{aligned}\n",
      "$$\n",
      "\n",
      "The data likelihoods for the observed true positive and true negative counts were then modeled as binomial draws from the sum of true positive and false negative counts, and true negative and false positive counts, respectively."
     ]
    },
    {
     "cell_type": "markdown",
     "metadata": {},
     "source": [
      "### Covariates\n",
      "\n",
      "With only 12 studies, there is little scope for incorporating study-level covariates. One interesting difference among the studies is the populations from which samples were derived: they were evenly split between *general population* and *developmental delay*, with one study drawing from both. We therefore attempted to include and indicator for developmental delay in the model."
     ]
    },
    {
     "cell_type": "markdown",
     "metadata": {},
     "source": [
      "### Priors\n",
      "\n",
      "To represent the lack of prior information, vague priors were placed on all stochastic parameters in the model. Namely, the population means for the cell probabilities $\\mu_k$ were given $N(0, 100)$ priors, which are relatively flat on the probability (inverse-logit) scale, and the random effect standard deviations were given uniform priors on the (0, 1000) interval (Gelman et al 2006). Models were fit via Markov chain Monte Carlo (MCMC, Gamerman et al.,1997) using PyMC 3 (Patil e al., 2010). Models were run for 20,000 iterations, with the first 10,000 discarded as a conservative burn-in period, yielding 10000 samples for inference."
     ]
    },
    {
     "cell_type": "markdown",
     "metadata": {},
     "source": [
      "### Model specification"
     ]
    },
    {
     "cell_type": "code",
     "collapsed": false,
     "input": [
      "# Exctract unique study ID values to be used as random effect\n",
      "mchat_studies = mchat_data.study_id.unique()\n",
      "mchat_studies"
     ],
     "language": "python",
     "metadata": {},
     "outputs": [
      {
       "metadata": {},
       "output_type": "pyout",
       "prompt_number": 12,
       "text": [
        "array([ 1,  9, 15,  8, 20, 22])"
       ]
      }
     ],
     "prompt_number": 12
    },
    {
     "cell_type": "code",
     "collapsed": false,
     "input": [
      "study_idx = np.where([mchat_studies==s for s in mchat_data.study_id])[1]\n",
      "study_idx"
     ],
     "language": "python",
     "metadata": {},
     "outputs": [
      {
       "metadata": {},
       "output_type": "pyout",
       "prompt_number": 13,
       "text": [
        "array([0, 1, 1, 2, 3, 4, 5, 5])"
       ]
      }
     ],
     "prompt_number": 13
    },
    {
     "cell_type": "code",
     "collapsed": false,
     "input": [
      "# Identify studies that only recored true positives and false positives\n",
      "ppv_only = mchat_data[mchat_data.fn.isnull()].study_id.unique()\n",
      "ppv_only"
     ],
     "language": "python",
     "metadata": {},
     "outputs": [
      {
       "metadata": {},
       "output_type": "pyout",
       "prompt_number": 14,
       "text": [
        "array([ 8, 20, 22])"
       ]
      }
     ],
     "prompt_number": 14
    },
    {
     "cell_type": "code",
     "collapsed": false,
     "input": [
      "all_values = mchat_data[mchat_data.fn.notnull()].study_id.unique()\n",
      "all_values"
     ],
     "language": "python",
     "metadata": {},
     "outputs": [
      {
       "metadata": {},
       "output_type": "pyout",
       "prompt_number": 15,
       "text": [
        "array([ 1,  9, 15])"
       ]
      }
     ],
     "prompt_number": 15
    },
    {
     "cell_type": "code",
     "collapsed": false,
     "input": [
      "all_data = mchat_data.fn.notnull().values\n",
      "ppv_only = all_data - True\n",
      "ppv_only"
     ],
     "language": "python",
     "metadata": {},
     "outputs": [
      {
       "metadata": {},
       "output_type": "pyout",
       "prompt_number": 16,
       "text": [
        "array([False, False, False, False,  True,  True,  True,  True], dtype=bool)"
       ]
      }
     ],
     "prompt_number": 16
    },
    {
     "cell_type": "code",
     "collapsed": false,
     "input": [
      "all_data = where(mchat_data.fn.notnull().values)[0]\n",
      "all_data"
     ],
     "language": "python",
     "metadata": {},
     "outputs": [
      {
       "metadata": {},
       "output_type": "pyout",
       "prompt_number": 17,
       "text": [
        "array([0, 1, 2, 3])"
       ]
      }
     ],
     "prompt_number": 17
    },
    {
     "cell_type": "code",
     "collapsed": false,
     "input": [
      "ppv_only = where(mchat_data.fn.isnull().values)[0]\n",
      "ppv_only"
     ],
     "language": "python",
     "metadata": {},
     "outputs": [
      {
       "metadata": {},
       "output_type": "pyout",
       "prompt_number": 18,
       "text": [
        "array([4, 5, 6, 7])"
       ]
      }
     ],
     "prompt_number": 18
    },
    {
     "cell_type": "code",
     "collapsed": false,
     "input": [
      "from pymc import Model, Normal, Uniform, Binomial, Deterministic, Beta\n",
      "import theano.tensor as t\n",
      "\n",
      "def tinvlogit(x):\n",
      "    return t.exp(x) / (1 + t.exp(x))\n",
      "\n",
      "covariate = True\n",
      "\n",
      "with Model() as mchat_model:\n",
      "    \n",
      "    tp = mchat_data.tp.values\n",
      "    tn = mchat_data.tn.values\n",
      "    fp = mchat_data.fp.values\n",
      "    fn = mchat_data.fn.values\n",
      "    pop = mchat_data.popval\n",
      "    \n",
      "    if covariate:\n",
      "        \n",
      "        # Effect of study population\n",
      "        beta = Normal('beta', 0., 0.01, shape=3)\n",
      "        \n",
      "        # Study random effects\n",
      "        mu = Normal('mu', 0., 0.01, shape=3)\n",
      "        # Transform to probability scale\n",
      "        Ep = Deterministic('Ep', tinvlogit(mu))\n",
      "        \n",
      "        # Probabilities\n",
      "        p_d1s1 = Deterministic('p_d1s1', tinvlogit(mu[0] + beta[0]*pop))\n",
      "        p_d1s0 = Deterministic('p_d1s0', tinvlogit(mu[1] + beta[1]*pop))\n",
      "        p_s1 = Deterministic('p_s1', tinvlogit(mu[2] + beta[2]*pop))\n",
      "        \n",
      "    else:\n",
      "        \n",
      "        p_d1s1 = Beta('p_d1s1', 1, 1)\n",
      "        p_d1s0 = Beta('p_d1s0', 1, 1)\n",
      "        p_s1 = Beta('p_s1', 1, 1)\n",
      "    \n",
      "    # Probability of positive diagnosis\n",
      "    p_d1 = p_d1s1 * p_s1 + p_d1s0 * (1 - p_s1)\n",
      "    # Population prevalence\n",
      "#     p_d1 = 0.011\n",
      "    # Probability of negative diagnosis\n",
      "    p_d0 = 1 - p_d1\n",
      "    # Sensitivity (via Bayes)\n",
      "    p_s1d1 = Deterministic('p_s1d1', (p_d1s1 * p_s1) / p_d1)\n",
      "    # Specificity (via Bayes)\n",
      "    p_s0d0 = Deterministic('p_s0d0', (1 - p_d1s0) * (1 - p_s1) / p_d0)\n",
      "    \n",
      "    # Calculate expected sensitivity and specificity\n",
      "    Ep_d1 = Ep[0] * Ep[2] + Ep[1] * (1 - Ep[2])\n",
      "    Esens = Deterministic('Esens', (Ep[0] * Ep[2]) / Ep_d1)\n",
      "    Espec = Deterministic('Espec', (1 - Ep[0]) * (1 - Ep[2]) / (1 - Ep_d1))\n",
      "    \n",
      "    if covariate:\n",
      "        \n",
      "        # Data likelihoods for sensitivity and specificity\n",
      "        sensitivity = Binomial('sensitivity', n=tp[all_data]+fn[all_data], p=p_s1d1[all_data], \n",
      "                               observed=tp[all_data])\n",
      "        specificity = Binomial('specificity', n=tn[all_data]+fp[all_data], p=p_s0d0[all_data], \n",
      "                               observed=tn[all_data])\n",
      "        \n",
      "        # Data likelihood for PPV\n",
      "        ppv = Binomial('ppv', n=tp[ppv_only]+fp[ppv_only], p=p_d1s1[ppv_only], observed=tp[ppv_only])\n",
      "        \n",
      "    else:\n",
      "    \n",
      "        # Data likelihoods for sensitivity and specificity\n",
      "        sensitivity = Binomial('sensitivity', n=tp[all_data]+fn[all_data], p=p_s1d1, \n",
      "                               observed=tp[all_data])\n",
      "        specificity = Binomial('specificity', n=tn[all_data]+fp[all_data], p=p_s0d0, \n",
      "                               observed=tn[all_data])\n",
      "        \n",
      "        # Data likelihood for PPV\n",
      "        ppv = Binomial('ppv', n=tp[ppv_only]+fp[ppv_only], p=p_d1s1, observed=tp[ppv_only])"
     ],
     "language": "python",
     "metadata": {},
     "outputs": [],
     "prompt_number": 22
    },
    {
     "cell_type": "code",
     "collapsed": false,
     "input": [
      "from pymc import NUTS, Metropolis, sample, Slice, find_MAP, psample\n",
      "\n",
      "with mchat_model:\n",
      "    \n",
      "    #start = {'mu': [0.]*3, 'beta': [0]*3}\n",
      "    \n",
      "    start = find_MAP()\n",
      "    step = NUTS()\n",
      "#     step = Slice()\n",
      "    \n",
      "    tr = psample(10000, step, start)"
     ],
     "language": "python",
     "metadata": {},
     "outputs": [],
     "prompt_number": 23
    },
    {
     "cell_type": "code",
     "collapsed": false,
     "input": [
      "from pymc import summary\n",
      "\n",
      "summary(tr, vars=['Ep', 'Espec', 'Esens'])"
     ],
     "language": "python",
     "metadata": {},
     "outputs": [
      {
       "output_type": "stream",
       "stream": "stdout",
       "text": [
        "\n",
        "Ep:\n",
        " \n",
        "  Mean             SD               MC Error         95% HPD interval\n",
        "  -------------------------------------------------------------------\n",
        "  0.438            0.033            0.000            [0.374, 0.502]\n",
        "  0.222            0.149            0.003            [0.018, 0.530]\n",
        "  0.571            0.152            0.003            [0.274, 0.831]\n",
        "\n",
        "  Posterior quantiles:\n",
        "  2.5            25             50             75             97.5\n",
        "  |--------------|==============|==============|--------------|\n",
        "  0.375          0.417          0.438          0.460          0.502\n",
        "  0.037          0.109          0.186          0.301          0.598\n",
        "  0.251          0.471          0.588          0.689          0.815\n"
       ]
      },
      {
       "output_type": "stream",
       "stream": "stdout",
       "text": [
        "\n",
        "\n",
        "Espec:\n",
        " \n",
        "  Mean             SD               MC Error         95% HPD interval\n",
        "  -------------------------------------------------------------------\n",
        "  0.767            0.063            0.000            [0.644, 0.885]\n"
       ]
      },
      {
       "output_type": "stream",
       "stream": "stdout",
       "text": [
        "\n",
        "  Posterior quantiles:\n",
        "  2.5            25             50             75             97.5\n",
        "  |--------------|==============|==============|--------------|\n",
        "  0.633          0.726          0.771          0.812          0.877\n",
        "\n",
        "\n",
        "Esens:\n",
        " \n",
        "  Mean             SD               MC Error         95% HPD interval\n",
        "  -------------------------------------------------------------------\n",
        "  0.349            0.084            0.001            [0.188, 0.504]\n"
       ]
      },
      {
       "output_type": "stream",
       "stream": "stdout",
       "text": [
        "\n",
        "  Posterior quantiles:\n",
        "  2.5            25             50             75             97.5\n",
        "  |--------------|==============|==============|--------------|\n",
        "  0.187          0.288          0.352          0.411          0.503\n",
        "\n"
       ]
      }
     ],
     "prompt_number": 24
    },
    {
     "cell_type": "code",
     "collapsed": false,
     "input": [
      "from pymc import summary\n",
      "\n",
      "summary(tr, vars=['Ep'])"
     ],
     "language": "python",
     "metadata": {},
     "outputs": [
      {
       "output_type": "stream",
       "stream": "stdout",
       "text": [
        "\n",
        "Ep:\n",
        " \n",
        "  Mean             SD               MC Error         95% HPD interval\n",
        "  -------------------------------------------------------------------\n",
        "  0.438            0.033            0.000            [0.373, 0.501]\n",
        "  0.225            0.147            0.004            [0.017, 0.529]\n",
        "  0.577            0.150            0.005            [0.282, 0.841]\n",
        "\n",
        "  Posterior quantiles:\n",
        "  2.5            25             50             75             97.5\n",
        "  |--------------|==============|==============|--------------|\n",
        "  0.374          0.416          0.438          0.459          0.502\n",
        "  0.035          0.113          0.194          0.304          0.589\n",
        "  0.238          0.480          0.593          0.692          0.811\n",
        "\n"
       ]
      }
     ],
     "prompt_number": 22
    },
    {
     "cell_type": "code",
     "collapsed": false,
     "input": [
      "from pymc import traceplot\n",
      "\n",
      "_ = traceplot(tr[-5000:], vars=['beta'], grid=False)"
     ],
     "language": "python",
     "metadata": {},
     "outputs": [
      {
       "metadata": {},
       "output_type": "display_data",
       "png": "[encoded data removed]",
       "text": [
        "<matplotlib.figure.Figure at 0x11a181650>"
       ]
      }
     ],
     "prompt_number": 26
    },
    {
     "cell_type": "code",
     "collapsed": false,
     "input": [
      "from pymc import forestplot\n",
      "\n",
      "forestplot(tr[-5000:], vars=['beta'])"
     ],
     "language": "python",
     "metadata": {},
     "outputs": [
      {
       "metadata": {},
       "output_type": "pyout",
       "prompt_number": 27,
       "text": [
        "<matplotlib.gridspec.GridSpec at 0x119846190>"
       ]
      },
      {
       "metadata": {},
       "output_type": "display_data",
       "png": "[encoded data removed]",
       "text": [
        "<matplotlib.figure.Figure at 0x116eebfd0>"
       ]
      }
     ],
     "prompt_number": 27
    },
    {
     "cell_type": "code",
     "collapsed": false,
     "input": [
      "forestplot(tr[-5000:], vars=['p_d1s1', 'p_d1s0', 'p_s1', 'p_s1d1', 'p_s0d0'])"
     ],
     "language": "python",
     "metadata": {},
     "outputs": [
      {
       "metadata": {},
       "output_type": "pyout",
       "prompt_number": 28,
       "text": [
        "<matplotlib.gridspec.GridSpec at 0x11ba6b8d0>"
       ]
      },
      {
       "metadata": {},
       "output_type": "display_data",
       "png": "[encoded data removed]",
       "text": [
        "<matplotlib.figure.Figure at 0x119ddd310>"
       ]
      }
     ],
     "prompt_number": 28
    },
    {
     "cell_type": "markdown",
     "metadata": {},
     "source": [
      "## Model checking"
     ]
    },
    {
     "cell_type": "markdown",
     "metadata": {},
     "source": [
      "Sensitivity goodness-of-fit"
     ]
    },
    {
     "cell_type": "code",
     "collapsed": false,
     "input": [
      "rbinom = np.random.binomial\n",
      "\n",
      "tp = mchat_data.tp.values\n",
      "tn = mchat_data.tn.values\n",
      "fp = mchat_data.fp.values\n",
      "fn = mchat_data.fn.values\n",
      "\n",
      "try:\n",
      "    p_sens = tr.traces[0][-1000:]['p_s1d1']\n",
      "except AttributeError:\n",
      "    p_sens = tr[-1000:]['p_s1d1']\n",
      "\n",
      "x = np.empty((len(all_data), len(p_sens)))\n",
      "for i,d in enumerate(all_data):\n",
      "    \n",
      "    x[i] = rbinom(tp[d]+fn[d], p_sens[:,d])\n",
      "    plt.figure()\n",
      "    plt.hist(x[i])\n",
      "    axvline(x=tp[d], linewidth=2, color='r', linestyle='dotted')"
     ],
     "language": "python",
     "metadata": {},
     "outputs": [
      {
       "metadata": {},
       "output_type": "display_data",
       "png": "[encoded data removed]",
       "text": [
        "<matplotlib.figure.Figure at 0x117e19090>"
       ]
      },
      {
       "metadata": {},
       "output_type": "display_data",
       "png": "[encoded data removed]",
       "text": [
        "<matplotlib.figure.Figure at 0x11ba2e750>"
       ]
      },
      {
       "metadata": {},
       "output_type": "display_data",
       "png": "[encoded data removed]",
       "text": [
        "<matplotlib.figure.Figure at 0x116f11b10>"
       ]
      },
      {
       "metadata": {},
       "output_type": "display_data",
       "png": "[encoded data removed]",
       "text": [
        "<matplotlib.figure.Figure at 0x117e51a10>"
       ]
      }
     ],
     "prompt_number": 29
    },
    {
     "cell_type": "markdown",
     "metadata": {},
     "source": [
      "Specificity goodness-of-fit:"
     ]
    },
    {
     "cell_type": "code",
     "collapsed": false,
     "input": [
      "try:\n",
      "    p_spec = tr.traces[0][-1000:]['p_s0d0']\n",
      "except AttributeError:\n",
      "    p_spec = tr[-1000:]['p_s0d0']\n",
      "\n",
      "x_spec = np.empty((len(all_data), len(p_spec)))\n",
      "for i,d in enumerate(all_data):\n",
      "    \n",
      "    x_spec[i] = rbinom(tn[d]+fp[d], p_spec[:,d])\n",
      "    plt.figure()\n",
      "    plt.hist(x_spec[i])\n",
      "    axvline(x=tn[d], linewidth=2, color='r', linestyle='dotted')"
     ],
     "language": "python",
     "metadata": {},
     "outputs": [
      {
       "metadata": {},
       "output_type": "display_data",
       "png": "[encoded data removed]",
       "text": [
        "<matplotlib.figure.Figure at 0x117e2cf50>"
       ]
      },
      {
       "metadata": {},
       "output_type": "display_data",
       "png": "[encoded data removed]",
       "text": [
        "<matplotlib.figure.Figure at 0x11ba38e90>"
       ]
      },
      {
       "metadata": {},
       "output_type": "display_data",
       "png": "[encoded data removed]",
       "text": [
        "<matplotlib.figure.Figure at 0x11a3387d0>"
       ]
      },
      {
       "metadata": {},
       "output_type": "display_data",
       "png": "[encoded data removed]",
       "text": [
        "<matplotlib.figure.Figure at 0x11a1a2e50>"
       ]
      }
     ],
     "prompt_number": 30
    },
    {
     "cell_type": "markdown",
     "metadata": {},
     "source": [
      "PPV goodness-of-fit:"
     ]
    },
    {
     "cell_type": "code",
     "collapsed": false,
     "input": [
      "try:\n",
      "    p_ppv = tr.traces[0][-1000:]['p_d1s1']\n",
      "except AttributeError:\n",
      "    p_ppv = tr[-1000:]['p_d1s1']\n",
      "\n",
      "\n",
      "\n",
      "x_ppv = np.empty((len(ppv_only), len(p_ppv)))\n",
      "for i,d in enumerate(ppv_only):\n",
      "    \n",
      "    x_ppv[i] = rbinom(tp[d]+fp[d], p_ppv[:,d])\n",
      "    plt.figure()\n",
      "    plt.hist(x_ppv[i])\n",
      "    axvline(x=tp[d], linewidth=2, color='r', linestyle='dotted')"
     ],
     "language": "python",
     "metadata": {},
     "outputs": [
      {
       "metadata": {},
       "output_type": "display_data",
       "png": "[encoded data removed]",
       "text": [
        "<matplotlib.figure.Figure at 0x11a39de90>"
       ]
      },
      {
       "metadata": {},
       "output_type": "display_data",
       "png": "[encoded data removed]",
       "text": [
        "<matplotlib.figure.Figure at 0x117e43950>"
       ]
      },
      {
       "metadata": {},
       "output_type": "display_data",
       "png": "[encoded data removed]",
       "text": [
        "<matplotlib.figure.Figure at 0x11b9fb2d0>"
       ]
      },
      {
       "metadata": {},
       "output_type": "display_data",
       "png": "[encoded data removed]",
       "text": [
        "<matplotlib.figure.Figure at 0x11b9cdd50>"
       ]
      }
     ],
     "prompt_number": 31
    },
    {
     "cell_type": "markdown",
     "metadata": {},
     "source": [
      "## General population subset"
     ]
    },
    {
     "cell_type": "code",
     "collapsed": false,
     "input": [
      "gp_data = mchat_data[mchat_data.population != 'developmental delay']\n",
      "gp_data"
     ],
     "language": "python",
     "metadata": {},
     "outputs": [
      {
       "html": [
        "<pre>\n",
        "&lt;class 'pandas.core.frame.DataFrame'&gt;\n",
        "Int64Index: 4 entries, 1 to 43\n",
        "Data columns (total 35 columns):\n",
        "study_id         4  non-null values\n",
        "ref_id           4  non-null values\n",
        "author           4  non-null values\n",
        "year             4  non-null values\n",
        "country          4  non-null values\n",
        "population       4  non-null values\n",
        "screener         4  non-null values\n",
        "arm              0  non-null values\n",
        "age_mean         2  non-null values\n",
        "age_sd           2  non-null values\n",
        "age_lo           1  non-null values\n",
        "age_hi           1  non-null values\n",
        "n_m              4  non-null values\n",
        "n_f              4  non-null values\n",
        "dx_standard      4  non-null values\n",
        "risk_factor      4  non-null values\n",
        "n_screened       4  non-null values\n",
        "screen_pos       4  non-null values\n",
        "n_dx             4  non-null values\n",
        "n_pos            4  non-null values\n",
        "n_neg            4  non-null values\n",
        "n_data           4  non-null values\n",
        "tp               4  non-null values\n",
        "fp               4  non-null values\n",
        "fn               1  non-null values\n",
        "tn               1  non-null values\n",
        "fp_dev_delay     3  non-null values\n",
        "fp_lang_delay    3  non-null values\n",
        "fp_normal        3  non-null values\n",
        "fp_non_asd       3  non-null values\n",
        "tn_dev_delay     0  non-null values\n",
        "tn_lang_delay    0  non-null values\n",
        "tn_normal        0  non-null values\n",
        "tn_non_asd       0  non-null values\n",
        "popval           4  non-null values\n",
        "dtypes: float64(23), int64(2), object(10)\n",
        "</pre>"
       ],
       "metadata": {},
       "output_type": "pyout",
       "prompt_number": 54,
       "text": [
        "<class 'pandas.core.frame.DataFrame'>\n",
        "Int64Index: 4 entries, 1 to 43\n",
        "Data columns (total 35 columns):\n",
        "study_id         4  non-null values\n",
        "ref_id           4  non-null values\n",
        "author           4  non-null values\n",
        "year             4  non-null values\n",
        "country          4  non-null values\n",
        "population       4  non-null values\n",
        "screener         4  non-null values\n",
        "arm              0  non-null values\n",
        "age_mean         2  non-null values\n",
        "age_sd           2  non-null values\n",
        "age_lo           1  non-null values\n",
        "age_hi           1  non-null values\n",
        "n_m              4  non-null values\n",
        "n_f              4  non-null values\n",
        "dx_standard      4  non-null values\n",
        "risk_factor      4  non-null values\n",
        "n_screened       4  non-null values\n",
        "screen_pos       4  non-null values\n",
        "n_dx             4  non-null values\n",
        "n_pos            4  non-null values\n",
        "n_neg            4  non-null values\n",
        "n_data           4  non-null values\n",
        "tp               4  non-null values\n",
        "fp               4  non-null values\n",
        "fn               1  non-null values\n",
        "tn               1  non-null values\n",
        "fp_dev_delay     3  non-null values\n",
        "fp_lang_delay    3  non-null values\n",
        "fp_normal        3  non-null values\n",
        "fp_non_asd       3  non-null values\n",
        "tn_dev_delay     0  non-null values\n",
        "tn_lang_delay    0  non-null values\n",
        "tn_normal        0  non-null values\n",
        "tn_non_asd       0  non-null values\n",
        "popval           4  non-null values\n",
        "dtypes: float64(23), int64(2), object(10)"
       ]
      }
     ],
     "prompt_number": 54
    },
    {
     "cell_type": "code",
     "collapsed": false,
     "input": [
      "all_data = where(gp_data.fn.notnull().values)[0]\n",
      "all_data"
     ],
     "language": "python",
     "metadata": {},
     "outputs": [
      {
       "metadata": {},
       "output_type": "pyout",
       "prompt_number": 55,
       "text": [
        "array([0])"
       ]
      }
     ],
     "prompt_number": 55
    },
    {
     "cell_type": "code",
     "collapsed": false,
     "input": [
      "ppv_only = where(gp_data.fn.isnull().values)[0]\n",
      "ppv_only"
     ],
     "language": "python",
     "metadata": {},
     "outputs": [
      {
       "metadata": {},
       "output_type": "pyout",
       "prompt_number": 56,
       "text": [
        "array([1, 2, 3])"
       ]
      }
     ],
     "prompt_number": 56
    },
    {
     "cell_type": "code",
     "collapsed": false,
     "input": [
      "\n",
      "with Model() as gp_model:\n",
      "    \n",
      "    tp = gp_data.tp.values\n",
      "    tn = gp_data.tn.values\n",
      "    fp = gp_data.fp.values\n",
      "    fn = gp_data.fn.values\n",
      "    pop = gp_data.popval\n",
      "\n",
      "        \n",
      "    p_d1s1 = Beta('p_d1s1', 1, 1)\n",
      "    p_d1s0 = Beta('p_d1s0', 1, 1)\n",
      "    p_s1 = Beta('p_s1', 1, 1)\n",
      "    \n",
      "    # Probability of positive diagnosis\n",
      "    p_d1 = p_d1s1 * p_s1 + p_d1s0 * (1 - p_s1)\n",
      "    # Population prevalence\n",
      "#     p_d1 = 0.011\n",
      "    # Probability of negative diagnosis\n",
      "    p_d0 = 1 - p_d1\n",
      "    # Sensitivity (via Bayes)\n",
      "    p_s1d1 = Deterministic('p_s1d1', (p_d1s1 * p_s1) / p_d1)\n",
      "    # Specificity (via Bayes)\n",
      "    p_s0d0 = Deterministic('p_s0d0', (1 - p_d1s0) * (1 - p_s1) / p_d0)\n",
      "    \n",
      "    # Data likelihoods for sensitivity and specificity\n",
      "    sensitivity = Binomial('sensitivity', n=tp[all_data]+fn[all_data], p=p_s1d1, \n",
      "                           observed=tp[all_data])\n",
      "    specificity = Binomial('specificity', n=tn[all_data]+fp[all_data], p=p_s0d0, \n",
      "                           observed=tn[all_data])\n",
      "    \n",
      "    # Data likelihood for PPV\n",
      "    ppv = Binomial('ppv', n=tp[ppv_only]+fp[ppv_only], p=p_d1s1, observed=tp[ppv_only])"
     ],
     "language": "python",
     "metadata": {},
     "outputs": [],
     "prompt_number": 57
    },
    {
     "cell_type": "code",
     "collapsed": false,
     "input": [
      "with gp_model:\n",
      "    \n",
      "    #start = {'mu': [0.]*3, 'beta': [0]*3}\n",
      "    \n",
      "    start = find_MAP()\n",
      "    step = NUTS()\n",
      "#     step = Slice()\n",
      "    \n",
      "    tr_gp = sample(10000, step, start)"
     ],
     "language": "python",
     "metadata": {},
     "outputs": [
      {
       "output_type": "stream",
       "stream": "stdout",
       "text": [
        "\r",
        " [                  0%                  ] 37 of 10000 complete in 0.5 sec"
       ]
      },
      {
       "output_type": "stream",
       "stream": "stdout",
       "text": [
        "\r",
        " [                  0%                  ] 72 of 10000 complete in 1.2 sec"
       ]
      },
      {
       "output_type": "stream",
       "stream": "stdout",
       "text": [
        "\r",
        " [                  1%                  ] 121 of 10000 complete in 1.7 sec"
       ]
      },
      {
       "output_type": "stream",
       "stream": "stdout",
       "text": [
        "\r",
        " [                  1%                  ] 170 of 10000 complete in 2.2 sec"
       ]
      },
      {
       "output_type": "stream",
       "stream": "stdout",
       "text": [
        "\r",
        " [                  2%                  ] 218 of 10000 complete in 2.7 sec"
       ]
      },
      {
       "output_type": "stream",
       "stream": "stdout",
       "text": [
        "\r",
        " [-                 2%                  ] 267 of 10000 complete in 3.2 sec"
       ]
      },
      {
       "output_type": "stream",
       "stream": "stdout",
       "text": [
        "\r",
        " [-                 3%                  ] 324 of 10000 complete in 3.7 sec"
       ]
      },
      {
       "output_type": "stream",
       "stream": "stdout",
       "text": [
        "\r",
        " [-                 3%                  ] 395 of 10000 complete in 4.3 sec"
       ]
      },
      {
       "output_type": "stream",
       "stream": "stdout",
       "text": [
        "\r",
        " [-                 4%                  ] 448 of 10000 complete in 4.8 sec"
       ]
      },
      {
       "output_type": "stream",
       "stream": "stdout",
       "text": [
        "\r",
        " [-                 4%                  ] 488 of 10000 complete in 5.3 sec"
       ]
      },
      {
       "output_type": "stream",
       "stream": "stdout",
       "text": [
        "\r",
        " [--                5%                  ] 562 of 10000 complete in 5.8 sec"
       ]
      },
      {
       "output_type": "stream",
       "stream": "stdout",
       "text": [
        "\r",
        " [--                6%                  ] 615 of 10000 complete in 6.3 sec"
       ]
      },
      {
       "output_type": "stream",
       "stream": "stdout",
       "text": [
        "\r",
        " [--                6%                  ] 669 of 10000 complete in 6.8 sec"
       ]
      },
      {
       "output_type": "stream",
       "stream": "stdout",
       "text": [
        "\r",
        " [--                7%                  ] 739 of 10000 complete in 7.3 sec"
       ]
      },
      {
       "output_type": "stream",
       "stream": "stdout",
       "text": [
        "\r",
        " [---               7%                  ] 794 of 10000 complete in 7.8 sec"
       ]
      },
      {
       "output_type": "stream",
       "stream": "stdout",
       "text": [
        "\r",
        " [---               8%                  ] 831 of 10000 complete in 8.4 sec"
       ]
      },
      {
       "output_type": "stream",
       "stream": "stdout",
       "text": [
        "\r",
        " [---               8%                  ] 887 of 10000 complete in 8.9 sec"
       ]
      },
      {
       "output_type": "stream",
       "stream": "stdout",
       "text": [
        "\r",
        " [---               9%                  ] 931 of 10000 complete in 9.4 sec"
       ]
      },
      {
       "output_type": "stream",
       "stream": "stdout",
       "text": [
        "\r",
        " [---               9%                  ] 982 of 10000 complete in 9.9 sec"
       ]
      },
      {
       "output_type": "stream",
       "stream": "stdout",
       "text": [
        "\r",
        " [----             10%                  ] 1054 of 10000 complete in 10.4 sec"
       ]
      },
      {
       "output_type": "stream",
       "stream": "stdout",
       "text": [
        "\r",
        " [----             11%                  ] 1131 of 10000 complete in 10.9 sec"
       ]
      },
      {
       "output_type": "stream",
       "stream": "stdout",
       "text": [
        "\r",
        " [----             11%                  ] 1180 of 10000 complete in 11.4 sec"
       ]
      },
      {
       "output_type": "stream",
       "stream": "stdout",
       "text": [
        "\r",
        " [----             12%                  ] 1245 of 10000 complete in 11.9 sec"
       ]
      },
      {
       "output_type": "stream",
       "stream": "stdout",
       "text": [
        "\r",
        " [----             13%                  ] 1309 of 10000 complete in 12.4 sec"
       ]
      },
      {
       "output_type": "stream",
       "stream": "stdout",
       "text": [
        "\r",
        " [-----            13%                  ] 1371 of 10000 complete in 12.9 sec"
       ]
      },
      {
       "output_type": "stream",
       "stream": "stdout",
       "text": [
        "\r",
        " [-----            14%                  ] 1412 of 10000 complete in 13.4 sec"
       ]
      },
      {
       "output_type": "stream",
       "stream": "stdout",
       "text": [
        "\r",
        " [-----            14%                  ] 1458 of 10000 complete in 13.9 sec"
       ]
      },
      {
       "output_type": "stream",
       "stream": "stdout",
       "text": [
        "\r",
        " [-----            15%                  ] 1520 of 10000 complete in 14.4 sec"
       ]
      },
      {
       "output_type": "stream",
       "stream": "stdout",
       "text": [
        "\r",
        " [-----            15%                  ] 1561 of 10000 complete in 14.9 sec"
       ]
      },
      {
       "output_type": "stream",
       "stream": "stdout",
       "text": [
        "\r",
        " [------           16%                  ] 1604 of 10000 complete in 15.4 sec"
       ]
      },
      {
       "output_type": "stream",
       "stream": "stdout",
       "text": [
        "\r",
        " [------           16%                  ] 1677 of 10000 complete in 16.0 sec"
       ]
      },
      {
       "output_type": "stream",
       "stream": "stdout",
       "text": [
        "\r",
        " [------           17%                  ] 1713 of 10000 complete in 16.5 sec"
       ]
      },
      {
       "output_type": "stream",
       "stream": "stdout",
       "text": [
        "\r",
        " [------           17%                  ] 1766 of 10000 complete in 17.0 sec"
       ]
      },
      {
       "output_type": "stream",
       "stream": "stdout",
       "text": [
        "\r",
        " [------           18%                  ] 1832 of 10000 complete in 17.5 sec"
       ]
      },
      {
       "output_type": "stream",
       "stream": "stdout",
       "text": [
        "\r",
        " [-------          18%                  ] 1878 of 10000 complete in 18.0 sec"
       ]
      },
      {
       "output_type": "stream",
       "stream": "stdout",
       "text": [
        "\r",
        " [-------          19%                  ] 1927 of 10000 complete in 18.5 sec"
       ]
      },
      {
       "output_type": "stream",
       "stream": "stdout",
       "text": [
        "\r",
        " [-------          19%                  ] 1989 of 10000 complete in 19.0 sec"
       ]
      },
      {
       "output_type": "stream",
       "stream": "stdout",
       "text": [
        "\r",
        " [-------          20%                  ] 2046 of 10000 complete in 19.5 sec"
       ]
      },
      {
       "output_type": "stream",
       "stream": "stdout",
       "text": [
        "\r",
        " [-------          20%                  ] 2080 of 10000 complete in 20.0 sec"
       ]
      },
      {
       "output_type": "stream",
       "stream": "stdout",
       "text": [
        "\r",
        " [--------         21%                  ] 2141 of 10000 complete in 20.5 sec"
       ]
      },
      {
       "output_type": "stream",
       "stream": "stdout",
       "text": [
        "\r",
        " [--------         21%                  ] 2190 of 10000 complete in 21.0 sec"
       ]
      },
      {
       "output_type": "stream",
       "stream": "stdout",
       "text": [
        "\r",
        " [--------         22%                  ] 2245 of 10000 complete in 21.5 sec"
       ]
      },
      {
       "output_type": "stream",
       "stream": "stdout",
       "text": [
        "\r",
        " [--------         22%                  ] 2273 of 10000 complete in 22.0 sec"
       ]
      },
      {
       "output_type": "stream",
       "stream": "stdout",
       "text": [
        "\r",
        " [--------         23%                  ] 2329 of 10000 complete in 22.6 sec"
       ]
      },
      {
       "output_type": "stream",
       "stream": "stdout",
       "text": [
        "\r",
        " [---------        24%                  ] 2414 of 10000 complete in 23.1 sec"
       ]
      },
      {
       "output_type": "stream",
       "stream": "stdout",
       "text": [
        "\r",
        " [---------        24%                  ] 2489 of 10000 complete in 23.6 sec"
       ]
      },
      {
       "output_type": "stream",
       "stream": "stdout",
       "text": [
        "\r",
        " [---------        25%                  ] 2535 of 10000 complete in 24.1 sec"
       ]
      },
      {
       "output_type": "stream",
       "stream": "stdout",
       "text": [
        "\r",
        " [---------        25%                  ] 2583 of 10000 complete in 24.6 sec"
       ]
      },
      {
       "output_type": "stream",
       "stream": "stdout",
       "text": [
        "\r",
        " [---------        26%                  ] 2621 of 10000 complete in 25.1 sec"
       ]
      },
      {
       "output_type": "stream",
       "stream": "stdout",
       "text": [
        "\r",
        " [----------       26%                  ] 2659 of 10000 complete in 25.6 sec"
       ]
      },
      {
       "output_type": "stream",
       "stream": "stdout",
       "text": [
        "\r",
        " [----------       27%                  ] 2708 of 10000 complete in 26.1 sec"
       ]
      },
      {
       "output_type": "stream",
       "stream": "stdout",
       "text": [
        "\r",
        " [----------       27%                  ] 2787 of 10000 complete in 26.6 sec"
       ]
      },
      {
       "output_type": "stream",
       "stream": "stdout",
       "text": [
        "\r",
        " [----------       28%                  ] 2859 of 10000 complete in 27.1 sec"
       ]
      },
      {
       "output_type": "stream",
       "stream": "stdout",
       "text": [
        "\r",
        " [-----------      29%                  ] 2909 of 10000 complete in 27.6 sec"
       ]
      },
      {
       "output_type": "stream",
       "stream": "stdout",
       "text": [
        "\r",
        " [-----------      29%                  ] 2947 of 10000 complete in 28.1 sec"
       ]
      },
      {
       "output_type": "stream",
       "stream": "stdout",
       "text": [
        "\r",
        " [-----------      30%                  ] 3011 of 10000 complete in 28.6 sec"
       ]
      },
      {
       "output_type": "stream",
       "stream": "stdout",
       "text": [
        "\r",
        " [-----------      30%                  ] 3061 of 10000 complete in 29.1 sec"
       ]
      },
      {
       "output_type": "stream",
       "stream": "stdout",
       "text": [
        "\r",
        " [-----------      31%                  ] 3122 of 10000 complete in 29.7 sec"
       ]
      },
      {
       "output_type": "stream",
       "stream": "stdout",
       "text": [
        "\r",
        " [------------     31%                  ] 3181 of 10000 complete in 30.2 sec"
       ]
      },
      {
       "output_type": "stream",
       "stream": "stdout",
       "text": [
        "\r",
        " [------------     32%                  ] 3220 of 10000 complete in 30.7 sec"
       ]
      },
      {
       "output_type": "stream",
       "stream": "stdout",
       "text": [
        "\r",
        " [------------     32%                  ] 3274 of 10000 complete in 31.2 sec"
       ]
      },
      {
       "output_type": "stream",
       "stream": "stdout",
       "text": [
        "\r",
        " [------------     33%                  ] 3353 of 10000 complete in 31.7 sec"
       ]
      },
      {
       "output_type": "stream",
       "stream": "stdout",
       "text": [
        "\r",
        " [------------     34%                  ] 3401 of 10000 complete in 32.2 sec"
       ]
      },
      {
       "output_type": "stream",
       "stream": "stdout",
       "text": [
        "\r",
        " [-------------    34%                  ] 3439 of 10000 complete in 32.7 sec"
       ]
      },
      {
       "output_type": "stream",
       "stream": "stdout",
       "text": [
        "\r",
        " [-------------    34%                  ] 3480 of 10000 complete in 33.2 sec"
       ]
      },
      {
       "output_type": "stream",
       "stream": "stdout",
       "text": [
        "\r",
        " [-------------    35%                  ] 3547 of 10000 complete in 33.7 sec"
       ]
      },
      {
       "output_type": "stream",
       "stream": "stdout",
       "text": [
        "\r",
        " [-------------    36%                  ] 3607 of 10000 complete in 34.2 sec"
       ]
      },
      {
       "output_type": "stream",
       "stream": "stdout",
       "text": [
        "\r",
        " [-------------    36%                  ] 3640 of 10000 complete in 34.7 sec"
       ]
      },
      {
       "output_type": "stream",
       "stream": "stdout",
       "text": [
        "\r",
        " [-------------    36%                  ] 3684 of 10000 complete in 35.3 sec"
       ]
      },
      {
       "output_type": "stream",
       "stream": "stdout",
       "text": [
        "\r",
        " [--------------   37%                  ] 3735 of 10000 complete in 35.8 sec"
       ]
      },
      {
       "output_type": "stream",
       "stream": "stdout",
       "text": [
        "\r",
        " [--------------   38%                  ] 3805 of 10000 complete in 36.3 sec"
       ]
      },
      {
       "output_type": "stream",
       "stream": "stdout",
       "text": [
        "\r",
        " [--------------   38%                  ] 3850 of 10000 complete in 36.8 sec"
       ]
      },
      {
       "output_type": "stream",
       "stream": "stdout",
       "text": [
        "\r",
        " [--------------   39%                  ] 3922 of 10000 complete in 37.3 sec"
       ]
      },
      {
       "output_type": "stream",
       "stream": "stdout",
       "text": [
        "\r",
        " [---------------  39%                  ] 3972 of 10000 complete in 37.8 sec"
       ]
      },
      {
       "output_type": "stream",
       "stream": "stdout",
       "text": [
        "\r",
        " [---------------  40%                  ] 4022 of 10000 complete in 38.3 sec"
       ]
      },
      {
       "output_type": "stream",
       "stream": "stdout",
       "text": [
        "\r",
        " [---------------  40%                  ] 4093 of 10000 complete in 38.8 sec"
       ]
      },
      {
       "output_type": "stream",
       "stream": "stdout",
       "text": [
        "\r",
        " [---------------  41%                  ] 4153 of 10000 complete in 39.3 sec"
       ]
      },
      {
       "output_type": "stream",
       "stream": "stdout",
       "text": [
        "\r",
        " [---------------- 42%                  ] 4220 of 10000 complete in 39.8 sec"
       ]
      },
      {
       "output_type": "stream",
       "stream": "stdout",
       "text": [
        "\r",
        " [---------------- 42%                  ] 4271 of 10000 complete in 40.3 sec"
       ]
      },
      {
       "output_type": "stream",
       "stream": "stdout",
       "text": [
        "\r",
        " [---------------- 43%                  ] 4314 of 10000 complete in 40.8 sec"
       ]
      },
      {
       "output_type": "stream",
       "stream": "stdout",
       "text": [
        "\r",
        " [---------------- 43%                  ] 4371 of 10000 complete in 41.4 sec"
       ]
      },
      {
       "output_type": "stream",
       "stream": "stdout",
       "text": [
        "\r",
        " [---------------- 44%                  ] 4425 of 10000 complete in 41.9 sec"
       ]
      },
      {
       "output_type": "stream",
       "stream": "stdout",
       "text": [
        "\r",
        " [---------------- 44%                  ] 4452 of 10000 complete in 42.4 sec"
       ]
      },
      {
       "output_type": "stream",
       "stream": "stdout",
       "text": [
        "\r",
        " [-----------------45%                  ] 4503 of 10000 complete in 42.9 sec"
       ]
      },
      {
       "output_type": "stream",
       "stream": "stdout",
       "text": [
        "\r",
        " [-----------------45%                  ] 4541 of 10000 complete in 43.4 sec"
       ]
      },
      {
       "output_type": "stream",
       "stream": "stdout",
       "text": [
        "\r",
        " [-----------------45%                  ] 4590 of 10000 complete in 43.9 sec"
       ]
      },
      {
       "output_type": "stream",
       "stream": "stdout",
       "text": [
        "\r",
        " [-----------------46%                  ] 4658 of 10000 complete in 44.4 sec"
       ]
      },
      {
       "output_type": "stream",
       "stream": "stdout",
       "text": [
        "\r",
        " [-----------------47%                  ] 4718 of 10000 complete in 44.9 sec"
       ]
      },
      {
       "output_type": "stream",
       "stream": "stdout",
       "text": [
        "\r",
        " [-----------------47%                  ] 4791 of 10000 complete in 45.4 sec"
       ]
      },
      {
       "output_type": "stream",
       "stream": "stdout",
       "text": [
        "\r",
        " [-----------------48%                  ] 4833 of 10000 complete in 45.9 sec"
       ]
      },
      {
       "output_type": "stream",
       "stream": "stdout",
       "text": [
        "\r",
        " [-----------------48%                  ] 4888 of 10000 complete in 46.4 sec"
       ]
      },
      {
       "output_type": "stream",
       "stream": "stdout",
       "text": [
        "\r",
        " [-----------------49%                  ] 4964 of 10000 complete in 46.9 sec"
       ]
      },
      {
       "output_type": "stream",
       "stream": "stdout",
       "text": [
        "\r",
        " [-----------------50%                  ] 5032 of 10000 complete in 47.5 sec"
       ]
      },
      {
       "output_type": "stream",
       "stream": "stdout",
       "text": [
        "\r",
        " [-----------------50%                  ] 5091 of 10000 complete in 48.0 sec"
       ]
      },
      {
       "output_type": "stream",
       "stream": "stdout",
       "text": [
        "\r",
        " [-----------------51%                  ] 5163 of 10000 complete in 48.5 sec"
       ]
      },
      {
       "output_type": "stream",
       "stream": "stdout",
       "text": [
        "\r",
        " [-----------------52%                  ] 5217 of 10000 complete in 49.0 sec"
       ]
      },
      {
       "output_type": "stream",
       "stream": "stdout",
       "text": [
        "\r",
        " [-----------------52%                  ] 5262 of 10000 complete in 49.5 sec"
       ]
      },
      {
       "output_type": "stream",
       "stream": "stdout",
       "text": [
        "\r",
        " [-----------------53%                  ] 5323 of 10000 complete in 50.0 sec"
       ]
      },
      {
       "output_type": "stream",
       "stream": "stdout",
       "text": [
        "\r",
        " [-----------------53%                  ] 5392 of 10000 complete in 50.5 sec"
       ]
      },
      {
       "output_type": "stream",
       "stream": "stdout",
       "text": [
        "\r",
        " [-----------------54%                  ] 5452 of 10000 complete in 51.0 sec"
       ]
      },
      {
       "output_type": "stream",
       "stream": "stdout",
       "text": [
        "\r",
        " [-----------------55%-                 ] 5527 of 10000 complete in 51.5 sec"
       ]
      },
      {
       "output_type": "stream",
       "stream": "stdout",
       "text": [
        "\r",
        " [-----------------55%-                 ] 5563 of 10000 complete in 52.0 sec"
       ]
      },
      {
       "output_type": "stream",
       "stream": "stdout",
       "text": [
        "\r",
        " [-----------------55%-                 ] 5592 of 10000 complete in 52.5 sec"
       ]
      },
      {
       "output_type": "stream",
       "stream": "stdout",
       "text": [
        "\r",
        " [-----------------56%-                 ] 5658 of 10000 complete in 53.0 sec"
       ]
      },
      {
       "output_type": "stream",
       "stream": "stdout",
       "text": [
        "\r",
        " [-----------------57%-                 ] 5733 of 10000 complete in 53.5 sec"
       ]
      },
      {
       "output_type": "stream",
       "stream": "stdout",
       "text": [
        "\r",
        " [-----------------57%-                 ] 5787 of 10000 complete in 54.0 sec"
       ]
      },
      {
       "output_type": "stream",
       "stream": "stdout",
       "text": [
        "\r",
        " [-----------------58%--                ] 5855 of 10000 complete in 54.5 sec"
       ]
      },
      {
       "output_type": "stream",
       "stream": "stdout",
       "text": [
        "\r",
        " [-----------------59%--                ] 5941 of 10000 complete in 55.1 sec"
       ]
      },
      {
       "output_type": "stream",
       "stream": "stdout",
       "text": [
        "\r",
        " [-----------------59%--                ] 5998 of 10000 complete in 55.6 sec"
       ]
      },
      {
       "output_type": "stream",
       "stream": "stdout",
       "text": [
        "\r",
        " [-----------------60%--                ] 6049 of 10000 complete in 56.1 sec"
       ]
      },
      {
       "output_type": "stream",
       "stream": "stdout",
       "text": [
        "\r",
        " [-----------------61%---               ] 6101 of 10000 complete in 56.6 sec"
       ]
      },
      {
       "output_type": "stream",
       "stream": "stdout",
       "text": [
        "\r",
        " [-----------------61%---               ] 6152 of 10000 complete in 57.1 sec"
       ]
      },
      {
       "output_type": "stream",
       "stream": "stdout",
       "text": [
        "\r",
        " [-----------------61%---               ] 6190 of 10000 complete in 57.6 sec"
       ]
      },
      {
       "output_type": "stream",
       "stream": "stdout",
       "text": [
        "\r",
        " [-----------------62%---               ] 6227 of 10000 complete in 58.1 sec"
       ]
      },
      {
       "output_type": "stream",
       "stream": "stdout",
       "text": [
        "\r",
        " [-----------------62%---               ] 6283 of 10000 complete in 58.6 sec"
       ]
      },
      {
       "output_type": "stream",
       "stream": "stdout",
       "text": [
        "\r",
        " [-----------------63%----              ] 6363 of 10000 complete in 59.1 sec"
       ]
      },
      {
       "output_type": "stream",
       "stream": "stdout",
       "text": [
        "\r",
        " [-----------------64%----              ] 6424 of 10000 complete in 59.6 sec"
       ]
      },
      {
       "output_type": "stream",
       "stream": "stdout",
       "text": [
        "\r",
        " [-----------------64%----              ] 6466 of 10000 complete in 60.1 sec"
       ]
      },
      {
       "output_type": "stream",
       "stream": "stdout",
       "text": [
        "\r",
        " [-----------------65%----              ] 6527 of 10000 complete in 60.6 sec"
       ]
      },
      {
       "output_type": "stream",
       "stream": "stdout",
       "text": [
        "\r",
        " [-----------------66%-----             ] 6602 of 10000 complete in 61.1 sec"
       ]
      },
      {
       "output_type": "stream",
       "stream": "stdout",
       "text": [
        "\r",
        " [-----------------66%-----             ] 6654 of 10000 complete in 61.6 sec"
       ]
      },
      {
       "output_type": "stream",
       "stream": "stdout",
       "text": [
        "\r",
        " [-----------------67%-----             ] 6716 of 10000 complete in 62.1 sec"
       ]
      },
      {
       "output_type": "stream",
       "stream": "stdout",
       "text": [
        "\r",
        " [-----------------67%-----             ] 6769 of 10000 complete in 62.6 sec"
       ]
      },
      {
       "output_type": "stream",
       "stream": "stdout",
       "text": [
        "\r",
        " [-----------------68%-----             ] 6837 of 10000 complete in 63.2 sec"
       ]
      },
      {
       "output_type": "stream",
       "stream": "stdout",
       "text": [
        "\r",
        " [-----------------69%------            ] 6904 of 10000 complete in 63.7 sec"
       ]
      },
      {
       "output_type": "stream",
       "stream": "stdout",
       "text": [
        "\r",
        " [-----------------70%------            ] 7013 of 10000 complete in 64.2 sec"
       ]
      },
      {
       "output_type": "stream",
       "stream": "stdout",
       "text": [
        "\r",
        " [-----------------70%------            ] 7073 of 10000 complete in 64.7 sec"
       ]
      },
      {
       "output_type": "stream",
       "stream": "stdout",
       "text": [
        "\r",
        " [-----------------71%-------           ] 7138 of 10000 complete in 65.2 sec"
       ]
      },
      {
       "output_type": "stream",
       "stream": "stdout",
       "text": [
        "\r",
        " [-----------------71%-------           ] 7184 of 10000 complete in 65.7 sec"
       ]
      },
      {
       "output_type": "stream",
       "stream": "stdout",
       "text": [
        "\r",
        " [-----------------72%-------           ] 7249 of 10000 complete in 66.2 sec"
       ]
      },
      {
       "output_type": "stream",
       "stream": "stdout",
       "text": [
        "\r",
        " [-----------------73%-------           ] 7309 of 10000 complete in 66.7 sec"
       ]
      },
      {
       "output_type": "stream",
       "stream": "stdout",
       "text": [
        "\r",
        " [-----------------73%--------          ] 7372 of 10000 complete in 67.2 sec"
       ]
      },
      {
       "output_type": "stream",
       "stream": "stdout",
       "text": [
        "\r",
        " [-----------------74%--------          ] 7420 of 10000 complete in 67.7 sec"
       ]
      },
      {
       "output_type": "stream",
       "stream": "stdout",
       "text": [
        "\r",
        " [-----------------74%--------          ] 7460 of 10000 complete in 68.2 sec"
       ]
      },
      {
       "output_type": "stream",
       "stream": "stdout",
       "text": [
        "\r",
        " [-----------------75%--------          ] 7528 of 10000 complete in 68.7 sec"
       ]
      },
      {
       "output_type": "stream",
       "stream": "stdout",
       "text": [
        "\r",
        " [-----------------75%--------          ] 7585 of 10000 complete in 69.2 sec"
       ]
      },
      {
       "output_type": "stream",
       "stream": "stdout",
       "text": [
        "\r",
        " [-----------------76%--------          ] 7630 of 10000 complete in 69.7 sec"
       ]
      },
      {
       "output_type": "stream",
       "stream": "stdout",
       "text": [
        "\r",
        " [-----------------76%---------         ] 7680 of 10000 complete in 70.2 sec"
       ]
      },
      {
       "output_type": "stream",
       "stream": "stdout",
       "text": [
        "\r",
        " [-----------------77%---------         ] 7735 of 10000 complete in 70.8 sec"
       ]
      },
      {
       "output_type": "stream",
       "stream": "stdout",
       "text": [
        "\r",
        " [-----------------77%---------         ] 7792 of 10000 complete in 71.3 sec"
       ]
      },
      {
       "output_type": "stream",
       "stream": "stdout",
       "text": [
        "\r",
        " [-----------------78%---------         ] 7846 of 10000 complete in 71.8 sec"
       ]
      },
      {
       "output_type": "stream",
       "stream": "stdout",
       "text": [
        "\r",
        " [-----------------78%----------        ] 7898 of 10000 complete in 72.3 sec"
       ]
      },
      {
       "output_type": "stream",
       "stream": "stdout",
       "text": [
        "\r",
        " [-----------------79%----------        ] 7942 of 10000 complete in 72.8 sec"
       ]
      },
      {
       "output_type": "stream",
       "stream": "stdout",
       "text": [
        "\r",
        " [-----------------79%----------        ] 7996 of 10000 complete in 73.3 sec"
       ]
      },
      {
       "output_type": "stream",
       "stream": "stdout",
       "text": [
        "\r",
        " [-----------------80%----------        ] 8055 of 10000 complete in 73.8 sec"
       ]
      },
      {
       "output_type": "stream",
       "stream": "stdout",
       "text": [
        "\r",
        " [-----------------81%----------        ] 8100 of 10000 complete in 74.3 sec"
       ]
      },
      {
       "output_type": "stream",
       "stream": "stdout",
       "text": [
        "\r",
        " [-----------------81%----------        ] 8148 of 10000 complete in 74.8 sec"
       ]
      },
      {
       "output_type": "stream",
       "stream": "stdout",
       "text": [
        "\r",
        " [-----------------81%-----------       ] 8180 of 10000 complete in 75.3 sec"
       ]
      },
      {
       "output_type": "stream",
       "stream": "stdout",
       "text": [
        "\r",
        " [-----------------82%-----------       ] 8229 of 10000 complete in 75.8 sec"
       ]
      },
      {
       "output_type": "stream",
       "stream": "stdout",
       "text": [
        "\r",
        " [-----------------82%-----------       ] 8294 of 10000 complete in 76.3 sec"
       ]
      },
      {
       "output_type": "stream",
       "stream": "stdout",
       "text": [
        "\r",
        " [-----------------83%-----------       ] 8335 of 10000 complete in 76.9 sec"
       ]
      },
      {
       "output_type": "stream",
       "stream": "stdout",
       "text": [
        "\r",
        " [-----------------84%-----------       ] 8405 of 10000 complete in 77.4 sec"
       ]
      },
      {
       "output_type": "stream",
       "stream": "stdout",
       "text": [
        "\r",
        " [-----------------84%------------      ] 8475 of 10000 complete in 77.9 sec"
       ]
      },
      {
       "output_type": "stream",
       "stream": "stdout",
       "text": [
        "\r",
        " [-----------------85%------------      ] 8553 of 10000 complete in 78.4 sec"
       ]
      },
      {
       "output_type": "stream",
       "stream": "stdout",
       "text": [
        "\r",
        " [-----------------86%------------      ] 8602 of 10000 complete in 78.9 sec"
       ]
      },
      {
       "output_type": "stream",
       "stream": "stdout",
       "text": [
        "\r",
        " [-----------------86%------------      ] 8643 of 10000 complete in 79.4 sec"
       ]
      },
      {
       "output_type": "stream",
       "stream": "stdout",
       "text": [
        "\r",
        " [-----------------86%------------      ] 8678 of 10000 complete in 79.9 sec"
       ]
      },
      {
       "output_type": "stream",
       "stream": "stdout",
       "text": [
        "\r",
        " [-----------------87%-------------     ] 8700 of 10000 complete in 80.4 sec"
       ]
      },
      {
       "output_type": "stream",
       "stream": "stdout",
       "text": [
        "\r",
        " [-----------------87%-------------     ] 8731 of 10000 complete in 81.0 sec"
       ]
      },
      {
       "output_type": "stream",
       "stream": "stdout",
       "text": [
        "\r",
        " [-----------------87%-------------     ] 8786 of 10000 complete in 81.5 sec"
       ]
      },
      {
       "output_type": "stream",
       "stream": "stdout",
       "text": [
        "\r",
        " [-----------------88%-------------     ] 8819 of 10000 complete in 82.0 sec"
       ]
      },
      {
       "output_type": "stream",
       "stream": "stdout",
       "text": [
        "\r",
        " [-----------------88%-------------     ] 8865 of 10000 complete in 82.5 sec"
       ]
      },
      {
       "output_type": "stream",
       "stream": "stdout",
       "text": [
        "\r",
        " [-----------------89%-------------     ] 8915 of 10000 complete in 83.0 sec"
       ]
      },
      {
       "output_type": "stream",
       "stream": "stdout",
       "text": [
        "\r",
        " [-----------------89%--------------    ] 8973 of 10000 complete in 83.5 sec"
       ]
      },
      {
       "output_type": "stream",
       "stream": "stdout",
       "text": [
        "\r",
        " [-----------------90%--------------    ] 9027 of 10000 complete in 84.0 sec"
       ]
      },
      {
       "output_type": "stream",
       "stream": "stdout",
       "text": [
        "\r",
        " [-----------------90%--------------    ] 9097 of 10000 complete in 84.5 sec"
       ]
      },
      {
       "output_type": "stream",
       "stream": "stdout",
       "text": [
        "\r",
        " [-----------------91%--------------    ] 9142 of 10000 complete in 85.0 sec"
       ]
      },
      {
       "output_type": "stream",
       "stream": "stdout",
       "text": [
        "\r",
        " [-----------------92%--------------    ] 9210 of 10000 complete in 85.5 sec"
       ]
      },
      {
       "output_type": "stream",
       "stream": "stdout",
       "text": [
        "\r",
        " [-----------------92%---------------   ] 9276 of 10000 complete in 86.0 sec"
       ]
      },
      {
       "output_type": "stream",
       "stream": "stdout",
       "text": [
        "\r",
        " [-----------------93%---------------   ] 9342 of 10000 complete in 86.5 sec"
       ]
      },
      {
       "output_type": "stream",
       "stream": "stdout",
       "text": [
        "\r",
        " [-----------------93%---------------   ] 9378 of 10000 complete in 87.0 sec"
       ]
      },
      {
       "output_type": "stream",
       "stream": "stdout",
       "text": [
        "\r",
        " [-----------------94%---------------   ] 9444 of 10000 complete in 87.5 sec"
       ]
      },
      {
       "output_type": "stream",
       "stream": "stdout",
       "text": [
        "\r",
        " [-----------------95%----------------  ] 9504 of 10000 complete in 88.0 sec"
       ]
      },
      {
       "output_type": "stream",
       "stream": "stdout",
       "text": [
        "\r",
        " [-----------------95%----------------  ] 9558 of 10000 complete in 88.5 sec"
       ]
      },
      {
       "output_type": "stream",
       "stream": "stdout",
       "text": [
        "\r",
        " [-----------------96%----------------  ] 9613 of 10000 complete in 89.1 sec"
       ]
      },
      {
       "output_type": "stream",
       "stream": "stdout",
       "text": [
        "\r",
        " [-----------------96%----------------  ] 9684 of 10000 complete in 89.6 sec"
       ]
      },
      {
       "output_type": "stream",
       "stream": "stdout",
       "text": [
        "\r",
        " [-----------------97%----------------- ] 9767 of 10000 complete in 90.1 sec"
       ]
      },
      {
       "output_type": "stream",
       "stream": "stdout",
       "text": [
        "\r",
        " [-----------------98%----------------- ] 9824 of 10000 complete in 90.6 sec"
       ]
      },
      {
       "output_type": "stream",
       "stream": "stdout",
       "text": [
        "\r",
        " [-----------------98%----------------- ] 9884 of 10000 complete in 91.1 sec"
       ]
      },
      {
       "output_type": "stream",
       "stream": "stdout",
       "text": [
        "\r",
        " [-----------------99%----------------- ] 9916 of 10000 complete in 91.6 sec"
       ]
      },
      {
       "output_type": "stream",
       "stream": "stdout",
       "text": [
        "\r",
        " [-----------------99%----------------- ] 9960 of 10000 complete in 92.1 sec"
       ]
      },
      {
       "output_type": "stream",
       "stream": "stdout",
       "text": [
        "\r",
        " [-----------------99%----------------- ] 9990 of 10000 complete in 92.6 sec"
       ]
      },
      {
       "output_type": "stream",
       "stream": "stdout",
       "text": [
        "\r",
        " [-----------------100%-----------------] 10000 of 10000 complete in 92.8 sec"
       ]
      }
     ],
     "prompt_number": 58
    },
    {
     "cell_type": "markdown",
     "metadata": {},
     "source": [
      "## Developmental delay subset"
     ]
    },
    {
     "cell_type": "code",
     "collapsed": false,
     "input": [
      "dd_data = mchat_data[mchat_data.population == 'developmental delay']\n",
      "dd_data"
     ],
     "language": "python",
     "metadata": {},
     "outputs": [
      {
       "html": [
        "<pre>\n",
        "&lt;class 'pandas.core.frame.DataFrame'&gt;\n",
        "Int64Index: 4 entries, 16 to 35\n",
        "Data columns (total 35 columns):\n",
        "study_id         4  non-null values\n",
        "ref_id           4  non-null values\n",
        "author           4  non-null values\n",
        "year             4  non-null values\n",
        "country          4  non-null values\n",
        "population       4  non-null values\n",
        "screener         4  non-null values\n",
        "arm              2  non-null values\n",
        "age_mean         1  non-null values\n",
        "age_sd           1  non-null values\n",
        "age_lo           4  non-null values\n",
        "age_hi           4  non-null values\n",
        "n_m              3  non-null values\n",
        "n_f              3  non-null values\n",
        "dx_standard      4  non-null values\n",
        "risk_factor      4  non-null values\n",
        "n_screened       4  non-null values\n",
        "screen_pos       4  non-null values\n",
        "n_dx             4  non-null values\n",
        "n_pos            4  non-null values\n",
        "n_neg            4  non-null values\n",
        "n_data           4  non-null values\n",
        "tp               4  non-null values\n",
        "fp               4  non-null values\n",
        "fn               3  non-null values\n",
        "tn               3  non-null values\n",
        "fp_dev_delay     4  non-null values\n",
        "fp_lang_delay    4  non-null values\n",
        "fp_normal        4  non-null values\n",
        "fp_non_asd       4  non-null values\n",
        "tn_dev_delay     3  non-null values\n",
        "tn_lang_delay    3  non-null values\n",
        "tn_normal        3  non-null values\n",
        "tn_non_asd       3  non-null values\n",
        "popval           4  non-null values\n",
        "dtypes: float64(23), int64(2), object(10)\n",
        "</pre>"
       ],
       "metadata": {},
       "output_type": "pyout",
       "prompt_number": 32,
       "text": [
        "<class 'pandas.core.frame.DataFrame'>\n",
        "Int64Index: 4 entries, 16 to 35\n",
        "Data columns (total 35 columns):\n",
        "study_id         4  non-null values\n",
        "ref_id           4  non-null values\n",
        "author           4  non-null values\n",
        "year             4  non-null values\n",
        "country          4  non-null values\n",
        "population       4  non-null values\n",
        "screener         4  non-null values\n",
        "arm              2  non-null values\n",
        "age_mean         1  non-null values\n",
        "age_sd           1  non-null values\n",
        "age_lo           4  non-null values\n",
        "age_hi           4  non-null values\n",
        "n_m              3  non-null values\n",
        "n_f              3  non-null values\n",
        "dx_standard      4  non-null values\n",
        "risk_factor      4  non-null values\n",
        "n_screened       4  non-null values\n",
        "screen_pos       4  non-null values\n",
        "n_dx             4  non-null values\n",
        "n_pos            4  non-null values\n",
        "n_neg            4  non-null values\n",
        "n_data           4  non-null values\n",
        "tp               4  non-null values\n",
        "fp               4  non-null values\n",
        "fn               3  non-null values\n",
        "tn               3  non-null values\n",
        "fp_dev_delay     4  non-null values\n",
        "fp_lang_delay    4  non-null values\n",
        "fp_normal        4  non-null values\n",
        "fp_non_asd       4  non-null values\n",
        "tn_dev_delay     3  non-null values\n",
        "tn_lang_delay    3  non-null values\n",
        "tn_normal        3  non-null values\n",
        "tn_non_asd       3  non-null values\n",
        "popval           4  non-null values\n",
        "dtypes: float64(23), int64(2), object(10)"
       ]
      }
     ],
     "prompt_number": 32
    },
    {
     "cell_type": "code",
     "collapsed": false,
     "input": [
      "all_data = where(dd_data.fn.notnull().values)[0]\n",
      "all_data"
     ],
     "language": "python",
     "metadata": {},
     "outputs": [
      {
       "metadata": {},
       "output_type": "pyout",
       "prompt_number": 33,
       "text": [
        "array([0, 1, 2])"
       ]
      }
     ],
     "prompt_number": 33
    },
    {
     "cell_type": "code",
     "collapsed": false,
     "input": [
      "ppv_only = where(dd_data.fn.isnull().values)[0]\n",
      "ppv_only"
     ],
     "language": "python",
     "metadata": {},
     "outputs": [
      {
       "metadata": {},
       "output_type": "pyout",
       "prompt_number": 34,
       "text": [
        "array([3])"
       ]
      }
     ],
     "prompt_number": 34
    },
    {
     "cell_type": "code",
     "collapsed": false,
     "input": [
      "covariate = False\n",
      "\n",
      "with Model() as dd_model:\n",
      "    \n",
      "    tp = dd_data.tp.values\n",
      "    tn = dd_data.tn.values\n",
      "    fp = dd_data.fp.values\n",
      "    fn = dd_data.fn.values\n",
      "    pop = dd_data.popval\n",
      "    \n",
      "    if covariate:\n",
      "        \n",
      "        # Effect of study population\n",
      "        beta = Normal('beta', 0., 0.01, shape=3)\n",
      "        \n",
      "        # Study random effects\n",
      "        mu = Normal('mu', 0., 0.01, shape=3)\n",
      "        # Transform to probability scale\n",
      "        Ep = Deterministic('Ep', tinvlogit(mu))\n",
      "        \n",
      "        # Probabilities\n",
      "        p_d1s1 = Deterministic('p_d1s1', tinvlogit(mu[0] + beta[0]*pop))\n",
      "        p_d1s0 = Deterministic('p_d1s0', tinvlogit(mu[1] + beta[1]*pop))\n",
      "        p_s1 = Deterministic('p_s1', tinvlogit(mu[2] + beta[2]*pop))\n",
      "        \n",
      "    else:\n",
      "        \n",
      "        p_d1s1 = Beta('p_d1s1', 1, 1)\n",
      "        p_d1s0 = Beta('p_d1s0', 1, 1)\n",
      "        p_s1 = Beta('p_s1', 1, 1)\n",
      "    \n",
      "    # Probability of positive diagnosis\n",
      "    p_d1 = p_d1s1 * p_s1 + p_d1s0 * (1 - p_s1)\n",
      "    # Population prevalence\n",
      "#     p_d1 = 0.011\n",
      "    # Probability of negative diagnosis\n",
      "    p_d0 = 1 - p_d1\n",
      "    # Sensitivity (via Bayes)\n",
      "    p_s1d1 = Deterministic('p_s1d1', (p_d1s1 * p_s1) / p_d1)\n",
      "    # Specificity (via Bayes)\n",
      "    p_s0d0 = Deterministic('p_s0d0', (1 - p_d1s0) * (1 - p_s1) / p_d0)\n",
      "    \n",
      "    if covariate:\n",
      "        \n",
      "        # Data likelihoods for sensitivity and specificity\n",
      "        sensitivity = Binomial('sensitivity', n=tp[all_data]+fn[all_data], p=p_s1d1[all_data], \n",
      "                               observed=tp[all_data])\n",
      "        specificity = Binomial('specificity', n=tn[all_data]+fp[all_data], p=p_s0d0[all_data], \n",
      "                               observed=tn[all_data])\n",
      "        \n",
      "        # Data likelihood for PPV\n",
      "        ppv = Binomial('ppv', n=tp[ppv_only]+fp[ppv_only], p=p_d1s1[ppv_only], observed=tp[ppv_only])\n",
      "        \n",
      "    else:\n",
      "    \n",
      "        # Data likelihoods for sensitivity and specificity\n",
      "        sensitivity = Binomial('sensitivity', n=tp[all_data]+fn[all_data], p=p_s1d1, \n",
      "                               observed=tp[all_data])\n",
      "        specificity = Binomial('specificity', n=tn[all_data]+fp[all_data], p=p_s0d0, \n",
      "                               observed=tn[all_data])\n",
      "        \n",
      "        # Data likelihood for PPV\n",
      "        ppv = Binomial('ppv', n=tp[ppv_only]+fp[ppv_only], p=p_d1s1, observed=tp[ppv_only])"
     ],
     "language": "python",
     "metadata": {},
     "outputs": [],
     "prompt_number": 35
    },
    {
     "cell_type": "code",
     "collapsed": false,
     "input": [
      "with dd_model:\n",
      "    \n",
      "    #start = {'mu': [0.]*3, 'beta': [0]*3}\n",
      "    \n",
      "    start = find_MAP()\n",
      "    step = NUTS()\n",
      "#     step = Slice()\n",
      "    \n",
      "    tr_dd = sample(10000, step, start)"
     ],
     "language": "python",
     "metadata": {},
     "outputs": [
      {
       "output_type": "stream",
       "stream": "stdout",
       "text": [
        "\r",
        " [                  1%                  ] 142 of 10000 complete in 0.5 sec"
       ]
      },
      {
       "output_type": "stream",
       "stream": "stdout",
       "text": [
        "\r",
        " [-                 3%                  ] 310 of 10000 complete in 1.0 sec"
       ]
      },
      {
       "output_type": "stream",
       "stream": "stdout",
       "text": [
        "\r",
        " [-                 5%                  ] 504 of 10000 complete in 1.5 sec"
       ]
      },
      {
       "output_type": "stream",
       "stream": "stdout",
       "text": [
        "\r",
        " [--                6%                  ] 698 of 10000 complete in 2.0 sec"
       ]
      },
      {
       "output_type": "stream",
       "stream": "stdout",
       "text": [
        "\r",
        " [---               8%                  ] 875 of 10000 complete in 2.5 sec"
       ]
      },
      {
       "output_type": "stream",
       "stream": "stdout",
       "text": [
        "\r",
        " [----             10%                  ] 1071 of 10000 complete in 3.0 sec"
       ]
      },
      {
       "output_type": "stream",
       "stream": "stdout",
       "text": [
        "\r",
        " [----             12%                  ] 1252 of 10000 complete in 3.5 sec"
       ]
      },
      {
       "output_type": "stream",
       "stream": "stdout",
       "text": [
        "\r",
        " [-----            14%                  ] 1439 of 10000 complete in 4.0 sec"
       ]
      },
      {
       "output_type": "stream",
       "stream": "stdout",
       "text": [
        "\r",
        " [------           16%                  ] 1637 of 10000 complete in 4.5 sec"
       ]
      },
      {
       "output_type": "stream",
       "stream": "stdout",
       "text": [
        "\r",
        " [------           18%                  ] 1820 of 10000 complete in 5.0 sec"
       ]
      },
      {
       "output_type": "stream",
       "stream": "stdout",
       "text": [
        "\r",
        " [-------          20%                  ] 2004 of 10000 complete in 5.5 sec"
       ]
      },
      {
       "output_type": "stream",
       "stream": "stdout",
       "text": [
        "\r",
        " [--------         21%                  ] 2191 of 10000 complete in 6.0 sec"
       ]
      },
      {
       "output_type": "stream",
       "stream": "stdout",
       "text": [
        "\r",
        " [---------        23%                  ] 2376 of 10000 complete in 6.5 sec"
       ]
      },
      {
       "output_type": "stream",
       "stream": "stdout",
       "text": [
        "\r",
        " [---------        25%                  ] 2573 of 10000 complete in 7.0 sec"
       ]
      },
      {
       "output_type": "stream",
       "stream": "stdout",
       "text": [
        "\r",
        " [----------       27%                  ] 2772 of 10000 complete in 7.5 sec"
       ]
      },
      {
       "output_type": "stream",
       "stream": "stdout",
       "text": [
        "\r",
        " [-----------      29%                  ] 2957 of 10000 complete in 8.0 sec"
       ]
      },
      {
       "output_type": "stream",
       "stream": "stdout",
       "text": [
        "\r",
        " [-----------      31%                  ] 3124 of 10000 complete in 8.5 sec"
       ]
      },
      {
       "output_type": "stream",
       "stream": "stdout",
       "text": [
        "\r",
        " [------------     33%                  ] 3327 of 10000 complete in 9.0 sec"
       ]
      },
      {
       "output_type": "stream",
       "stream": "stdout",
       "text": [
        "\r",
        " [-------------    35%                  ] 3500 of 10000 complete in 9.5 sec"
       ]
      },
      {
       "output_type": "stream",
       "stream": "stdout",
       "text": [
        "\r",
        " [--------------   37%                  ] 3710 of 10000 complete in 10.0 sec"
       ]
      },
      {
       "output_type": "stream",
       "stream": "stdout",
       "text": [
        "\r",
        " [--------------   38%                  ] 3886 of 10000 complete in 10.5 sec"
       ]
      },
      {
       "output_type": "stream",
       "stream": "stdout",
       "text": [
        "\r",
        " [---------------  40%                  ] 4078 of 10000 complete in 11.0 sec"
       ]
      },
      {
       "output_type": "stream",
       "stream": "stdout",
       "text": [
        "\r",
        " [---------------- 42%                  ] 4268 of 10000 complete in 11.5 sec"
       ]
      },
      {
       "output_type": "stream",
       "stream": "stdout",
       "text": [
        "\r",
        " [---------------- 44%                  ] 4465 of 10000 complete in 12.0 sec"
       ]
      },
      {
       "output_type": "stream",
       "stream": "stdout",
       "text": [
        "\r",
        " [-----------------46%                  ] 4662 of 10000 complete in 12.5 sec"
       ]
      },
      {
       "output_type": "stream",
       "stream": "stdout",
       "text": [
        "\r",
        " [-----------------48%                  ] 4842 of 10000 complete in 13.0 sec"
       ]
      },
      {
       "output_type": "stream",
       "stream": "stdout",
       "text": [
        "\r",
        " [-----------------50%                  ] 5025 of 10000 complete in 13.6 sec"
       ]
      },
      {
       "output_type": "stream",
       "stream": "stdout",
       "text": [
        "\r",
        " [-----------------52%                  ] 5214 of 10000 complete in 14.1 sec"
       ]
      },
      {
       "output_type": "stream",
       "stream": "stdout",
       "text": [
        "\r",
        " [-----------------54%                  ] 5416 of 10000 complete in 14.6 sec"
       ]
      },
      {
       "output_type": "stream",
       "stream": "stdout",
       "text": [
        "\r",
        " [-----------------56%-                 ] 5617 of 10000 complete in 15.1 sec"
       ]
      },
      {
       "output_type": "stream",
       "stream": "stdout",
       "text": [
        "\r",
        " [-----------------58%--                ] 5815 of 10000 complete in 15.6 sec"
       ]
      },
      {
       "output_type": "stream",
       "stream": "stdout",
       "text": [
        "\r",
        " [-----------------60%--                ] 6006 of 10000 complete in 16.1 sec"
       ]
      },
      {
       "output_type": "stream",
       "stream": "stdout",
       "text": [
        "\r",
        " [-----------------61%---               ] 6188 of 10000 complete in 16.6 sec"
       ]
      },
      {
       "output_type": "stream",
       "stream": "stdout",
       "text": [
        "\r",
        " [-----------------63%----              ] 6378 of 10000 complete in 17.1 sec"
       ]
      },
      {
       "output_type": "stream",
       "stream": "stdout",
       "text": [
        "\r",
        " [-----------------65%----              ] 6565 of 10000 complete in 17.6 sec"
       ]
      },
      {
       "output_type": "stream",
       "stream": "stdout",
       "text": [
        "\r",
        " [-----------------67%-----             ] 6747 of 10000 complete in 18.1 sec"
       ]
      },
      {
       "output_type": "stream",
       "stream": "stdout",
       "text": [
        "\r",
        " [-----------------69%------            ] 6943 of 10000 complete in 18.6 sec"
       ]
      },
      {
       "output_type": "stream",
       "stream": "stdout",
       "text": [
        "\r",
        " [-----------------71%-------           ] 7134 of 10000 complete in 19.1 sec"
       ]
      },
      {
       "output_type": "stream",
       "stream": "stdout",
       "text": [
        "\r",
        " [-----------------73%-------           ] 7333 of 10000 complete in 19.6 sec"
       ]
      },
      {
       "output_type": "stream",
       "stream": "stdout",
       "text": [
        "\r",
        " [-----------------75%--------          ] 7526 of 10000 complete in 20.1 sec"
       ]
      },
      {
       "output_type": "stream",
       "stream": "stdout",
       "text": [
        "\r",
        " [-----------------77%---------         ] 7722 of 10000 complete in 20.6 sec"
       ]
      },
      {
       "output_type": "stream",
       "stream": "stdout",
       "text": [
        "\r",
        " [-----------------79%----------        ] 7924 of 10000 complete in 21.1 sec"
       ]
      },
      {
       "output_type": "stream",
       "stream": "stdout",
       "text": [
        "\r",
        " [-----------------81%----------        ] 8121 of 10000 complete in 21.6 sec"
       ]
      },
      {
       "output_type": "stream",
       "stream": "stdout",
       "text": [
        "\r",
        " [-----------------83%-----------       ] 8311 of 10000 complete in 22.1 sec"
       ]
      },
      {
       "output_type": "stream",
       "stream": "stdout",
       "text": [
        "\r",
        " [-----------------85%------------      ] 8510 of 10000 complete in 22.6 sec"
       ]
      },
      {
       "output_type": "stream",
       "stream": "stdout",
       "text": [
        "\r",
        " [-----------------86%-------------     ] 8696 of 10000 complete in 23.1 sec"
       ]
      },
      {
       "output_type": "stream",
       "stream": "stdout",
       "text": [
        "\r",
        " [-----------------88%-------------     ] 8895 of 10000 complete in 23.6 sec"
       ]
      },
      {
       "output_type": "stream",
       "stream": "stdout",
       "text": [
        "\r",
        " [-----------------91%--------------    ] 9100 of 10000 complete in 24.1 sec"
       ]
      },
      {
       "output_type": "stream",
       "stream": "stdout",
       "text": [
        "\r",
        " [-----------------93%---------------   ] 9302 of 10000 complete in 24.6 sec"
       ]
      },
      {
       "output_type": "stream",
       "stream": "stdout",
       "text": [
        "\r",
        " [-----------------94%----------------  ] 9498 of 10000 complete in 25.1 sec"
       ]
      },
      {
       "output_type": "stream",
       "stream": "stdout",
       "text": [
        "\r",
        " [-----------------96%----------------  ] 9690 of 10000 complete in 25.6 sec"
       ]
      },
      {
       "output_type": "stream",
       "stream": "stdout",
       "text": [
        "\r",
        " [-----------------98%----------------- ] 9879 of 10000 complete in 26.1 sec"
       ]
      },
      {
       "output_type": "stream",
       "stream": "stdout",
       "text": [
        "\r",
        " [-----------------100%-----------------] 10000 of 10000 complete in 26.4 sec"
       ]
      }
     ],
     "prompt_number": 36
    },
    {
     "cell_type": "code",
     "collapsed": false,
     "input": [
      "from pymc import traceplot\n",
      "\n",
      "_ = traceplot(tr_dd, vars=['p_d1s1', 'p_s1d1', 'p_s0d0'])"
     ],
     "language": "python",
     "metadata": {},
     "outputs": [
      {
       "metadata": {},
       "output_type": "display_data",
       "png": "[encoded data removed]",
       "text": [
        "<matplotlib.figure.Figure at 0x11acc0110>"
       ]
      }
     ],
     "prompt_number": 37
    },
    {
     "cell_type": "code",
     "collapsed": false,
     "input": [
      "summary(tr_dd, vars=['p_d1s1', 'p_s1d1', 'p_s0d0'])"
     ],
     "language": "python",
     "metadata": {},
     "outputs": [
      {
       "output_type": "stream",
       "stream": "stdout",
       "text": [
        "\n",
        "p_d1s1:\n",
        " \n",
        "  Mean             SD               MC Error         95% HPD interval\n",
        "  -------------------------------------------------------------------\n",
        "  0.581            0.031            0.001            [0.519, 0.639]\n"
       ]
      },
      {
       "output_type": "stream",
       "stream": "stdout",
       "text": [
        "\n",
        "  Posterior quantiles:\n",
        "  2.5            25             50             75             97.5\n",
        "  |--------------|==============|==============|--------------|\n",
        "  0.520          0.560          0.581          0.601          0.641\n",
        "\n",
        "\n",
        "p_s1d1:\n",
        " \n",
        "  Mean             SD               MC Error         95% HPD interval\n",
        "  -------------------------------------------------------------------\n",
        "  0.838            0.031            0.000            [0.777, 0.897]\n"
       ]
      },
      {
       "output_type": "stream",
       "stream": "stdout",
       "text": [
        "\n",
        "  Posterior quantiles:\n",
        "  2.5            25             50             75             97.5\n",
        "  |--------------|==============|==============|--------------|\n",
        "  0.772          0.818          0.840          0.859          0.893\n",
        "\n",
        "\n",
        "p_s0d0:\n",
        " \n",
        "  Mean             SD               MC Error         95% HPD interval\n",
        "  -------------------------------------------------------------------\n",
        "  0.320            0.060            0.001            [0.207, 0.440]\n"
       ]
      },
      {
       "output_type": "stream",
       "stream": "stdout",
       "text": [
        "\n",
        "  Posterior quantiles:\n",
        "  2.5            25             50             75             97.5\n",
        "  |--------------|==============|==============|--------------|\n",
        "  0.209          0.279          0.319          0.359          0.443\n",
        "\n"
       ]
      }
     ],
     "prompt_number": 38
    },
    {
     "cell_type": "markdown",
     "metadata": {},
     "source": [
      "Sensitivity goodness-of-fit:"
     ]
    },
    {
     "cell_type": "code",
     "collapsed": false,
     "input": [
      "rbinom = np.random.binomial\n",
      "\n",
      "tp = dd_data.tp.values\n",
      "tn = dd_data.tn.values\n",
      "fp = dd_data.fp.values\n",
      "fn = dd_data.fn.values\n",
      "\n",
      "try:\n",
      "    p_sens = tr_dd.traces[0][-5000:]['p_s1d1']\n",
      "except AttributeError:\n",
      "    p_sens = tr_dd[-5000:]['p_s1d1']\n",
      "\n",
      "x = np.empty((len(all_data), len(p_sens)))\n",
      "for i,d in enumerate(all_data):\n",
      "    \n",
      "    x[i] = rbinom(tp[d]+fn[d], p_sens)\n",
      "    plt.figure()\n",
      "    plt.hist(x[i])\n",
      "    axvline(x=tp[d], linewidth=2, color='r', linestyle='dotted')"
     ],
     "language": "python",
     "metadata": {},
     "outputs": [
      {
       "metadata": {},
       "output_type": "display_data",
       "png": "[encoded data removed]",
       "text": [
        "<matplotlib.figure.Figure at 0x11c228cd0>"
       ]
      },
      {
       "metadata": {},
       "output_type": "display_data",
       "png": "[encoded data removed]",
       "text": [
        "<matplotlib.figure.Figure at 0x11c1f4950>"
       ]
      },
      {
       "metadata": {},
       "output_type": "display_data",
       "png": "[encoded data removed]",
       "text": [
        "<matplotlib.figure.Figure at 0x11c1a8d50>"
       ]
      }
     ],
     "prompt_number": 39
    },
    {
     "cell_type": "markdown",
     "metadata": {},
     "source": [
      "Specificity goodness-of-fit:"
     ]
    },
    {
     "cell_type": "code",
     "collapsed": false,
     "input": [
      "try:\n",
      "    p_spec = tr_dd.traces[0][-5000:]['p_s0d0']\n",
      "except AttributeError:\n",
      "    p_spec = tr_dd[-5000:]['p_s0d0']\n",
      "\n",
      "x_spec = np.empty((len(all_data), len(p_spec)))\n",
      "for i,d in enumerate(all_data):\n",
      "    \n",
      "    x_spec[i] = rbinom(tn[d]+fp[d], p_spec)\n",
      "    plt.figure()\n",
      "    plt.hist(x_spec[i])\n",
      "    axvline(x=tn[d], linewidth=2, color='r', linestyle='dotted')"
     ],
     "language": "python",
     "metadata": {},
     "outputs": [
      {
       "metadata": {},
       "output_type": "display_data",
       "png": "[encoded data removed]",
       "text": [
        "<matplotlib.figure.Figure at 0x11ac5b4d0>"
       ]
      },
      {
       "metadata": {},
       "output_type": "display_data",
       "png": "[encoded data removed]",
       "text": [
        "<matplotlib.figure.Figure at 0x11c5a0ad0>"
       ]
      },
      {
       "metadata": {},
       "output_type": "display_data",
       "png": "[encoded data removed]",
       "text": [
        "<matplotlib.figure.Figure at 0x11c1d5850>"
       ]
      }
     ],
     "prompt_number": 40
    },
    {
     "cell_type": "markdown",
     "metadata": {},
     "source": [
      "PPV goodness-of-fit:"
     ]
    },
    {
     "cell_type": "code",
     "collapsed": false,
     "input": [
      "try:\n",
      "    p_ppv = tr_dd.traces[0][-5000:]['p_d1s1']\n",
      "except AttributeError:\n",
      "    p_ppv = tr_dd[-5000:]['p_d1s1']\n",
      "    \n",
      "x_ppv = np.empty((len(ppv_only), len(p_ppv)))\n",
      "for i,d in enumerate(ppv_only):\n",
      "    \n",
      "    x_ppv[i] = rbinom(tp[d]+fp[d], p_ppv)\n",
      "    plt.figure()\n",
      "    plt.hist(x_ppv[i])\n",
      "    axvline(x=tp[d], linewidth=2, color='r', linestyle='dotted')"
     ],
     "language": "python",
     "metadata": {},
     "outputs": [
      {
       "metadata": {},
       "output_type": "display_data",
       "png": "[encoded data removed]",
       "text": [
        "<matplotlib.figure.Figure at 0x119d4f5d0>"
       ]
      }
     ],
     "prompt_number": 41
    },
    {
     "cell_type": "markdown",
     "metadata": {},
     "source": [
      "## English-only subset"
     ]
    },
    {
     "cell_type": "code",
     "collapsed": false,
     "input": [
      "eng_data = mchat_data[mchat_data.country.isin(['Canada','USA'])]"
     ],
     "language": "python",
     "metadata": {},
     "outputs": [],
     "prompt_number": 42
    },
    {
     "cell_type": "code",
     "collapsed": false,
     "input": [
      "all_data = where(eng_data.fn.notnull().values)[0]\n",
      "all_data"
     ],
     "language": "python",
     "metadata": {},
     "outputs": [
      {
       "metadata": {},
       "output_type": "pyout",
       "prompt_number": 43,
       "text": [
        "array([0, 1, 2])"
       ]
      }
     ],
     "prompt_number": 43
    },
    {
     "cell_type": "code",
     "collapsed": false,
     "input": [
      "ppv_only = where(eng_data.fn.isnull().values)[0]\n",
      "ppv_only"
     ],
     "language": "python",
     "metadata": {},
     "outputs": [
      {
       "metadata": {},
       "output_type": "pyout",
       "prompt_number": 44,
       "text": [
        "array([3, 4])"
       ]
      }
     ],
     "prompt_number": 44
    },
    {
     "cell_type": "code",
     "collapsed": false,
     "input": [
      "with Model() as eng_model:\n",
      "    \n",
      "    tp = eng_data.tp.values\n",
      "    tn = eng_data.tn.values\n",
      "    fp = eng_data.fp.values\n",
      "    fn = eng_data.fn.values\n",
      "    pop = eng_data.popval\n",
      "    \n",
      "    p_d1s1 = Beta('p_d1s1', 1, 1)\n",
      "    p_d1s0 = Beta('p_d1s0', 1, 1)\n",
      "    p_s1 = Beta('p_s1', 1, 1)\n",
      "    \n",
      "    # Probability of positive diagnosis\n",
      "    p_d1 = p_d1s1 * p_s1 + p_d1s0 * (1 - p_s1)\n",
      "    # Probability of negative diagnosis\n",
      "    p_d0 = 1 - p_d1\n",
      "    # Sensitivity (via Bayes)\n",
      "    p_s1d1 = Deterministic('p_s1d1', (p_d1s1 * p_s1) / p_d1)\n",
      "    # Specificity (via Bayes)\n",
      "    p_s0d0 = Deterministic('p_s0d0', (1 - p_d1s0) * (1 - p_s1) / p_d0)\n",
      "    \n",
      "    # Data likelihoods for sensitivity and specificity\n",
      "    sensitivity = Binomial('sensitivity', n=tp[all_data]+fn[all_data], p=p_s1d1, \n",
      "                           observed=tp[all_data])\n",
      "    specificity = Binomial('specificity', n=tn[all_data]+fp[all_data], p=p_s0d0, \n",
      "                           observed=tn[all_data])\n",
      "    \n",
      "    # Data likelihood for PPV\n",
      "    ppv = Binomial('ppv', n=tp[ppv_only]+fp[ppv_only], p=p_d1s1, observed=tp[ppv_only])"
     ],
     "language": "python",
     "metadata": {},
     "outputs": [],
     "prompt_number": 45
    },
    {
     "cell_type": "code",
     "collapsed": false,
     "input": [
      "from pymc import NUTS, Metropolis, sample, Slice, find_MAP, psample\n",
      "\n",
      "with eng_model:\n",
      "    \n",
      "    start = find_MAP()\n",
      "    step = NUTS()\n",
      "    \n",
      "    tr_eng = sample(10000, step, start)"
     ],
     "language": "python",
     "metadata": {},
     "outputs": [
      {
       "output_type": "stream",
       "stream": "stdout",
       "text": [
        "\r",
        " [                  1%                  ] 140 of 10000 complete in 0.5 sec"
       ]
      },
      {
       "output_type": "stream",
       "stream": "stdout",
       "text": [
        "\r",
        " [-                 2%                  ] 266 of 10000 complete in 1.0 sec"
       ]
      },
      {
       "output_type": "stream",
       "stream": "stdout",
       "text": [
        "\r",
        " [-                 3%                  ] 396 of 10000 complete in 1.5 sec"
       ]
      },
      {
       "output_type": "stream",
       "stream": "stdout",
       "text": [
        "\r",
        " [--                5%                  ] 548 of 10000 complete in 2.0 sec"
       ]
      },
      {
       "output_type": "stream",
       "stream": "stdout",
       "text": [
        "\r",
        " [--                6%                  ] 679 of 10000 complete in 2.5 sec"
       ]
      },
      {
       "output_type": "stream",
       "stream": "stdout",
       "text": [
        "\r",
        " [---               8%                  ] 825 of 10000 complete in 3.0 sec"
       ]
      },
      {
       "output_type": "stream",
       "stream": "stdout",
       "text": [
        "\r",
        " [---               9%                  ] 991 of 10000 complete in 3.5 sec"
       ]
      },
      {
       "output_type": "stream",
       "stream": "stdout",
       "text": [
        "\r",
        " [----             11%                  ] 1135 of 10000 complete in 4.0 sec"
       ]
      },
      {
       "output_type": "stream",
       "stream": "stdout",
       "text": [
        "\r",
        " [----             13%                  ] 1301 of 10000 complete in 4.5 sec"
       ]
      },
      {
       "output_type": "stream",
       "stream": "stdout",
       "text": [
        "\r",
        " [-----            14%                  ] 1459 of 10000 complete in 5.0 sec"
       ]
      },
      {
       "output_type": "stream",
       "stream": "stdout",
       "text": [
        "\r",
        " [------           16%                  ] 1617 of 10000 complete in 5.5 sec"
       ]
      },
      {
       "output_type": "stream",
       "stream": "stdout",
       "text": [
        "\r",
        " [------           17%                  ] 1769 of 10000 complete in 6.0 sec"
       ]
      },
      {
       "output_type": "stream",
       "stream": "stdout",
       "text": [
        "\r",
        " [-------          19%                  ] 1903 of 10000 complete in 6.5 sec"
       ]
      },
      {
       "output_type": "stream",
       "stream": "stdout",
       "text": [
        "\r",
        " [-------          20%                  ] 2048 of 10000 complete in 7.0 sec"
       ]
      },
      {
       "output_type": "stream",
       "stream": "stdout",
       "text": [
        "\r",
        " [--------         21%                  ] 2164 of 10000 complete in 7.5 sec"
       ]
      },
      {
       "output_type": "stream",
       "stream": "stdout",
       "text": [
        "\r",
        " [--------         22%                  ] 2268 of 10000 complete in 8.0 sec"
       ]
      },
      {
       "output_type": "stream",
       "stream": "stdout",
       "text": [
        "\r",
        " [--------         23%                  ] 2354 of 10000 complete in 8.5 sec"
       ]
      },
      {
       "output_type": "stream",
       "stream": "stdout",
       "text": [
        "\r",
        " [---------        24%                  ] 2470 of 10000 complete in 9.0 sec"
       ]
      },
      {
       "output_type": "stream",
       "stream": "stdout",
       "text": [
        "\r",
        " [---------        25%                  ] 2594 of 10000 complete in 9.5 sec"
       ]
      },
      {
       "output_type": "stream",
       "stream": "stdout",
       "text": [
        "\r",
        " [----------       27%                  ] 2739 of 10000 complete in 10.0 sec"
       ]
      },
      {
       "output_type": "stream",
       "stream": "stdout",
       "text": [
        "\r",
        " [----------       28%                  ] 2874 of 10000 complete in 10.6 sec"
       ]
      },
      {
       "output_type": "stream",
       "stream": "stdout",
       "text": [
        "\r",
        " [-----------      30%                  ] 3050 of 10000 complete in 11.1 sec"
       ]
      },
      {
       "output_type": "stream",
       "stream": "stdout",
       "text": [
        "\r",
        " [------------     32%                  ] 3220 of 10000 complete in 11.6 sec"
       ]
      },
      {
       "output_type": "stream",
       "stream": "stdout",
       "text": [
        "\r",
        " [------------     33%                  ] 3388 of 10000 complete in 12.1 sec"
       ]
      },
      {
       "output_type": "stream",
       "stream": "stdout",
       "text": [
        "\r",
        " [-------------    35%                  ] 3565 of 10000 complete in 12.6 sec"
       ]
      },
      {
       "output_type": "stream",
       "stream": "stdout",
       "text": [
        "\r",
        " [--------------   37%                  ] 3736 of 10000 complete in 13.1 sec"
       ]
      },
      {
       "output_type": "stream",
       "stream": "stdout",
       "text": [
        "\r",
        " [--------------   39%                  ] 3912 of 10000 complete in 13.6 sec"
       ]
      },
      {
       "output_type": "stream",
       "stream": "stdout",
       "text": [
        "\r",
        " [---------------  41%                  ] 4106 of 10000 complete in 14.1 sec"
       ]
      },
      {
       "output_type": "stream",
       "stream": "stdout",
       "text": [
        "\r",
        " [---------------- 42%                  ] 4277 of 10000 complete in 14.6 sec"
       ]
      },
      {
       "output_type": "stream",
       "stream": "stdout",
       "text": [
        "\r",
        " [---------------- 44%                  ] 4443 of 10000 complete in 15.1 sec"
       ]
      },
      {
       "output_type": "stream",
       "stream": "stdout",
       "text": [
        "\r",
        " [-----------------46%                  ] 4609 of 10000 complete in 15.6 sec"
       ]
      },
      {
       "output_type": "stream",
       "stream": "stdout",
       "text": [
        "\r",
        " [-----------------47%                  ] 4771 of 10000 complete in 16.1 sec"
       ]
      },
      {
       "output_type": "stream",
       "stream": "stdout",
       "text": [
        "\r",
        " [-----------------49%                  ] 4904 of 10000 complete in 16.6 sec"
       ]
      },
      {
       "output_type": "stream",
       "stream": "stdout",
       "text": [
        "\r",
        " [-----------------50%                  ] 5068 of 10000 complete in 17.1 sec"
       ]
      },
      {
       "output_type": "stream",
       "stream": "stdout",
       "text": [
        "\r",
        " [-----------------52%                  ] 5246 of 10000 complete in 17.6 sec"
       ]
      },
      {
       "output_type": "stream",
       "stream": "stdout",
       "text": [
        "\r",
        " [-----------------54%                  ] 5413 of 10000 complete in 18.1 sec"
       ]
      },
      {
       "output_type": "stream",
       "stream": "stdout",
       "text": [
        "\r",
        " [-----------------55%-                 ] 5593 of 10000 complete in 18.6 sec"
       ]
      },
      {
       "output_type": "stream",
       "stream": "stdout",
       "text": [
        "\r",
        " [-----------------57%-                 ] 5766 of 10000 complete in 19.1 sec"
       ]
      },
      {
       "output_type": "stream",
       "stream": "stdout",
       "text": [
        "\r",
        " [-----------------59%--                ] 5936 of 10000 complete in 19.6 sec"
       ]
      },
      {
       "output_type": "stream",
       "stream": "stdout",
       "text": [
        "\r",
        " [-----------------60%---               ] 6088 of 10000 complete in 20.1 sec"
       ]
      },
      {
       "output_type": "stream",
       "stream": "stdout",
       "text": [
        "\r",
        " [-----------------62%---               ] 6253 of 10000 complete in 20.6 sec"
       ]
      },
      {
       "output_type": "stream",
       "stream": "stdout",
       "text": [
        "\r",
        " [-----------------64%----              ] 6409 of 10000 complete in 21.1 sec"
       ]
      },
      {
       "output_type": "stream",
       "stream": "stdout",
       "text": [
        "\r",
        " [-----------------65%----              ] 6560 of 10000 complete in 21.6 sec"
       ]
      },
      {
       "output_type": "stream",
       "stream": "stdout",
       "text": [
        "\r",
        " [-----------------67%-----             ] 6726 of 10000 complete in 22.1 sec"
       ]
      },
      {
       "output_type": "stream",
       "stream": "stdout",
       "text": [
        "\r",
        " [-----------------68%------            ] 6894 of 10000 complete in 22.6 sec"
       ]
      },
      {
       "output_type": "stream",
       "stream": "stdout",
       "text": [
        "\r",
        " [-----------------70%------            ] 7030 of 10000 complete in 23.1 sec"
       ]
      },
      {
       "output_type": "stream",
       "stream": "stdout",
       "text": [
        "\r",
        " [-----------------71%-------           ] 7188 of 10000 complete in 23.6 sec"
       ]
      },
      {
       "output_type": "stream",
       "stream": "stdout",
       "text": [
        "\r",
        " [-----------------73%-------           ] 7342 of 10000 complete in 24.1 sec"
       ]
      },
      {
       "output_type": "stream",
       "stream": "stdout",
       "text": [
        "\r",
        " [-----------------74%--------          ] 7496 of 10000 complete in 24.6 sec"
       ]
      },
      {
       "output_type": "stream",
       "stream": "stdout",
       "text": [
        "\r",
        " [-----------------76%---------         ] 7651 of 10000 complete in 25.1 sec"
       ]
      },
      {
       "output_type": "stream",
       "stream": "stdout",
       "text": [
        "\r",
        " [-----------------78%---------         ] 7806 of 10000 complete in 25.6 sec"
       ]
      },
      {
       "output_type": "stream",
       "stream": "stdout",
       "text": [
        "\r",
        " [-----------------79%----------        ] 7974 of 10000 complete in 26.1 sec"
       ]
      },
      {
       "output_type": "stream",
       "stream": "stdout",
       "text": [
        "\r",
        " [-----------------81%-----------       ] 8160 of 10000 complete in 26.6 sec"
       ]
      },
      {
       "output_type": "stream",
       "stream": "stdout",
       "text": [
        "\r",
        " [-----------------83%-----------       ] 8323 of 10000 complete in 27.1 sec"
       ]
      },
      {
       "output_type": "stream",
       "stream": "stdout",
       "text": [
        "\r",
        " [-----------------84%------------      ] 8486 of 10000 complete in 27.6 sec"
       ]
      },
      {
       "output_type": "stream",
       "stream": "stdout",
       "text": [
        "\r",
        " [-----------------86%------------      ] 8650 of 10000 complete in 28.1 sec"
       ]
      },
      {
       "output_type": "stream",
       "stream": "stdout",
       "text": [
        "\r",
        " [-----------------88%-------------     ] 8834 of 10000 complete in 28.6 sec"
       ]
      },
      {
       "output_type": "stream",
       "stream": "stdout",
       "text": [
        "\r",
        " [-----------------89%--------------    ] 8994 of 10000 complete in 29.1 sec"
       ]
      },
      {
       "output_type": "stream",
       "stream": "stdout",
       "text": [
        "\r",
        " [-----------------91%--------------    ] 9178 of 10000 complete in 29.6 sec"
       ]
      },
      {
       "output_type": "stream",
       "stream": "stdout",
       "text": [
        "\r",
        " [-----------------93%---------------   ] 9332 of 10000 complete in 30.1 sec"
       ]
      },
      {
       "output_type": "stream",
       "stream": "stdout",
       "text": [
        "\r",
        " [-----------------95%----------------  ] 9504 of 10000 complete in 30.6 sec"
       ]
      },
      {
       "output_type": "stream",
       "stream": "stdout",
       "text": [
        "\r",
        " [-----------------96%----------------  ] 9685 of 10000 complete in 31.1 sec"
       ]
      },
      {
       "output_type": "stream",
       "stream": "stdout",
       "text": [
        "\r",
        " [-----------------98%----------------- ] 9866 of 10000 complete in 31.6 sec"
       ]
      },
      {
       "output_type": "stream",
       "stream": "stdout",
       "text": [
        "\r",
        " [-----------------100%-----------------] 10000 of 10000 complete in 32.1 sec"
       ]
      }
     ],
     "prompt_number": 46
    },
    {
     "cell_type": "code",
     "collapsed": false,
     "input": [
      "from pymc import traceplot\n",
      "\n",
      "_ = traceplot(tr_eng, vars=['p_d1s1', 'p_s1d1', 'p_s0d0'])"
     ],
     "language": "python",
     "metadata": {},
     "outputs": [
      {
       "metadata": {},
       "output_type": "display_data",
       "png": "[encoded data removed]",
       "text": [
        "<matplotlib.figure.Figure at 0x11a316790>"
       ]
      }
     ],
     "prompt_number": 47
    },
    {
     "cell_type": "code",
     "collapsed": false,
     "input": [
      "from pymc import summary\n",
      "\n",
      "summary(tr_eng, vars=['p_d1s1', 'p_s1d1', 'p_s0d0'])"
     ],
     "language": "python",
     "metadata": {},
     "outputs": [
      {
       "output_type": "stream",
       "stream": "stdout",
       "text": [
        "\n",
        "p_d1s1:\n",
        " \n",
        "  Mean             SD               MC Error         95% HPD interval\n",
        "  -------------------------------------------------------------------\n",
        "  0.563            0.024            0.000            [0.518, 0.608]\n"
       ]
      },
      {
       "output_type": "stream",
       "stream": "stdout",
       "text": [
        "\n",
        "  Posterior quantiles:\n",
        "  2.5            25             50             75             97.5\n",
        "  |--------------|==============|==============|--------------|\n",
        "  0.518          0.547          0.563          0.580          0.609\n",
        "\n",
        "\n",
        "p_s1d1:\n",
        " \n",
        "  Mean             SD               MC Error         95% HPD interval\n",
        "  -------------------------------------------------------------------\n",
        "  0.837            0.031            0.000            [0.777, 0.896]\n",
        "\n",
        "  Posterior quantiles:\n",
        "  2.5            25             50             75             97.5\n",
        "  |--------------|==============|==============|--------------|\n",
        "  0.773          0.817          0.839          0.859          0.893\n",
        "\n",
        "\n",
        "p_s0d0:\n",
        " \n",
        "  Mean             SD               MC Error         95% HPD interval\n",
        "  -------------------------------------------------------------------\n",
        "  0.320            0.060            0.001            [0.205, 0.441]\n"
       ]
      },
      {
       "output_type": "stream",
       "stream": "stdout",
       "text": [
        "\n",
        "  Posterior quantiles:\n",
        "  2.5            25             50             75             97.5\n",
        "  |--------------|==============|==============|--------------|\n",
        "  0.208          0.278          0.318          0.360          0.445\n",
        "\n"
       ]
      }
     ],
     "prompt_number": 48
    },
    {
     "cell_type": "markdown",
     "metadata": {},
     "source": [
      "Sensitivity goodness-of-fit"
     ]
    },
    {
     "cell_type": "code",
     "collapsed": false,
     "input": [
      "rbinom = np.random.binomial\n",
      "\n",
      "tp = eng_data.tp.values\n",
      "tn = eng_data.tn.values\n",
      "fp = eng_data.fp.values\n",
      "fn = eng_data.fn.values\n",
      "\n",
      "try:\n",
      "    p_sens = tr_eng.traces[0][-5000:]['p_s1d1']\n",
      "except AttributeError:\n",
      "    p_sens = tr_eng[-5000:]['p_s1d1']\n",
      "\n",
      "x = np.empty((len(all_data), len(p_sens)))\n",
      "for i,d in enumerate(all_data):\n",
      "    \n",
      "    x[i] = rbinom(tp[d]+fn[d], p_sens)\n",
      "    plt.figure()\n",
      "    plt.hist(x[i])\n",
      "    axvline(x=tp[d], linewidth=2, color='r', linestyle='dotted')"
     ],
     "language": "python",
     "metadata": {},
     "outputs": [
      {
       "metadata": {},
       "output_type": "display_data",
       "png": "[encoded data removed]",
       "text": [
        "<matplotlib.figure.Figure at 0x11c925090>"
       ]
      },
      {
       "metadata": {},
       "output_type": "display_data",
       "png": "[encoded data removed]",
       "text": [
        "<matplotlib.figure.Figure at 0x11edcddd0>"
       ]
      },
      {
       "metadata": {},
       "output_type": "display_data",
       "png": "[encoded data removed]",
       "text": [
        "<matplotlib.figure.Figure at 0x11edf6450>"
       ]
      }
     ],
     "prompt_number": 49
    },
    {
     "cell_type": "markdown",
     "metadata": {},
     "source": [
      "Specificity goodness-of-fit"
     ]
    },
    {
     "cell_type": "code",
     "collapsed": false,
     "input": [
      "try:\n",
      "    p_spec = tr_eng.traces[0][-5000:]['p_s0d0']\n",
      "except AttributeError:\n",
      "    p_spec = tr_eng[-5000:]['p_s0d0']\n",
      "\n",
      "x_spec = np.empty((len(all_data), len(p_spec)))\n",
      "for i,d in enumerate(all_data):\n",
      "    \n",
      "    x_spec[i] = rbinom(tn[d]+fp[d], p_spec)\n",
      "    plt.figure()\n",
      "    plt.hist(x_spec[i])\n",
      "    axvline(x=tn[d], linewidth=2, color='r', linestyle='dotted')"
     ],
     "language": "python",
     "metadata": {},
     "outputs": [
      {
       "metadata": {},
       "output_type": "display_data",
       "png": "[encoded data removed]",
       "text": [
        "<matplotlib.figure.Figure at 0x11eb1acd0>"
       ]
      },
      {
       "metadata": {},
       "output_type": "display_data",
       "png": "[encoded data removed]",
       "text": [
        "<matplotlib.figure.Figure at 0x11c925090>"
       ]
      },
      {
       "metadata": {},
       "output_type": "display_data",
       "png": "[encoded data removed]",
       "text": [
        "<matplotlib.figure.Figure at 0x11eddfa50>"
       ]
      }
     ],
     "prompt_number": 50
    },
    {
     "cell_type": "markdown",
     "metadata": {},
     "source": [
      "PPV goodness-of-fit"
     ]
    },
    {
     "cell_type": "code",
     "collapsed": false,
     "input": [
      "try:\n",
      "    p_ppv = tr_eng.traces[0][-5000:]['p_d1s1']\n",
      "except AttributeError:\n",
      "    p_ppv = tr_eng[-5000:]['p_d1s1']\n",
      "    \n",
      "x_ppv = np.empty((len(ppv_only), len(p_ppv)))\n",
      "for i,d in enumerate(ppv_only):\n",
      "    \n",
      "    x_ppv[i] = rbinom(tp[d]+fp[d], p_ppv)\n",
      "    plt.figure()\n",
      "    plt.hist(x_ppv[i])\n",
      "    axvline(x=tp[d], linewidth=2, color='r', linestyle='dotted')"
     ],
     "language": "python",
     "metadata": {},
     "outputs": [
      {
       "metadata": {},
       "output_type": "display_data",
       "png": "[encoded data removed]",
       "text": [
        "<matplotlib.figure.Figure at 0x11f30d450>"
       ]
      },
      {
       "metadata": {},
       "output_type": "display_data",
       "png": "[encoded data removed]",
       "text": [
        "<matplotlib.figure.Figure at 0x11f168890>"
       ]
      }
     ],
     "prompt_number": 51
    },
    {
     "cell_type": "code",
     "collapsed": false,
     "input": [
      "dd_data.study_id"
     ],
     "language": "python",
     "metadata": {},
     "outputs": [
      {
       "metadata": {},
       "output_type": "pyout",
       "prompt_number": 52,
       "text": [
        "16     9\n",
        "17     9\n",
        "26    15\n",
        "35     8\n",
        "Name: study_id, dtype: int64"
       ]
      }
     ],
     "prompt_number": 52
    },
    {
     "cell_type": "code",
     "collapsed": false,
     "input": [
      "eng_data.study_id"
     ],
     "language": "python",
     "metadata": {},
     "outputs": [
      {
       "metadata": {},
       "output_type": "pyout",
       "prompt_number": 53,
       "text": [
        "16     9\n",
        "17     9\n",
        "26    15\n",
        "35     8\n",
        "38    20\n",
        "Name: study_id, dtype: int64"
       ]
      }
     ],
     "prompt_number": 53
    }
   ],
   "metadata": {}
  }
 ]
}